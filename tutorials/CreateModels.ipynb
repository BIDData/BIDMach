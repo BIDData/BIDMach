{
 "cells": [
  {
   "cell_type": "markdown",
   "metadata": {},
   "source": [
    "# Creating Models"
   ]
  },
  {
   "cell_type": "markdown",
   "metadata": {},
   "source": [
    "One of the main goals of BIDMat/BIDMach is to make model creation, customization and experimentation much easier. \n",
    "\n",
    "To that end is has reusable classes that cover the elements of Learning:\n",
    "\n",
    "* Model: The core class for a learning algorithm, and often the only one you need to implement.\n",
    "* DataSource: A source of data, like an in-memory matrix, a set of files (possibly on HDFS) or a data iterator (for Spark).\n",
    "* DataSink: A target for data such as predictions, like an in-memory matrix, a set of files, or an iterator. \n",
    "* Updaters: Update a model using minibatch update from a Model class. Includes SGD, ADAGRAD, Monte-Carlo updates, and multiplicative updates. \n",
    "* Mixins: Secondary Loss functions that are added to the global gradient. Includes L1 and L2 regularizers, cluster quality metrics, factor model metrics. \n",
    "* Learner: Combines the classes above and provides high-level control over the learning process: iterations, stop/start/resume\n",
    "\n",
    "When creating a new model, its often only necessary to creat a new model class. We recently needed a scalable SVD (Singular Value Decomposition) for some student projects. Lets walk through creating this from scratch. "
   ]
  },
  {
   "cell_type": "markdown",
   "metadata": {},
   "source": [
    "# Scalable SVD\n",
    "\n",
    "This model works like the previous example of in-memory SVD for a matrix M. The singular values of M are the eigenvalues of M M^T so we do subspace iteration: \n",
    "\n",
    "$$P = M M^T Q$$\n",
    "$$(Q,R) = QR(P)$$\n",
    "\n",
    "But now we want to deal with an M which is too big to fit in memory. In the minibatch context, we can write M as a horizontal concatenation of mini-batches (this assumes data samples are columns of M and features are rows):\n",
    "\n",
    "$$M = M_1 M_2 \\cdots M_n$$\n",
    "\n",
    "and then $$P = \\sum_{i=1}^n M_i M_i^T Q$$\n",
    "\n",
    "so we can compute $P$ by operating only on the minibatches $M_i$. We need to be able to fit $P$ and $Q$ in memory, their size is only $k~ |F|$ where $k$ is the SVD dimension and $F$ is the feature set. "
   ]
  },
  {
   "cell_type": "markdown",
   "metadata": {},
   "source": [
    "### Model Class"
   ]
  },
  {
   "cell_type": "markdown",
   "metadata": {},
   "source": [
    "We start by defining a new model class which extends BIDMach's Model class. It will always take an Options instance as an argument:\n",
    "\n",
    "<b>\n",
    "<code style=\"color:blue\">\n",
    "class SVD(opts:SVD.Opts = new SVD.Options) extends Model(opts)\n",
    "</code>\n",
    "</b>"
   ]
  },
  {
   "cell_type": "markdown",
   "metadata": {},
   "source": [
    "The options are defined in the \"Object\" associated with the class. In Scala \"Object\" defines a singleton which holds all of the static methods of the class. It looks like this:"
   ]
  },
  {
   "cell_type": "markdown",
   "metadata": {},
   "source": [
    "<b><code style=\"color:blue\">\n",
    "object SVD  {\n",
    "  trait Opts extends Model.Opts {\n",
    "    var deliciousness = 3\n",
    "  }\n",
    "  \n",
    "  class Options extends Opts {}\n",
    "  ...\n",
    "</code></b>"
   ]
  },
  {
   "cell_type": "markdown",
   "metadata": {},
   "source": [
    "Truthfully, an SVD model doesnt need a \"deliciousness\" option, in fact it doesnt need any Options at all - or rather what it needs is inherited from its parent. But its there to show how options are created. The Opts are defined as a trait rather than a class so they can be mixed in with the Options of other learning classes. "
   ]
  },
  {
   "cell_type": "markdown",
   "metadata": {},
   "source": [
    "### Local Variables and Initialization"
   ]
  },
  {
   "cell_type": "markdown",
   "metadata": {},
   "source": [
    "There are three variables we need to keep track of:\n",
    "\n",
    "<b><code style=\"color:blue\">\n",
    "  var Q:Mat = null;                                        // (Left) Singular vectors\n",
    "  var SV:Mat = null;                                       // Singular values\n",
    "  var P:Mat = null;                                        // P (accumulator)\n",
    "</code></b>\n",
    "\n",
    "and an initialization routine sets these to appropriate values."
   ]
  },
  {
   "cell_type": "markdown",
   "metadata": {},
   "source": [
    "### Minibatch Update"
   ]
  },
  {
   "cell_type": "markdown",
   "metadata": {},
   "source": [
    "Each update should update the stable model: Here its $P$:\n",
    "\n",
    "<b><code style=\"color:blue\">\n",
    "  def dobatch(mats:Array[Mat], ipass:Int, pos:Long):Unit = {\n",
    "    val M = mats(0);\n",
    "    P ~ P + (Q.t &ast; M &ast;&#94; M).t                               // Compute P = M &ast; M&#94;t &ast; Q efficiently\n",
    "  }\n",
    "</code></b>"
   ]
  },
  {
   "cell_type": "markdown",
   "metadata": {},
   "source": [
    "### Score Batches"
   ]
  },
  {
   "cell_type": "markdown",
   "metadata": {},
   "source": [
    "The score method should return a floating point vector of scores for this minibatch.\n",
    "\n",
    "<b><code style=\"color:blue\">\n",
    "  def evalbatch(mat:Array[Mat], ipass:Int, pos:Long):FMat = {\n",
    "    SV ~ P ∙ Q;                                            // Estimate the singular values\n",
    "    val diff = (P / SV) - Q;                               // residual\n",
    "    row(-(math.sqrt(norm(diff) / diff.length)));           // return the norm of the residual\n",
    "  }\n",
    "</code></b>"
   ]
  },
  {
   "cell_type": "markdown",
   "metadata": {},
   "source": [
    "### Update the Model"
   ]
  },
  {
   "cell_type": "markdown",
   "metadata": {},
   "source": [
    "At the end of a pass over the data, we update $Q$. Not all models need this step, and minibatch algorithms typically dont have it. \n",
    "\n",
    "<b><code style=\"color:blue\">\n",
    "  override def updatePass(ipass:Int) = {   \n",
    "    QRdecompt(P, Q, null);                                 // Basic subspace iteration\n",
    "    P.clear;                                               // Clear P for the next pass\n",
    "  }\n",
    "</code></b>"
   ]
  },
  {
   "cell_type": "markdown",
   "metadata": {},
   "source": [
    "### Convenience Functions"
   ]
  },
  {
   "cell_type": "markdown",
   "metadata": {},
   "source": [
    "We're done defining the SVD model. We can run it now, but to make that easier we'll define a couple of convenience functions."
   ]
  },
  {
   "cell_type": "markdown",
   "metadata": {},
   "source": [
    "### An in-memory Learner"
   ]
  },
  {
   "cell_type": "markdown",
   "metadata": {},
   "source": [
    "<b><code style=\"color:blue\">\n",
    "  class MatOptions extends Learner.Options with SVD.Opts with MatSource.Opts with Batch.Opts\n",
    "  \n",
    "  def learner(mat:Mat):(Learner, MatOptions) = { \n",
    "    val opts = new MatOptions;\n",
    "    opts.batchSize = math.min(100000, mat.ncols/30 + 1)\n",
    "  \tval nn = new Learner(\n",
    "  \t    new MatSource(Array(mat), opts), \n",
    "  \t\t\tnew SVD(opts), \n",
    "  \t\t\tnull,\n",
    "  \t\t\tnew Batch(opts), \n",
    "  \t\t\tnull,\n",
    "  \t\t\topts)\n",
    "    (nn, opts)\n",
    "  }\n",
    "</code></b>"
   ]
  },
  {
   "cell_type": "markdown",
   "metadata": {},
   "source": [
    "### A File-based Learner"
   ]
  },
  {
   "cell_type": "markdown",
   "metadata": {},
   "source": [
    "<b><code style=\"color:blue\">\n",
    "  class FileOptions extends Learner.Options with SVD.Opts with FileSource.Opts with Batch.Opts\n",
    "  \n",
    "  def learner(fnames:String):(Learner, FileOptions) = { \n",
    "    val opts = new FileOptions;\n",
    "    opts.batchSize = 10000;\n",
    "    opts.fnames = List(FileSource.simpleEnum(fnames, 1, 0));\n",
    "    implicit val threads = threadPool(4);\n",
    "  \tval nn = new Learner(\n",
    "  \t    new FileSource(opts), \n",
    "  \t\t\tnew SVD(opts), \n",
    "  \t\t\tnull,\n",
    "  \t\t\tnew Batch(opts), \n",
    "  \t\t\tnull,\n",
    "  \t\t\topts)\n",
    "    (nn, opts)\n",
    "  }\n",
    "</code></b>"
   ]
  },
  {
   "cell_type": "markdown",
   "metadata": {},
   "source": [
    "### A Predictor"
   ]
  },
  {
   "cell_type": "markdown",
   "metadata": {},
   "source": [
    "A predictor is a Learner which runs an existing model over a DataSource and outputs to a DataSink. For SVD, the predictor outputs the right singular vectors, which may be too large to fit in memory. Here's a memory-to-memory predictor:\n",
    "\n",
    "<b><code style=\"color:blue\">\n",
    " class PredOptions extends Learner.Options with SVD.Opts with MatSource.Opts with MatSink.Opts;\n",
    "  \n",
    "  // This function constructs a predictor from an existing model \n",
    "  def predictor(model:Model, mat1:Mat):(Learner, PredOptions) = {\n",
    "    val nopts = new PredOptions;\n",
    "    nopts.batchSize = math.min(10000, mat1.ncols/30 + 1)\n",
    "    nopts.dim = model.opts.dim;\n",
    "    val newmod = new SVD(nopts);\n",
    "    newmod.refresh = false\n",
    "    model.copyTo(newmod)\n",
    "    val nn = new Learner(\n",
    "        new MatSource(Array(mat1), nopts), \n",
    "        newmod, \n",
    "        null,\n",
    "        null,\n",
    "        new MatSink(nopts),\n",
    "        nopts)\n",
    "    (nn, nopts)\n",
    "  }\n",
    "</code></b>"
   ]
  },
  {
   "cell_type": "markdown",
   "metadata": {},
   "source": [
    "## Testing"
   ]
  },
  {
   "cell_type": "markdown",
   "metadata": {},
   "source": [
    "Now lets try it out! First we initialize BIDMach as before."
   ]
  },
  {
   "cell_type": "code",
   "execution_count": 1,
   "metadata": {
    "collapsed": false
   },
   "outputs": [
    {
     "name": "stdout",
     "output_type": "stream",
     "text": [
      "1 CUDA device found, CUDA version 7.0\n"
     ]
    },
    {
     "data": {
      "text/plain": [
       "(0.99132067,11974557696,12079398912)"
      ]
     },
     "execution_count": 1,
     "metadata": {},
     "output_type": "execute_result"
    }
   ],
   "source": [
    "import BIDMat.{CMat,CSMat,DMat,Dict,IDict,FMat,FND,GDMat,GMat,GIMat,GLMat,GSDMat,GSMat,\n",
    "               HMat,IMat,Image,LMat,Mat,SMat,SBMat,SDMat}\n",
    "import BIDMat.MatFunctions._\n",
    "import BIDMat.SciFunctions._\n",
    "import BIDMat.Solvers._\n",
    "import BIDMat.Plotting._\n",
    "import BIDMach.Learner\n",
    "import BIDMach.models.{FM,GLM,KMeans,KMeansw,ICA,LDA,LDAgibbs,Model,NMF,RandomForest,SFA,SVD}\n",
    "import BIDMach.datasources.{DataSource,MatSource,FileSource,SFileSource}\n",
    "import BIDMach.mixins.{CosineSim,Perplexity,Top,L1Regularizer,L2Regularizer}\n",
    "import BIDMach.updaters.{ADAGrad,Batch,BatchNorm,IncMult,IncNorm,Telescoping}\n",
    "import BIDMach.causal.{IPTW}\n",
    "\n",
    "Mat.checkMKL\n",
    "Mat.checkCUDA\n",
    "Mat.inline = true\n",
    "if (Mat.hasCUDA > 0) GPUmem"
   ]
  },
  {
   "cell_type": "markdown",
   "metadata": {},
   "source": [
    "We'll run on the MNIST 8M (8 millon images) digit data, which is a large dataset distributed over multiple files"
   ]
  },
  {
   "cell_type": "code",
   "execution_count": 2,
   "metadata": {
    "collapsed": false
   },
   "outputs": [
    {
     "name": "stdout",
     "output_type": "stream",
     "text": []
    }
   ],
   "source": [
    "val dir=\"../data/MNIST8M/parts/\"\n",
    "val (nn, opts) = SVD.learner(dir+\"data%02d.fmat.lz4\");"
   ]
  },
  {
   "cell_type": "markdown",
   "metadata": {},
   "source": [
    "Let's set some options:"
   ]
  },
  {
   "cell_type": "code",
   "execution_count": 17,
   "metadata": {
    "collapsed": false
   },
   "outputs": [
    {
     "name": "stdout",
     "output_type": "stream",
     "text": []
    }
   ],
   "source": [
    "opts.nend = 10;\n",
    "opts.dim = 20;\n",
    "opts.npasses = 20;\n",
    "opts.batchSize = 50000;"
   ]
  },
  {
   "cell_type": "markdown",
   "metadata": {},
   "source": [
    "and release the beast:"
   ]
  },
  {
   "cell_type": "code",
   "execution_count": 18,
   "metadata": {
    "collapsed": false
   },
   "outputs": [
    {
     "name": "stdout",
     "output_type": "stream",
     "text": [
      "pass= 0\n",
      "10.00%, ll=-0.05482, gf=5.083, secs=0.6, GB=0.31, MB/s=508.27, GPUmem=0.975999\n",
      "64.00%, ll=-0.05417, gf=15.084, secs=2.3, GB=2.04, MB/s=891.30, GPUmem=0.975999\n",
      "100.00%, ll=-0.05416, gf=17.485, secs=3.0, GB=3.14, MB/s=1028.53, GPUmem=0.975999\n",
      "pass= 1\n",
      "10.00%, ll=-0.01638, gf=16.216, secs=3.5, GB=3.45, MB/s=990.98, GPUmem=0.975912\n",
      "64.00%, ll=-0.01638, gf=21.313, secs=4.1, GB=5.17, MB/s=1255.92, GPUmem=0.975912\n",
      "100.00%, ll=-0.01638, gf=23.679, secs=4.5, GB=6.27, MB/s=1392.85, GPUmem=0.975912\n",
      "pass= 2\n",
      "10.00%, ll=-0.01518, gf=21.573, secs=5.1, GB=6.59, MB/s=1294.34, GPUmem=0.975912\n",
      "64.00%, ll=-0.01107, gf=20.808, secs=6.8, GB=8.31, MB/s=1225.36, GPUmem=0.975912\n",
      "100.00%, ll=-0.01103, gf=21.181, secs=7.6, GB=9.41, MB/s=1245.93, GPUmem=0.975912\n",
      "pass= 3\n",
      "10.00%, ll=-0.00891, gf=20.392, secs=8.0, GB=9.72, MB/s=1215.66, GPUmem=0.975912\n",
      "64.00%, ll=-0.00889, gf=22.609, secs=8.6, GB=11.45, MB/s=1330.98, GPUmem=0.975912\n",
      "100.00%, ll=-0.00889, gf=23.766, secs=9.0, GB=12.54, MB/s=1397.97, GPUmem=0.975912\n",
      "pass= 4\n",
      "10.00%, ll=-0.01419, gf=22.680, secs=9.5, GB=12.86, MB/s=1347.62, GPUmem=0.975912\n",
      "64.00%, ll=-0.00766, gf=21.981, secs=11.3, GB=14.58, MB/s=1293.80, GPUmem=0.975912\n",
      "100.00%, ll=-0.00758, gf=22.061, secs=12.1, GB=15.68, MB/s=1297.69, GPUmem=0.975912\n",
      "pass= 5\n",
      "10.00%, ll=-0.00667, gf=21.569, secs=12.5, GB=15.99, MB/s=1279.08, GPUmem=0.975912\n",
      "64.00%, ll=-0.00663, gf=22.905, secs=13.1, GB=17.72, MB/s=1348.02, GPUmem=0.975912\n",
      "100.00%, ll=-0.00663, gf=23.642, secs=13.5, GB=18.82, MB/s=1390.69, GPUmem=0.975912\n",
      "pass= 6\n",
      "10.00%, ll=-0.01363, gf=22.909, secs=14.1, GB=19.13, MB/s=1356.71, GPUmem=0.975912\n",
      "64.00%, ll=-0.00600, gf=22.437, secs=15.8, GB=20.85, MB/s=1320.40, GPUmem=0.975912\n",
      "100.00%, ll=-0.00587, gf=22.511, secs=16.6, GB=21.95, MB/s=1324.16, GPUmem=0.975912\n",
      "pass= 7\n",
      "10.00%, ll=-0.00546, gf=22.140, secs=17.0, GB=22.27, MB/s=1309.90, GPUmem=0.975912\n",
      "64.00%, ll=-0.00538, gf=23.118, secs=17.6, GB=23.99, MB/s=1360.39, GPUmem=0.975912\n",
      "100.00%, ll=-0.00539, gf=23.684, secs=18.0, GB=25.09, MB/s=1393.16, GPUmem=0.975912\n",
      "pass= 8\n",
      "10.00%, ll=-0.01335, gf=23.111, secs=18.6, GB=25.40, MB/s=1366.41, GPUmem=0.975912\n",
      "64.00%, ll=-0.00522, gf=22.767, secs=20.2, GB=27.13, MB/s=1339.64, GPUmem=0.975912\n",
      "100.00%, ll=-0.00502, gf=22.781, secs=21.1, GB=28.22, MB/s=1340.04, GPUmem=0.975912\n",
      "pass= 9\n",
      "10.00%, ll=-0.00484, gf=22.514, secs=21.5, GB=28.54, MB/s=1330.36, GPUmem=0.975912\n",
      "64.00%, ll=-0.00473, gf=23.200, secs=22.2, GB=30.26, MB/s=1365.08, GPUmem=0.975912\n",
      "100.00%, ll=-0.00473, gf=23.620, secs=22.6, GB=31.36, MB/s=1389.39, GPUmem=0.975912\n",
      "pass=10\n",
      "10.00%, ll=-0.01318, gf=23.179, secs=23.1, GB=31.67, MB/s=1369.02, GPUmem=0.975912\n",
      "64.00%, ll=-0.00478, gf=22.878, secs=24.8, GB=33.40, MB/s=1346.11, GPUmem=0.975912\n",
      "100.00%, ll=-0.00452, gf=22.921, secs=25.6, GB=34.50, MB/s=1348.29, GPUmem=0.975912\n",
      "pass=11\n",
      "10.00%, ll=-0.00441, gf=22.641, secs=26.0, GB=34.81, MB/s=1336.77, GPUmem=0.975912\n",
      "64.00%, ll=-0.00427, gf=23.303, secs=26.6, GB=36.53, MB/s=1371.10, GPUmem=0.975912\n",
      "100.00%, ll=-0.00427, gf=23.676, secs=27.0, GB=37.63, MB/s=1392.69, GPUmem=0.975912\n",
      "pass=12\n",
      "10.00%, ll=-0.01306, gf=23.286, secs=27.6, GB=37.95, MB/s=1374.39, GPUmem=0.975912\n",
      "64.00%, ll=-0.00444, gf=23.029, secs=29.3, GB=39.67, MB/s=1354.91, GPUmem=0.975912\n",
      "100.00%, ll=-0.00413, gf=23.038, secs=30.1, GB=40.77, MB/s=1355.14, GPUmem=0.975912\n",
      "pass=13\n",
      "10.00%, ll=-0.00408, gf=22.819, secs=30.5, GB=41.08, MB/s=1346.50, GPUmem=0.975912\n",
      "64.00%, ll=-0.00391, gf=23.385, secs=31.1, GB=42.81, MB/s=1375.88, GPUmem=0.975912\n",
      "100.00%, ll=-0.00391, gf=23.699, secs=31.5, GB=43.90, MB/s=1394.04, GPUmem=0.975912\n",
      "pass=14\n",
      "10.00%, ll=-0.01297, gf=23.386, secs=32.0, GB=44.22, MB/s=1379.64, GPUmem=0.975912\n",
      "64.00%, ll=-0.00420, gf=23.148, secs=33.7, GB=45.94, MB/s=1361.90, GPUmem=0.975912\n",
      "100.00%, ll=-0.00382, gf=23.165, secs=34.5, GB=47.04, MB/s=1362.65, GPUmem=0.975912\n",
      "pass=15\n",
      "10.00%, ll=-0.00385, gf=22.965, secs=35.0, GB=47.35, MB/s=1354.55, GPUmem=0.975912\n",
      "64.00%, ll=-0.00365, gf=23.442, secs=35.6, GB=49.08, MB/s=1379.19, GPUmem=0.975912\n",
      "100.00%, ll=-0.00366, gf=23.722, secs=36.0, GB=50.18, MB/s=1395.37, GPUmem=0.975912\n",
      "pass=16\n",
      "10.00%, ll=-0.01291, gf=23.435, secs=36.5, GB=50.49, MB/s=1382.03, GPUmem=0.975912\n",
      "64.00%, ll=-0.00404, gf=23.238, secs=38.2, GB=52.21, MB/s=1367.16, GPUmem=0.975912\n",
      "100.00%, ll=-0.00362, gf=23.226, secs=39.0, GB=53.31, MB/s=1366.20, GPUmem=0.975912\n",
      "pass=17\n",
      "10.00%, ll=-0.00368, gf=23.025, secs=39.5, GB=53.63, MB/s=1357.68, GPUmem=0.975912\n",
      "64.00%, ll=-0.00348, gf=23.447, secs=40.1, GB=55.35, MB/s=1379.41, GPUmem=0.975912\n",
      "100.00%, ll=-0.00349, gf=23.690, secs=40.5, GB=56.45, MB/s=1393.50, GPUmem=0.975912\n",
      "pass=18\n",
      "10.00%, ll=-0.01286, gf=23.432, secs=41.1, GB=56.76, MB/s=1381.46, GPUmem=0.975912\n",
      "64.00%, ll=-0.00394, gf=23.229, secs=42.8, GB=58.49, MB/s=1366.60, GPUmem=0.975912\n",
      "100.00%, ll=-0.00349, gf=23.225, secs=43.6, GB=59.58, MB/s=1366.14, GPUmem=0.975912\n",
      "pass=19\n",
      "10.00%, ll=-0.00357, gf=23.075, secs=44.0, GB=59.90, MB/s=1360.26, GPUmem=0.975912\n",
      "64.00%, ll=-0.00336, gf=23.440, secs=44.7, GB=61.62, MB/s=1378.98, GPUmem=0.975912\n",
      "100.00%, ll=-0.00338, gf=23.663, secs=45.1, GB=62.72, MB/s=1391.89, GPUmem=0.975912\n",
      "Time=45.0610 secs, gflops=23.66\n"
     ]
    }
   ],
   "source": [
    "nn.train"
   ]
  },
  {
   "cell_type": "markdown",
   "metadata": {},
   "source": [
    "The model matrices for this model hold the results. They are generic matrices, so we cast them to FMats:"
   ]
  },
  {
   "cell_type": "code",
   "execution_count": 19,
   "metadata": {
    "collapsed": false
   },
   "outputs": [
    {
     "name": "stdout",
     "output_type": "stream",
     "text": []
    }
   ],
   "source": [
    "val svals = FMat(nn.modelmats(1));\n",
    "val svecs = FMat(nn.modelmats(0));"
   ]
  },
  {
   "cell_type": "markdown",
   "metadata": {},
   "source": [
    "To see how well we did, we will compute the SVD directly by computing M M^T and computing its eigendecomposition. Normally we can't do this because MM^T is nfeats x nfeats, but for this dataset nfeats is only 784. "
   ]
  },
  {
   "cell_type": "code",
   "execution_count": 20,
   "metadata": {
    "collapsed": false
   },
   "outputs": [
    {
     "name": "stdout",
     "output_type": "stream",
     "text": [
      "..........\n"
     ]
    }
   ],
   "source": [
    "val MMt = zeros(784,784);\n",
    "for (i <- 0 until opts.nend) {\n",
    "val Mi = loadFMat(dir+\"data%02d.fmat.lz4\" format i);\n",
    "MMt ~ Mi *^ Mi;\n",
    "print(\".\");\n",
    "} \n",
    "println;"
   ]
  },
  {
   "cell_type": "markdown",
   "metadata": {},
   "source": [
    "Now we call an eigenvalue routine to compute the eigenvalues and eigenvectors of MMt, which are the singular values and left singular vectors of M. "
   ]
  },
  {
   "cell_type": "code",
   "execution_count": 21,
   "metadata": {
    "collapsed": false
   },
   "outputs": [
    {
     "name": "stdout",
     "output_type": "stream",
     "text": []
    }
   ],
   "source": [
    "val (eval, evecs) = feig(MMt);\n",
    "val topvecs = evecs(?, 783 to 784-opts.dim by -1);"
   ]
  },
  {
   "cell_type": "markdown",
   "metadata": {},
   "source": [
    "Eigenvectors have a sign ambiguity, and its common to see V or -V. So next we compute dot products between the two sets of vectors and flip signs if a dot product is negative:"
   ]
  },
  {
   "cell_type": "code",
   "execution_count": 22,
   "metadata": {
    "collapsed": false
   },
   "outputs": [
    {
     "name": "stdout",
     "output_type": "stream",
     "text": []
    }
   ],
   "source": [
    "val dots = svecs ∙ topvecs;\n",
    "topvecs ~ topvecs ∘ (2*(dots>0) - 1);"
   ]
  },
  {
   "cell_type": "markdown",
   "metadata": {},
   "source": [
    "Lets now look at the eigenvectors as small images, decreasing in strength from left to right. First the reference eigenvectors:"
   ]
  },
  {
   "cell_type": "code",
   "execution_count": 23,
   "metadata": {
    "collapsed": false
   },
   "outputs": [
    {
     "name": "stdout",
     "output_type": "stream",
     "text": []
    },
    {
     "data": {
      "image/png": "[encoded data removed]",
      "text/plain": [
       "BufferedImage@6c4ad1dc: type = 10 ColorModel: #pixelBits = 8 numComponents = 1 color space = java.awt.color.ICC_ColorSpace@60ab7379 transparency = 1 has alpha = false isAlphaPre = false ByteInterleavedRaster: width = 840 height = 168 #numDataElements 1 dataOff[0] = 0"
      ]
     },
     "execution_count": 23,
     "metadata": {},
     "output_type": "execute_result"
    }
   ],
   "source": [
    "val onerow = svecs.view(28,28*opts.dim);\n",
    "val nc = onerow.ncols;\n",
    "val tworows = onerow(?,0->(nc/2)) on onerow(?,(nc/2)->nc)\n",
    "show((tworows.t*500+128) ⊗ ones(3,3))"
   ]
  },
  {
   "cell_type": "code",
   "execution_count": 24,
   "metadata": {
    "collapsed": false
   },
   "outputs": [
    {
     "name": "stdout",
     "output_type": "stream",
     "text": []
    },
    {
     "data": {
      "image/png": "[encoded data removed]",
      "text/plain": [
       "BufferedImage@4a291de7: type = 10 ColorModel: #pixelBits = 8 numComponents = 1 color space = java.awt.color.ICC_ColorSpace@60ab7379 transparency = 1 has alpha = false isAlphaPre = false ByteInterleavedRaster: width = 840 height = 168 #numDataElements 1 dataOff[0] = 0"
      ]
     },
     "execution_count": 24,
     "metadata": {},
     "output_type": "execute_result"
    }
   ],
   "source": [
    "val onerow = topvecs.view(28,28*opts.dim);\n",
    "val nc = onerow.ncols;\n",
    "val tworows = onerow(?,0->(nc/2)) on onerow(?,(nc/2)->nc)\n",
    "show((tworows.t*500+128) ⊗ ones(3,3))"
   ]
  }
 ],
 "metadata": {
  "kernelspec": {
   "display_name": "Python 3",
   "language": "python",
   "name": "python3"
  },
  "language_info": {
   "name": "scala",
   "version": "2.11.2"
  }
 },
 "nbformat": 4,
 "nbformat_minor": 0
}
