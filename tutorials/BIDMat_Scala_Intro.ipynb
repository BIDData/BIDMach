{
 "cells": [
  {
   "cell_type": "markdown",
   "metadata": {},
   "source": [
    "# An Introduction to BIDMat and Scala"
   ]
  },
  {
   "cell_type": "markdown",
   "metadata": {},
   "source": [
    "BIDMat is a multi-platform matrix library similar to R, Matlab, Julia or Numpy/Scipy. It takes full advantage of the very powerful Scala Language. Its intended primarily for machine learning, but is has a broad set of operations and datatypes and should be suitable for many other applications. BIDMat has several unique features:\n",
    "\n",
    "* Built from the ground up with GPU + CPU backends. BIDMat code is implementation independent. \n",
    "* GPU memory management uses caching, designed to support iterative algorithms.\n",
    "* Natural and extensible syntax (thanks to scala). Math operators include +,-,*,/,⊗,∙,∘\n",
    "* Probably the most complete support for matrix types: dense matrices of float32, double, int and long. Sparse matrices with single or double elements. All are available on CPU or GPU. \n",
    "* Highest performance sparse matrix operations on power-law data. \n",
    "\n",
    "BIDMat has several other state-of-the-art features:\n",
    "* Interactivity. Thanks to the Scala language, BIDMat is interactive and scriptable. \n",
    "* Massive code base thanks to Java. \n",
    "* Easy-to-use Parallelism, thanks to Scala's actor framework and parallel collection classes.  \n",
    "* Runs on JVM, extremely portable. Runs on Mac, Linux, Windows, Android.\n",
    "* Cluster-ready, leverages Hadoop, Yarn, Spark etc. \n",
    "\n",
    "BIDMat is a library that is loaded by a startup script, and a set of imports that include the default classes and functions. We include them explicitly in this notebook. "
   ]
  },
  {
   "cell_type": "code",
   "execution_count": 1,
   "metadata": {
    "collapsed": false
   },
   "outputs": [
    {
     "name": "stdout",
     "output_type": "stream",
     "text": [
      "1 CUDA device found, CUDA version 7.0\n"
     ]
    },
    {
     "data": {
      "text/plain": [
       "(0.99132067,11974557696,12079398912)"
      ]
     },
     "execution_count": 1,
     "metadata": {},
     "output_type": "execute_result"
    }
   ],
   "source": [
    "import BIDMat.{CMat,CSMat,DMat,Dict,IDict,FMat,FND,GMat,GDMat,GIMat,GLMat,GSMat,GSDMat,\n",
    "               HMat,IMat,Image,LMat,Mat,ND,SMat,SBMat,SDMat}\n",
    "import BIDMat.MatFunctions._\n",
    "import BIDMat.SciFunctions._\n",
    "import BIDMat.Solvers._\n",
    "import BIDMat.Plotting._\n",
    "\n",
    "Mat.checkMKL\n",
    "Mat.checkCUDA\n",
    "Mat.inline = true\n",
    "if (Mat.hasCUDA > 0) GPUmem"
   ]
  },
  {
   "cell_type": "markdown",
   "metadata": {},
   "source": [
    "These calls check that CPU and GPU native libs loaded correctly, and what GPUs are accessible.\n",
    "If you have a GPU and CUDA installed, GPUmem will printout the fraction of free memory, the absolute free memory and the total memory for the default GPU. "
   ]
  },
  {
   "cell_type": "markdown",
   "metadata": {},
   "source": [
    "## CPU and GPU matrices"
   ]
  },
  {
   "cell_type": "markdown",
   "metadata": {},
   "source": [
    "BIDMat's matrix types are given in the table below. All are children of the \"Mat\" parent class, which allows code to be written generically. Many of BIDMach's learning algorithms will run with either single or double precision, dense or sparse input data. \n",
    "<table style=\"width:4in\" align=\"left\">\n",
    "<tr><td/><td colspan=\"2\"><b>CPU Matrices</b></td><td colspan=\"2\"><b>GPU Matrices</b></td></tr>\n",
    "<tr><td></td><td><b>Dense</b></td><td><b>Sparse</b></td><td><b>Dense</b></td><td><b>Sparse</b></td></tr>\n",
    "<tr><td><b>Float32</b></td><td>FMat</td><td>SMat</td><td>GMat</td><td>GSMat</td></tr>\n",
    "<tr><td><b>Float64</b></td><td>DMat</td><td>SDMat</td><td>GDMat</td><td>GSDMat</td></tr>\n",
    "<tr><td><b>Int32</b></td><td>IMat</td><td></td><td>GIMat</td><td></td></tr>\n",
    "<tr><td><b>Int64</b></td><td>LMat</td><td></td><td>GLMat</td><td></td></tr>\n",
    "</table>"
   ]
  },
  {
   "cell_type": "code",
   "execution_count": 2,
   "metadata": {
    "collapsed": false
   },
   "outputs": [
    {
     "name": "stdout",
     "output_type": "stream",
     "text": []
    },
    {
     "data": {
      "text/plain": [
       "   0.62465   0.89703   0.27582   0.13452   0.88863   0.32627   0.16042...\n",
       "   0.63891   0.44064   0.36484   0.18473   0.75125   0.18824   0.75513...\n",
       "   0.84862   0.13745   0.54177   0.69702   0.27047  0.040770  0.080366...\n",
       "   0.26990  0.088154   0.17225   0.95003   0.51944   0.89452   0.75103...\n",
       "  0.050579   0.15992   0.15957   0.49453   0.54010   0.32854   0.49945...\n",
       "   0.73763   0.38573   0.80398   0.14497   0.16867   0.89132   0.31194...\n",
       "   0.39953   0.52224   0.14720   0.11078   0.11138   0.95166  0.019181...\n",
       "   0.91040  0.076302   0.60944   0.40543   0.79685   0.85392   0.23852...\n",
       "        ..        ..        ..        ..        ..        ..        ..\n"
      ]
     },
     "execution_count": 2,
     "metadata": {},
     "output_type": "execute_result"
    }
   ],
   "source": [
    "val n = 4096          // \"val\" designates a constant. n is statically typed (as in Int here), but its type is inferred.\n",
    "val a = rand(n,n)     // Create an nxn matrix (on the CPU)"
   ]
  },
  {
   "cell_type": "code",
   "execution_count": 3,
   "metadata": {
    "collapsed": false
   },
   "outputs": [
    {
     "name": "stdout",
     "output_type": "stream",
     "text": [
      "BIDMat.FMat\n"
     ]
    }
   ],
   "source": [
    "%type a             // Most scientific funtions in BIDMat return single-precision results by default."
   ]
  },
  {
   "cell_type": "markdown",
   "metadata": {},
   "source": [
    "CPU matrix operations use Intel MKL acceleration for linear algebra, scientific and statistical functions. BIDMat includes \"tic\" and \"toc\" for timing, and \"flip\" and \"flop\" for floating point performance. "
   ]
  },
  {
   "cell_type": "code",
   "execution_count": 4,
   "metadata": {
    "collapsed": false
   },
   "outputs": [
    {
     "name": "stdout",
     "output_type": "stream",
     "text": [
      "The product took 1.12 seconds at 122 gflops"
     ]
    },
    {
     "data": {
      "text/plain": [
       "(122.27665,1.124)"
      ]
     },
     "execution_count": 4,
     "metadata": {},
     "output_type": "execute_result"
    }
   ],
   "source": [
    "flip; val b = a * a; val gf=gflop\n",
    "print(\"The product took %4.2f seconds at %3.0f gflops\" format (gf._2, gf._1))\n",
    "gf"
   ]
  },
  {
   "cell_type": "markdown",
   "metadata": {
    "collapsed": false
   },
   "source": [
    "GPU matrices behave very similarly."
   ]
  },
  {
   "cell_type": "code",
   "execution_count": 5,
   "metadata": {
    "collapsed": false
   },
   "outputs": [
    {
     "name": "stdout",
     "output_type": "stream",
     "text": []
    },
    {
     "data": {
      "text/plain": [
       "   0.88383  0.027557   0.64643   0.67664   0.29091   0.60243   0.57059...\n",
       "   0.81384   0.76326   0.57175   0.17944   0.11371   0.22653  0.088297...\n",
       "   0.39205   0.46169   0.76375   0.85130   0.46558   0.56107   0.79527...\n",
       "   0.11010   0.51376   0.27728   0.91142  0.023597   0.16610   0.30512...\n",
       "   0.25042   0.69971   0.83499   0.46664   0.49516   0.57655   0.79105...\n",
       "   0.48823   0.72891   0.98704   0.11257   0.99232   0.10887   0.19260...\n",
       "   0.70476   0.50308   0.38125   0.80248   0.52444   0.42028   0.33877...\n",
       "   0.18731   0.11773   0.84390   0.67353   0.73904   0.19960   0.32721...\n",
       "        ..        ..        ..        ..        ..        ..        ..\n"
      ]
     },
     "execution_count": 5,
     "metadata": {},
     "output_type": "execute_result"
    }
   ],
   "source": [
    "val ga = grand(n,n)            // Another nxn random matrix"
   ]
  },
  {
   "cell_type": "code",
   "execution_count": 6,
   "metadata": {
    "collapsed": false
   },
   "outputs": [
    {
     "name": "stdout",
     "output_type": "stream",
     "text": [
      "The product took 0.05 seconds at 2924 gflops"
     ]
    },
    {
     "data": {
      "text/plain": [
       "(2924.2332,0.047)"
      ]
     },
     "execution_count": 6,
     "metadata": {},
     "output_type": "execute_result"
    }
   ],
   "source": [
    "flip; val gb = ga * ga; val gf=gflop\n",
    "print(\"The product took %4.2f seconds at %3.0f gflops\" format (gf._2, gf._1))\n",
    "gf"
   ]
  },
  {
   "cell_type": "code",
   "execution_count": 7,
   "metadata": {
    "collapsed": false
   },
   "outputs": [
    {
     "name": "stdout",
     "output_type": "stream",
     "text": [
      "BIDMat.GMat\n"
     ]
    }
   ],
   "source": [
    "%type ga"
   ]
  },
  {
   "cell_type": "markdown",
   "metadata": {
    "collapsed": false
   },
   "source": [
    "But much of the power of BIDMat is that we dont have to worry about matrix types. Lets explore that with an example."
   ]
  },
  {
   "cell_type": "markdown",
   "metadata": {},
   "source": [
    "### SVD (Singular Value Decomposition) on a Budget"
   ]
  },
  {
   "cell_type": "markdown",
   "metadata": {},
   "source": [
    "Now lets try solving a real problem with this infrastructure: An approximate Singular-Value Decomposition (SVD) or PCA of a matrix M. We'll do this by computing the leading eigenvalues and eigenvectors of M x M^t. The method we use is **subspace iteration** and it generalizes the *power method* for computing the largest-magnitude eigenvalue."
   ]
  },
  {
   "cell_type": "code",
   "execution_count": 8,
   "metadata": {
    "collapsed": false
   },
   "outputs": [
    {
     "name": "stdout",
     "output_type": "stream",
     "text": []
    }
   ],
   "source": [
    "def SVD(M:Mat, ndims:Int, niter:Int) = {\n",
    "    var Q = M.zeros(M.nrows, ndims)                 // A block of ndims column vectors\n",
    "    normrnd(0, 1, Q)                                // randomly initialize the vectors\n",
    "    Mat.useCache = true                             // Turn matrix caching on\n",
    "    \n",
    "    for (i <- 0 until niter) {                      // Perform subspace iteration\n",
    "        val P = (Q.t * M *^ M).t                    // Compute P = M * M^t * Q efficiently\n",
    "        QRdecompt(P, Q, null)                       // QR-decomposition of P, saving Q\n",
    "    }\n",
    "    Mat.useCache = false                            // Turn caching off after the iteration\n",
    "    val P = (Q.t * M *^ M).t                        // Compute P again.\n",
    "    (Q, getdiag(P ^* Q))                            // Return Left singular vectors and singular values\n",
    "}"
   ]
  },
  {
   "cell_type": "markdown",
   "metadata": {},
   "source": [
    "Notice that the code above used only the \"Mat\" matrix type. If you examine the variables V and P in a Scala IDE (Eclipse has one) you will find that they both also have type \"Mat\". Let's try it with an FMat (CPU single precision, dense matrix)."
   ]
  },
  {
   "cell_type": "markdown",
   "metadata": {},
   "source": [
    "### Movie Data Example\n",
    "\n",
    "We load some data from the MovieLens project. "
   ]
  },
  {
   "cell_type": "code",
   "execution_count": 53,
   "metadata": {
    "collapsed": false
   },
   "outputs": [
    {
     "name": "stdout",
     "output_type": "stream",
     "text": [
      "The calculation took 8.39 seconds at 12336.4 gflops"
     ]
    },
    {
     "data": {
      "text/plain": [
       "1.1839e+06,2.0694e+05,1.5514e+05,95136,91670,69294,67980,56050,50187,39210,34314,31400,29052,26634,25330,23351,22122,22017,21394,20843,20219,19662,18436,17678,17505,16641,16248,15648,15485,15102,14653,14659"
      ]
     },
     "execution_count": 53,
     "metadata": {},
     "output_type": "execute_result"
    }
   ],
   "source": [
    "val ndims = 32                             // Number of PCA dimension\n",
    "val niter = 128                            // Number of iterations to do\n",
    "\n",
    "val S = loadSMat(\"../data/movielens/train.smat.lz4\")(0->10000,0->4000)\n",
    "val M = full(S)                            // Put in a dense matrix\n",
    "\n",
    "flip; \n",
    "val (svecs, svals) = SVD(M, ndims, niter); // Compute the singular vectors and values\n",
    "val gf=gflop\n",
    "\n",
    "print(\"The calculation took %4.2f seconds at %2.1f gflops\" format (gf._2, gf._1))\n",
    "svals.t"
   ]
  },
  {
   "cell_type": "markdown",
   "metadata": {},
   "source": [
    "Let's take a peek at the singular values on a plot"
   ]
  },
  {
   "cell_type": "code",
   "execution_count": 54,
   "metadata": {
    "collapsed": false
   },
   "outputs": [
    {
     "name": "stdout",
     "output_type": "stream",
     "text": []
    },
    {
     "data": {
      "image/png": "[encoded data removed]",
      "text/plain": [
       "BufferedImage@4e14c3a8: type = 2 DirectColorModel: rmask=ff0000 gmask=ff00 bmask=ff amask=ff000000 IntegerInterleavedRaster: width = 500 height = 300 #Bands = 4 xOff = 0 yOff = 0 dataOffset[0] 0"
      ]
     },
     "execution_count": 54,
     "metadata": {},
     "output_type": "execute_result"
    }
   ],
   "source": [
    "plot(svals)"
   ]
  },
  {
   "cell_type": "markdown",
   "metadata": {},
   "source": [
    "Which shrinks a little too fast. Lets look at it on a log-log plot instead:"
   ]
  },
  {
   "cell_type": "code",
   "execution_count": 55,
   "metadata": {
    "collapsed": false
   },
   "outputs": [
    {
     "name": "stdout",
     "output_type": "stream",
     "text": []
    },
    {
     "data": {
      "image/png": "[encoded data removed]",
      "text/plain": [
       "BufferedImage@48040a79: type = 2 DirectColorModel: rmask=ff0000 gmask=ff00 bmask=ff amask=ff000000 IntegerInterleavedRaster: width = 500 height = 300 #Bands = 4 xOff = 0 yOff = 0 dataOffset[0] 0"
      ]
     },
     "execution_count": 55,
     "metadata": {},
     "output_type": "execute_result"
    }
   ],
   "source": [
    "loglog(row(1 to svals.length), svals)"
   ]
  },
  {
   "cell_type": "markdown",
   "metadata": {},
   "source": [
    "Now lets try it with a GPU, single-precision, dense matrix. "
   ]
  },
  {
   "cell_type": "code",
   "execution_count": 12,
   "metadata": {
    "collapsed": false
   },
   "outputs": [
    {
     "name": "stdout",
     "output_type": "stream",
     "text": [
      "The calculation took 0.80 seconds at 834.1 gflops"
     ]
    },
    {
     "data": {
      "text/plain": [
       "1.1839e+06,2.0694e+05,1.5514e+05,95135,91671,69269,68005,56050,50187,39210,34314,31400,29052,26634,25330,23351,22120,22020,21391,20846,20219,19662,18437,17675,17507,16489,16400,15647,15490,15100,14755,14555"
      ]
     },
     "execution_count": 12,
     "metadata": {},
     "output_type": "execute_result"
    }
   ],
   "source": [
    "val G = GMat(M)                            // Try a dense GPU matrix\n",
    "\n",
    "flip; \n",
    "val (svecs, svals) = SVD(G, ndims, niter); // Compute the singular vectors and values \n",
    "val gf=gflop\n",
    "\n",
    "print(\"The calculation took %4.2f seconds at %2.1f gflops\" format (gf._2, gf._1))\n",
    "svals.t"
   ]
  },
  {
   "cell_type": "markdown",
   "metadata": {},
   "source": [
    "That's not bad, the GPU version was nearly 5x faster. Now lets try a sparse, CPU single-precision matrix. Note that by construction our matrix was only 10% dense anyway."
   ]
  },
  {
   "cell_type": "markdown",
   "metadata": {},
   "source": [
    "### Sparse SVD"
   ]
  },
  {
   "cell_type": "code",
   "execution_count": 13,
   "metadata": {
    "collapsed": false
   },
   "outputs": [
    {
     "name": "stdout",
     "output_type": "stream",
     "text": [
      "The calculation took 4.55 seconds at 3.6 gflops"
     ]
    },
    {
     "data": {
      "text/plain": [
       "1.1839e+06,2.0694e+05,1.5514e+05,95112,91694,69286,67988,56050,50187,39210,34314,31400,29052,26634,25330,23351,22051,22086,21397,20843,20193,19688,18437,17683,17500,16641,16247,15640,15496,15102,14754,14553"
      ]
     },
     "execution_count": 13,
     "metadata": {},
     "output_type": "execute_result"
    }
   ],
   "source": [
    "flip;                                       // Try a sparse CPU matrix\n",
    "\n",
    "val (svecs, svals) = SVD(S, ndims, niter);  // Compute the singular vectors and values\n",
    "val gf=gflop    \n",
    "\n",
    "print(\"The calculation took %4.2f seconds at %2.1f gflops\" format (gf._2, gf._1))\n",
    "svals.t"
   ]
  },
  {
   "cell_type": "markdown",
   "metadata": {},
   "source": [
    "This next one is important. Dense matrix operations are the bread-and-butter of scientific computing, and now most deep learning. But other machine learning tasks (logistic regression, SVMs, k-Means, topic models etc) most commonly take *sparse* input data like text, URLs, cookies etc. And so performance on sparse matrix operations is critical. \n",
    "\n",
    "GPU performance on sparse data, especially *power law* data - which covers most of the case above (the commerically important cases) - has historically been poor. But in fact GPU hardware supports **extremely fast** sparse operations when the kernels are carefully designed. Such kernels are only available in BIDMat right now. NVIDIA's sparse matrix kernels, which have been tuned for sparse scientific data, do not work well on power-law data. \n",
    "\n",
    "In any case, let's try BIDMat's GPU sparse matrix type:"
   ]
  },
  {
   "cell_type": "code",
   "execution_count": 14,
   "metadata": {
    "collapsed": false
   },
   "outputs": [
    {
     "name": "stdout",
     "output_type": "stream",
     "text": [
      "The calculation took 0.36 seconds at 28.1 gflops"
     ]
    },
    {
     "data": {
      "text/plain": [
       "1.1839e+06,2.0694e+05,1.5514e+05,95136,91670,69196,68079,56050,50187,39210,34314,31400,29052,26634,25330,23351,22017,21924,21591,20845,20219,19662,18437,17612,17570,16641,16248,15534,15602,15101,14656,14654"
      ]
     },
     "execution_count": 14,
     "metadata": {},
     "output_type": "execute_result"
    }
   ],
   "source": [
    "val GS = GSMat(S)                           // Try a sparse GPU matrix\n",
    "\n",
    "flip;\n",
    "val (svecs, svals) = SVD(GS, ndims, niter); // Compute the singular vectors and values\n",
    "val gf=gflop\n",
    "\n",
    "print(\"The calculation took %4.2f seconds at %2.1f gflops\" format (gf._2, gf._1))\n",
    "svals.t"
   ]
  },
  {
   "cell_type": "markdown",
   "metadata": {},
   "source": [
    "That's a 10x improvement end-to-end, which is similar to the GPU's advantage on dense matrices. This result is certainly not specific to SVD, and is reproduced in most ML algorithms. So GPUs have a key role to play in general machine learning, and its likely that at some point they will assume a central role as they currently enjoy in scientific computing and deep learning. \n"
   ]
  },
  {
   "cell_type": "markdown",
   "metadata": {},
   "source": [
    "### GPU Double Precision"
   ]
  },
  {
   "cell_type": "markdown",
   "metadata": {},
   "source": [
    "One last performance issue: GPU hardware normally prioritizes single-precision floating point over double-precision, and there is a big gap on dense matrix operations. But calculations on sparse data are memory-limited and this largely masks the difference in arithmetic. Lets try a sparse, double-precision matrix, which will force all the calculations to double precision. "
   ]
  },
  {
   "cell_type": "code",
   "execution_count": 15,
   "metadata": {
    "collapsed": false
   },
   "outputs": [
    {
     "name": "stdout",
     "output_type": "stream",
     "text": [
      "The calculation took 0.48 seconds at 20.8 gflops"
     ]
    },
    {
     "data": {
      "text/plain": [
       "1.1839e+06,2.0694e+05,1.5514e+05,95135,91671,69311,67964,56050,50187,39210,34314,31400,29052,26634,25330,23351,22019,22118,21397,20843,20218,19663,18437,17518,17665,16641,16248,15512,15624,15102,14689,14621"
      ]
     },
     "execution_count": 15,
     "metadata": {},
     "output_type": "execute_result"
    }
   ],
   "source": [
    "val GSD = GSDMat(GS)                             // Try a sparse, double GPU matrix\n",
    "\n",
    "flip; \n",
    "val (svecs, svals) = SVD(GSD, ndims, niter); // Compute the singular vectors and values\n",
    "val gf=gflop\n",
    "\n",
    "print(\"The calculation took %4.2f seconds at %2.1f gflops\" format (gf._2, gf._1))\n",
    "svals.t"
   ]
  },
  {
   "cell_type": "markdown",
   "metadata": {},
   "source": [
    "Which is noticebly slower, but still 3x faster than the CPU version running in single precision. "
   ]
  },
  {
   "cell_type": "markdown",
   "metadata": {},
   "source": [
    "### Using Cusparse"
   ]
  },
  {
   "cell_type": "markdown",
   "metadata": {},
   "source": [
    "NVIDIA's cusparse library, which is optimized for scientific data, doesnt perform as well on power-law data. "
   ]
  },
  {
   "cell_type": "code",
   "execution_count": 16,
   "metadata": {
    "collapsed": false
   },
   "outputs": [
    {
     "name": "stdout",
     "output_type": "stream",
     "text": []
    }
   ],
   "source": [
    "def SVD(M:Mat, ndims:Int, niter:Int) = {\n",
    "    var Q = M.zeros(M.nrows, ndims)\n",
    "    normrnd(0, 1, Q)\n",
    "    Mat.useCache = true     \n",
    "    for (i <- 0 until niter) {                      // Perform subspace iteration\n",
    "        val P = M * (M ^* Q)                        // Compute P = M * M^t * Q with cusparse\n",
    "        QRdecompt(P, Q, null) \n",
    "    }\n",
    "    Mat.useCache = false \n",
    "    val P = M * (M ^* Q)                            // Compute P again.\n",
    "    (Q, getdiag(P ^* Q))                            // Left singular vectors and singular values\n",
    "}"
   ]
  },
  {
   "cell_type": "code",
   "execution_count": 17,
   "metadata": {
    "collapsed": false
   },
   "outputs": [
    {
     "name": "stdout",
     "output_type": "stream",
     "text": [
      "The calculation took 2.36 seconds at 4.3 gflops"
     ]
    },
    {
     "data": {
      "text/plain": [
       "1.1839e+06,2.0694e+05,1.5514e+05,95136,91670,68943,68331,56050,50187,39210,34314,31400,29052,26634,25330,23351,22124,22016,21393,20844,20219,19662,18437,17666,17517,16631,16258,15611,15526,15101,14755,14386"
      ]
     },
     "execution_count": 17,
     "metadata": {},
     "output_type": "execute_result"
    }
   ],
   "source": [
    "                                                   // Try sparse GPU matrix\n",
    "flip; \n",
    "val (svecs, svals) = SVD(GS, ndims, niter); \n",
    "val gf=gflop\n",
    "\n",
    "print(\"The calculation took %4.2f seconds at %2.1f gflops\" format (gf._2, gf._1))\n",
    "svals.t"
   ]
  },
  {
   "cell_type": "markdown",
   "metadata": {},
   "source": [
    "## Unicode Math Operators, Functions and Variables"
   ]
  },
  {
   "cell_type": "markdown",
   "metadata": {},
   "source": [
    "As well as the standard operators +,-,*,/, BIDMat includes several other important operators with their standard unicode representation. They have an ASCII alias in case unicode input is difficult. Here they are:\n",
    "\n",
    "<pre>\n",
    "Unicode operator    ASCII alias    Operation\n",
    "================    ===========    =========\n",
    "       ∘                *@         Element-wise (Hadamard) product\n",
    "       ∙                dot        Column-wise dot product\n",
    "       ∙→              dotr        Row-wise dot product\n",
    "       ⊗               kron        Kronecker (Cartesian) product\n",
    "</pre>"
   ]
  },
  {
   "cell_type": "code",
   "execution_count": 18,
   "metadata": {
    "collapsed": false
   },
   "outputs": [
    {
     "name": "stdout",
     "output_type": "stream",
     "text": []
    },
    {
     "data": {
      "text/plain": [
       "   1   2   3   4\n",
       "   1   2   3   4\n",
       "   1   2   3   4\n",
       "   1   2   3   4\n"
      ]
     },
     "execution_count": 18,
     "metadata": {},
     "output_type": "execute_result"
    }
   ],
   "source": [
    "val a = ones(4,1) * row(1->5)"
   ]
  },
  {
   "cell_type": "code",
   "execution_count": 19,
   "metadata": {
    "collapsed": false
   },
   "outputs": [
    {
     "name": "stdout",
     "output_type": "stream",
     "text": []
    },
    {
     "data": {
      "text/plain": [
       "   1   1   1   1\n",
       "   2   2   2   2\n",
       "   3   3   3   3\n",
       "   4   4   4   4\n"
      ]
     },
     "execution_count": 19,
     "metadata": {},
     "output_type": "execute_result"
    }
   ],
   "source": [
    "val b = col(1->5) * ones(1,4)"
   ]
  },
  {
   "cell_type": "markdown",
   "metadata": {},
   "source": [
    "Hadamard (element-wise) multiply"
   ]
  },
  {
   "cell_type": "code",
   "execution_count": 20,
   "metadata": {
    "collapsed": false
   },
   "outputs": [
    {
     "name": "stdout",
     "output_type": "stream",
     "text": []
    },
    {
     "data": {
      "text/plain": [
       "   1   2   3   4\n",
       "   2   4   6   8\n",
       "   3   6   9  12\n",
       "   4   8  12  16\n"
      ]
     },
     "execution_count": 20,
     "metadata": {},
     "output_type": "execute_result"
    }
   ],
   "source": [
    "b ∘ a"
   ]
  },
  {
   "cell_type": "markdown",
   "metadata": {},
   "source": [
    "Dot product, by default along columns"
   ]
  },
  {
   "cell_type": "code",
   "execution_count": 21,
   "metadata": {
    "collapsed": false
   },
   "outputs": [
    {
     "name": "stdout",
     "output_type": "stream",
     "text": []
    },
    {
     "data": {
      "text/plain": [
       "10,20,30,40"
      ]
     },
     "execution_count": 21,
     "metadata": {},
     "output_type": "execute_result"
    }
   ],
   "source": [
    "b ∙ a "
   ]
  },
  {
   "cell_type": "markdown",
   "metadata": {},
   "source": [
    "Dot product along rows"
   ]
  },
  {
   "cell_type": "code",
   "execution_count": 22,
   "metadata": {
    "collapsed": false
   },
   "outputs": [
    {
     "name": "stdout",
     "output_type": "stream",
     "text": []
    },
    {
     "data": {
      "text/plain": [
       "  10\n",
       "  20\n",
       "  30\n",
       "  40\n"
      ]
     },
     "execution_count": 22,
     "metadata": {},
     "output_type": "execute_result"
    }
   ],
   "source": [
    "b ∙→ a"
   ]
  },
  {
   "cell_type": "markdown",
   "metadata": {},
   "source": [
    "Kronecker product"
   ]
  },
  {
   "cell_type": "code",
   "execution_count": 23,
   "metadata": {
    "collapsed": false
   },
   "outputs": [
    {
     "name": "stdout",
     "output_type": "stream",
     "text": []
    },
    {
     "data": {
      "text/plain": [
       "   1   2   3   4   1   2   3   4   1   2   3   4   1   2   3   4\n",
       "   1   2   3   4   1   2   3   4   1   2   3   4   1   2   3   4\n",
       "   1   2   3   4   1   2   3   4   1   2   3   4   1   2   3   4\n",
       "   1   2   3   4   1   2   3   4   1   2   3   4   1   2   3   4\n",
       "   2   4   6   8   2   4   6   8   2   4   6   8   2   4   6   8\n",
       "   2   4   6   8   2   4   6   8   2   4   6   8   2   4   6   8\n",
       "   2   4   6   8   2   4   6   8   2   4   6   8   2   4   6   8\n",
       "   2   4   6   8   2   4   6   8   2   4   6   8   2   4   6   8\n",
       "  ..  ..  ..  ..  ..  ..  ..  ..  ..  ..  ..  ..  ..  ..  ..  ..\n"
      ]
     },
     "execution_count": 23,
     "metadata": {},
     "output_type": "execute_result"
    }
   ],
   "source": [
    "b ⊗ a"
   ]
  },
  {
   "cell_type": "markdown",
   "metadata": {},
   "source": [
    "As well as operators, functions in BIDMach can use unicode characters. e.g. "
   ]
  },
  {
   "cell_type": "code",
   "execution_count": 24,
   "metadata": {
    "collapsed": false
   },
   "outputs": [
    {
     "name": "stdout",
     "output_type": "stream",
     "text": []
    },
    {
     "data": {
      "text/plain": [
       "1,2,3,4,5,6,7,8,9"
      ]
     },
     "execution_count": 24,
     "metadata": {},
     "output_type": "execute_result"
    }
   ],
   "source": [
    "val ii = row(1->10)"
   ]
  },
  {
   "cell_type": "code",
   "execution_count": 25,
   "metadata": {
    "collapsed": false
   },
   "outputs": [
    {
     "name": "stdout",
     "output_type": "stream",
     "text": []
    },
    {
     "data": {
      "text/plain": [
       "      1      2      3      4      5      6      7      8      9\n",
       "      1      1      2      6     24    120    720   5040  40320\n"
      ]
     },
     "execution_count": 25,
     "metadata": {},
     "output_type": "execute_result"
    }
   ],
   "source": [
    "ii on Γ(ii)                            // Stack this row on the results of a Gamma function applied to it"
   ]
  },
  {
   "cell_type": "markdown",
   "metadata": {},
   "source": [
    "You can certainly define new unicode operators:"
   ]
  },
  {
   "cell_type": "code",
   "execution_count": 26,
   "metadata": {
    "collapsed": false
   },
   "outputs": [
    {
     "name": "stdout",
     "output_type": "stream",
     "text": []
    },
    {
     "data": {
      "text/plain": [
       "1,1.4142,1.7321,2,2.2361,2.4495,2.6458,2.8284,3"
      ]
     },
     "execution_count": 26,
     "metadata": {},
     "output_type": "execute_result"
    }
   ],
   "source": [
    "def √(x:Mat) = sqrt(x)\n",
    "def √(x:Double) = math.sqrt(x)\n",
    "√(ii)"
   ]
  },
  {
   "cell_type": "markdown",
   "metadata": {},
   "source": [
    "and use as much Greek as you want:"
   ]
  },
  {
   "cell_type": "code",
   "execution_count": 27,
   "metadata": {
    "collapsed": false
   },
   "outputs": [
    {
     "name": "stdout",
     "output_type": "stream",
     "text": []
    },
    {
     "data": {
      "text/plain": [
       "       3       4       5       6       7       8       9      10...\n",
       "       2       6      24     120     720    5040   40320  362880...\n"
      ]
     },
     "execution_count": 27,
     "metadata": {},
     "output_type": "execute_result"
    }
   ],
   "source": [
    "val α = row(1->10)\n",
    "val β = α + 2\n",
    "val γ = β on Γ(β)"
   ]
  },
  {
   "cell_type": "markdown",
   "metadata": {},
   "source": [
    "or English:"
   ]
  },
  {
   "cell_type": "code",
   "execution_count": 28,
   "metadata": {
    "collapsed": false
   },
   "outputs": [
    {
     "name": "stdout",
     "output_type": "stream",
     "text": []
    }
   ],
   "source": [
    "class NewMat(nr:Int, nc:Int, data0:Array[Float]) extends FMat(nr,nc,data0) {\n",
    "  def quick(a:FMat) = this * a;\n",
    "  def fox(a:FMat) = this + a;\n",
    "  def over(a:FMat) = this - a;\n",
    "  def lazzy(a:FMat) = this / a ;\n",
    "}\n",
    "\n",
    "implicit def convNew(a:FMat):NewMat = new NewMat(a.nrows, a.ncols, a.data)\n",
    "\n",
    "val n = 2;\n",
    "val the = rand(n,n);\n",
    "val brown = rand(n,n);\n",
    "val jumps = rand(n,n);\n",
    "val dog = rand(n,n);"
   ]
  },
  {
   "cell_type": "code",
   "execution_count": 29,
   "metadata": {
    "collapsed": false
   },
   "outputs": [
    {
     "name": "stdout",
     "output_type": "stream",
     "text": []
    },
    {
     "data": {
      "text/plain": [
       "  0.93592  0.50697\n",
       "   2.7636  0.33282\n"
      ]
     },
     "execution_count": 29,
     "metadata": {},
     "output_type": "execute_result"
    }
   ],
   "source": [
    "the quick brown fox jumps over the lazzy dog"
   ]
  },
  {
   "cell_type": "markdown",
   "metadata": {},
   "source": [
    "## Transposed Multiplies"
   ]
  },
  {
   "cell_type": "markdown",
   "metadata": {},
   "source": [
    "Matrix multiply is the most expensive step in many calculations, and often involves transposed matrices. To speed up those calcualtions, we expose two operators that combine the transpose and multiply operations:\n",
    "\n",
    "<pre>\n",
    "^&ast;  - transpose the first argument, so a ^&ast; b is equivalent to a.t &ast; b\n",
    "&ast;^  - transpose the second argument, so a &ast;^ b is equivalent to a &ast; b.t\n",
    "</pre>\n",
    "these operators are implemented natively, i.e. they do not actually perform transposes, but implement the effective calculation. This is particulary important for sparse matrices since transpose would involve an index sort. "
   ]
  },
  {
   "cell_type": "code",
   "execution_count": 30,
   "metadata": {
    "collapsed": false
   },
   "outputs": [
    {
     "name": "stdout",
     "output_type": "stream",
     "text": []
    },
    {
     "data": {
      "text/plain": [
       "  10  10  10  10\n",
       "  20  20  20  20\n",
       "  30  30  30  30\n",
       "  40  40  40  40\n"
      ]
     },
     "execution_count": 30,
     "metadata": {},
     "output_type": "execute_result"
    }
   ],
   "source": [
    "a ^* b"
   ]
  },
  {
   "cell_type": "code",
   "execution_count": 31,
   "metadata": {
    "collapsed": false
   },
   "outputs": [
    {
     "name": "stdout",
     "output_type": "stream",
     "text": []
    },
    {
     "data": {
      "text/plain": [
       "  10  10  10  10\n",
       "  20  20  20  20\n",
       "  30  30  30  30\n",
       "  40  40  40  40\n"
      ]
     },
     "execution_count": 31,
     "metadata": {},
     "output_type": "execute_result"
    }
   ],
   "source": [
    "a.t * b"
   ]
  },
  {
   "cell_type": "code",
   "execution_count": 32,
   "metadata": {
    "collapsed": false
   },
   "outputs": [
    {
     "name": "stdout",
     "output_type": "stream",
     "text": []
    },
    {
     "data": {
      "text/plain": [
       "  10  20  30  40\n",
       "  10  20  30  40\n",
       "  10  20  30  40\n",
       "  10  20  30  40\n"
      ]
     },
     "execution_count": 32,
     "metadata": {},
     "output_type": "execute_result"
    }
   ],
   "source": [
    "a *^ b"
   ]
  },
  {
   "cell_type": "code",
   "execution_count": 33,
   "metadata": {
    "collapsed": false
   },
   "outputs": [
    {
     "name": "stdout",
     "output_type": "stream",
     "text": []
    },
    {
     "data": {
      "text/plain": [
       "  10  20  30  40\n",
       "  10  20  30  40\n",
       "  10  20  30  40\n",
       "  10  20  30  40\n"
      ]
     },
     "execution_count": 33,
     "metadata": {},
     "output_type": "execute_result"
    }
   ],
   "source": [
    "a * b.t"
   ]
  },
  {
   "cell_type": "markdown",
   "metadata": {},
   "source": [
    "# Highlights of the Scala Language"
   ]
  },
  {
   "cell_type": "markdown",
   "metadata": {},
   "source": [
    "Scala is a remarkable language. It is an object-oriented language with similar semantics to Java which it effectively extends. But it also has a particular clean functional syntax for anonymous functions and closures. \n",
    "\n",
    "It has a REPL (Read-Eval-Print-Loop) like Python, and can be used interactively or it can run scripts in or outside an interactive session. \n",
    "\n",
    "Like Python, types are determined by assignments, but they are static rather than dynamic. So the language has the economy of Python, but the type-safety of a static language. \n",
    "\n",
    "Scala includes a tuple type for multiple-value returns, and on-the-fly data structuring. \n",
    "\n",
    "Finally it has outstanding support for concurrency with parallel classes and an **actor** system called Akka. "
   ]
  },
  {
   "cell_type": "markdown",
   "metadata": {},
   "source": [
    "## Performance"
   ]
  },
  {
   "cell_type": "markdown",
   "metadata": {},
   "source": [
    "First we examine the performance of Scala as a scientific language. Let's implement an example that has been widely used to illustrate the performance of the Julia language. Its a random walk, i.e. a 1D array with random steps from one element to the next. "
   ]
  },
  {
   "cell_type": "code",
   "execution_count": 34,
   "metadata": {
    "collapsed": false
   },
   "outputs": [
    {
     "name": "stdout",
     "output_type": "stream",
     "text": []
    }
   ],
   "source": [
    "import java.util.Random\n",
    "val random = new Random()\n",
    "\n",
    "def rwalk(m:FMat) = {\n",
    "    val n = m.length\n",
    "    m(0) = random.nextFloat\n",
    "    var i = 1\n",
    "    while (i < n) {\n",
    "        m(i) = m(i-1) + random.nextFloat - 0.5f\n",
    "        i += 1\n",
    "    }\n",
    "}"
   ]
  },
  {
   "cell_type": "code",
   "execution_count": 35,
   "metadata": {
    "collapsed": false
   },
   "outputs": [
    {
     "name": "stdout",
     "output_type": "stream",
     "text": [
      "computed 97.2 million steps per second in 1.0 seconds"
     ]
    }
   ],
   "source": [
    "val n = 100000000\n",
    "val a = zeros(n, 1)\n",
    "tic; val x = rwalk(a); val t=toc\n",
    "print(\"computed %2.1f million steps per second in %2.1f seconds\" format (n/t/1e6f, t))"
   ]
  },
  {
   "cell_type": "markdown",
   "metadata": {},
   "source": [
    "If we try the same calculation in the Julia language (a new language designed for scientific computing) and in Python we find that:"
   ]
  },
  {
   "cell_type": "markdown",
   "metadata": {},
   "source": [
    "<table style=\"width:4in\" align=\"left\">\n",
    "<tr><td></td><td><b>Scala</b></td><td><b>Julia</b></td><td><b>Python</b></td></tr>\n",
    "<tr><td><b>with rand</b></td><td>1.0s</td><td>0.43s</td><td>147s</td></tr>\n",
    "<tr><td><b>without rand</b></td><td>0.1s</td><td>0.26s</td><td>100s</td></tr>\n",
    "</table>\n"
   ]
  },
  {
   "cell_type": "markdown",
   "metadata": {},
   "source": [
    "### Vectorized Operations"
   ]
  },
  {
   "cell_type": "markdown",
   "metadata": {},
   "source": [
    "But does this matter? A random walk can be computed efficiently with vector operations: vector random numbers and a cumulative sum. And in general most ML algorithms can be implemented with vector and matrix operations efficiently. Let's try in BIDMat:"
   ]
  },
  {
   "cell_type": "code",
   "execution_count": 36,
   "metadata": {
    "collapsed": false
   },
   "outputs": [
    {
     "name": "stdout",
     "output_type": "stream",
     "text": [
      "computed 121.1 million steps per second in 0.8 seconds"
     ]
    }
   ],
   "source": [
    "tic; rand(a); val b=cumsum(a-0.5f); val t=toc\n",
    "print(\"computed %2.1f million steps per second in %2.1f seconds\" format (n/t/1e6f, t))"
   ]
  },
  {
   "cell_type": "markdown",
   "metadata": {},
   "source": [
    "Which is better, due to the faster random number generation in the vectorized rand function. But More interesting is the GPU running time:"
   ]
  },
  {
   "cell_type": "code",
   "execution_count": 37,
   "metadata": {
    "collapsed": false
   },
   "outputs": [
    {
     "name": "stdout",
     "output_type": "stream",
     "text": [
      "computed 3225.8 million steps per second in 0.0 seconds"
     ]
    }
   ],
   "source": [
    "val ga = GMat(a)\n",
    "tic; rand(ga); val gb=cumsum(ga-0.5f); val t=toc\n",
    "print(\"computed %2.1f million steps per second in %2.1f seconds\" format (n/t/1e6f, t))"
   ]
  },
  {
   "cell_type": "markdown",
   "metadata": {},
   "source": [
    "If we run similar operators in Julia and Python we find:"
   ]
  },
  {
   "cell_type": "markdown",
   "metadata": {},
   "source": [
    "<table style=\"width:5in\" align=\"left\">\n",
    "<tr><td></td><td><b>BIDMach(CPU)</b></td><td><b>BIDMach(GPU)</b></td><td><b>Julia</b></td><td><b>Python</b></td></tr>\n",
    "<tr><td><b>with rand</b></td><td>0.6s</td><td>0.1s</td><td>0.44s</td><td>1.4s</td></tr>\n",
    "<tr><td><b>without rand</b></td><td>0.3s</td><td>0.05s</td><td>0.26s</td><td>0.5s</td></tr>\n",
    "</table>"
   ]
  },
  {
   "cell_type": "markdown",
   "metadata": {},
   "source": [
    "Vectorized operators even the playing field, and bring Python up to speed compared to the other systems. On the other hand, GPU hardware maintains a near-order-of-magnitude advantage for vector operations. "
   ]
  },
  {
   "cell_type": "markdown",
   "metadata": {},
   "source": [
    "### GPU Performance Summary"
   ]
  },
  {
   "cell_type": "markdown",
   "metadata": {},
   "source": [
    "GPU-acceleration gives an order-of-magnitude speedup (or more) for the following operations:\n",
    "* Dense matrix multiply\n",
    "* Sparse matrix multiply\n",
    "* Vector operations and reductions\n",
    "* Random numbers and transcendental function evaluation\n",
    "* Sorting\n",
    "\n",
    "So its not just for scientific computing or deep learning, but for a much wider gamut of data processing and ML. "
   ]
  },
  {
   "cell_type": "markdown",
   "metadata": {},
   "source": [
    "## Tapping the Java Universe"
   ]
  },
  {
   "cell_type": "code",
   "execution_count": 38,
   "metadata": {
    "collapsed": false
   },
   "outputs": [
    {
     "name": "stdout",
     "output_type": "stream",
     "text": []
    },
    {
     "data": {
      "text/html": [
       "<img style=\"width:4in\" alt=\"NGC 4414 (NASA-med).jpg\" src=\"https://upload.wikimedia.org/wikipedia/commons/thumb/c/c3/NGC_4414_%28NASA-med%29.jpg/1200px-NGC_4414_%28NASA-med%29.jpg\"/>"
      ],
      "text/plain": [
       "<img style=\"width:4in\" alt=\"NGC 4414 (NASA-med).jpg\" src=\"https://upload.wikimedia.org/wikipedia/commons/thumb/c/c3/NGC_4414_%28NASA-med%29.jpg/1200px-NGC_4414_%28NASA-med%29.jpg\"/>"
      ]
     },
     "execution_count": 38,
     "metadata": {},
     "output_type": "execute_result"
    }
   ],
   "source": [
    "<img style=\"width:4in\" alt=\"NGC 4414 (NASA-med).jpg\" src=\"https://upload.wikimedia.org/wikipedia/commons/thumb/c/c3/NGC_4414_%28NASA-med%29.jpg/1200px-NGC_4414_%28NASA-med%29.jpg\"/>"
   ]
  },
  {
   "cell_type": "markdown",
   "metadata": {},
   "source": [
    "Almost every piece of Java code can be used in Scala. And therefore any piece of Java code can be used interactively. \n",
    "\n",
    "There's very little work to do. You find a package and add it to your dependencies and then import as you would in Java."
   ]
  },
  {
   "cell_type": "code",
   "execution_count": 39,
   "metadata": {
    "collapsed": false
   },
   "outputs": [
    {
     "name": "stdout",
     "output_type": "stream",
     "text": []
    }
   ],
   "source": [
    "import org.apache.commons.math3.stat.inference.TestUtils._"
   ]
  },
  {
   "cell_type": "markdown",
   "metadata": {},
   "source": [
    "Apache Commons Math includes a Statistics package with many useful functions and tests. Lets create two arrays of random data and compare them. "
   ]
  },
  {
   "cell_type": "code",
   "execution_count": 40,
   "metadata": {
    "collapsed": false
   },
   "outputs": [
    {
     "name": "stdout",
     "output_type": "stream",
     "text": []
    },
    {
     "data": {
      "text/plain": [
       "0.49470,-1.3179,1.3120,0.34983,-0.15448,0.18021,-0.0047791,-0.83169,1.0949,1.3314,3.5964,-0.0050649,-0.40160,-0.47461,-1.1233,0.24085,1.1717,0.37238,1.1787,1.7823,1.1191,-1.2020,1.3341,0.68787,1.4621,0.053709,0.044125,-0.50037,0.99586,-0.74199,-0.45141,0.19420,2.5512,-0.30597,0.56445,1.0749,0.22237,-0.74343,0.47367,-0.34668"
      ]
     },
     "execution_count": 40,
     "metadata": {},
     "output_type": "execute_result"
    }
   ],
   "source": [
    "val x = normrnd(0,1,1,40)\n",
    "val y = normrnd(0,1,1,40) + 0.5"
   ]
  },
  {
   "cell_type": "markdown",
   "metadata": {},
   "source": [
    "BIDMat has enriched matrix types like FMat, SMat etc, while Apache Commons Math expects Java Arrays of Double precision floats. To get these, we can convert FMat to DMat (double) and extra the data field which contains the matrices data. "
   ]
  },
  {
   "cell_type": "code",
   "execution_count": 41,
   "metadata": {
    "collapsed": false
   },
   "outputs": [
    {
     "name": "stdout",
     "output_type": "stream",
     "text": []
    },
    {
     "data": {
      "text/plain": [
       "0.2374389453681478"
      ]
     },
     "execution_count": 41,
     "metadata": {},
     "output_type": "execute_result"
    }
   ],
   "source": [
    "val dx = DMat(x)\n",
    "val dy = DMat(y)\n",
    "tTest(dx.data, dy.data)"
   ]
  },
  {
   "cell_type": "markdown",
   "metadata": {},
   "source": [
    "But rather than doing this conversion every time we want to use some BIDMat matrices, we can instruct Scala to do the work for us. We do this with an **implicit conversion** from FMat to Array[Double]. Simply defining this function will case a coercion whenever we supply an FMat argument to a function that expects Array[Double]."
   ]
  },
  {
   "cell_type": "code",
   "execution_count": 42,
   "metadata": {
    "collapsed": false
   },
   "outputs": [
    {
     "name": "stdout",
     "output_type": "stream",
     "text": []
    }
   ],
   "source": [
    "implicit def fMatToDarray(a:FMat):Array[Double] = DMat(a).data"
   ]
  },
  {
   "cell_type": "markdown",
   "metadata": {},
   "source": [
    "And magically we can perform t-Tests on BIDMat matrices as though they had known each other all along. "
   ]
  },
  {
   "cell_type": "code",
   "execution_count": 43,
   "metadata": {
    "collapsed": false
   },
   "outputs": [
    {
     "name": "stdout",
     "output_type": "stream",
     "text": []
    },
    {
     "data": {
      "text/plain": [
       "0.2374389453681478"
      ]
     },
     "execution_count": 43,
     "metadata": {},
     "output_type": "execute_result"
    }
   ],
   "source": [
    "tTest(x, y)"
   ]
  },
  {
   "cell_type": "markdown",
   "metadata": {},
   "source": [
    "and its important to get your daily dose of beta:"
   ]
  },
  {
   "cell_type": "code",
   "execution_count": 44,
   "metadata": {
    "collapsed": false
   },
   "outputs": [
    {
     "name": "stdout",
     "output_type": "stream",
     "text": []
    },
    {
     "data": {
      "text/plain": [
       "org.apache.commons.math3.distribution.BetaDistribution@604b2b52"
      ]
     },
     "execution_count": 44,
     "metadata": {},
     "output_type": "execute_result"
    }
   ],
   "source": [
    "import org.apache.commons.math3.distribution._\n",
    "\n",
    "val betadist = new BetaDistribution(2,5)"
   ]
  },
  {
   "cell_type": "code",
   "execution_count": 45,
   "metadata": {
    "collapsed": false
   },
   "outputs": [
    {
     "name": "stdout",
     "output_type": "stream",
     "text": []
    },
    {
     "data": {
      "text/plain": [
       "null"
      ]
     },
     "execution_count": 45,
     "metadata": {},
     "output_type": "execute_result"
    }
   ],
   "source": [
    "val n = 100000\n",
    "val x = new DMat(1, n, (0 until n).map(x => betadist.sample).toArray); null"
   ]
  },
  {
   "cell_type": "code",
   "execution_count": 46,
   "metadata": {
    "collapsed": false
   },
   "outputs": [
    {
     "name": "stdout",
     "output_type": "stream",
     "text": []
    },
    {
     "data": {
      "image/png": "[encoded data removed]",
      "text/plain": [
       "BufferedImage@369de6d9: type = 2 DirectColorModel: rmask=ff0000 gmask=ff00 bmask=ff amask=ff000000 IntegerInterleavedRaster: width = 500 height = 300 #Bands = 4 xOff = 0 yOff = 0 dataOffset[0] 0"
      ]
     },
     "execution_count": 46,
     "metadata": {},
     "output_type": "execute_result"
    }
   ],
   "source": [
    "hist(x, 100)"
   ]
  },
  {
   "cell_type": "markdown",
   "metadata": {
    "collapsed": true
   },
   "source": [
    "## Deconstruction"
   ]
  },
  {
   "cell_type": "code",
   "execution_count": 47,
   "metadata": {
    "collapsed": false
   },
   "outputs": [
    {
     "name": "stdout",
     "output_type": "stream",
     "text": []
    },
    {
     "data": {
      "text/html": [
       "<image src=\"https://sketchesfromthealbum.files.wordpress.com/2015/01/jacquesderrida.jpg\" style=\"width:4in\"/>"
      ],
      "text/plain": [
       "<image src=\"https://sketchesfromthealbum.files.wordpress.com/2015/01/jacquesderrida.jpg\" style=\"width:4in\"/>"
      ]
     },
     "execution_count": 47,
     "metadata": {},
     "output_type": "execute_result"
    }
   ],
   "source": [
    "<image src=\"https://sketchesfromthealbum.files.wordpress.com/2015/01/jacquesderrida.jpg\" style=\"width:4in\"/>"
   ]
  },
  {
   "cell_type": "markdown",
   "metadata": {},
   "source": [
    "Let's make a raw Java Array of float integers."
   ]
  },
  {
   "cell_type": "code",
   "execution_count": 48,
   "metadata": {
    "collapsed": false
   },
   "outputs": [
    {
     "name": "stdout",
     "output_type": "stream",
     "text": []
    },
    {
     "data": {
      "text/plain": [
       "Array(0.0, 1.0, 2.0, 3.0, 4.0, 5.0, 6.0, 7.0, 8.0, 9.0)"
      ]
     },
     "execution_count": 48,
     "metadata": {},
     "output_type": "execute_result"
    }
   ],
   "source": [
    "val i = row(0->10).data"
   ]
  },
  {
   "cell_type": "markdown",
   "metadata": {},
   "source": [
    "First of all, Scala supports Tuple types for ad-hoc data structuring. "
   ]
  },
  {
   "cell_type": "code",
   "execution_count": 49,
   "metadata": {
    "collapsed": false
   },
   "outputs": [
    {
     "name": "stdout",
     "output_type": "stream",
     "text": []
    },
    {
     "data": {
      "text/plain": [
       "Array((0.0,0.0), (1.0,1.0), (2.0,4.0), (3.0,9.0), (4.0,16.0), (5.0,25.0), (6.0,36.0), (7.0,49.0), (8.0,64.0), (9.0,81.0))"
      ]
     },
     "execution_count": 49,
     "metadata": {},
     "output_type": "execute_result"
    }
   ],
   "source": [
    "val j = i.map(x => (x, x*x))"
   ]
  },
  {
   "cell_type": "markdown",
   "metadata": {},
   "source": [
    "We can also **deconstruct** tuples using Scala Pattern matching:"
   ]
  },
  {
   "cell_type": "code",
   "execution_count": 50,
   "metadata": {
    "collapsed": false
   },
   "outputs": [
    {
     "name": "stdout",
     "output_type": "stream",
     "text": []
    },
    {
     "data": {
      "text/plain": [
       "Array((0.0,0.0), (1.0,1.0), (4.0,2.0), (9.0,3.0), (16.0,4.0), (25.0,5.0), (36.0,6.0), (49.0,7.0), (64.0,8.0), (81.0,9.0))"
      ]
     },
     "execution_count": 50,
     "metadata": {},
     "output_type": "execute_result"
    }
   ],
   "source": [
    "j.map{case (x,y) => (y,x)}"
   ]
  },
  {
   "cell_type": "markdown",
   "metadata": {
    "collapsed": true
   },
   "source": [
    "And reduce operations can use deconstruction as well:"
   ]
  },
  {
   "cell_type": "code",
   "execution_count": 51,
   "metadata": {
    "collapsed": false
   },
   "outputs": [
    {
     "name": "stdout",
     "output_type": "stream",
     "text": []
    },
    {
     "data": {
      "text/plain": [
       "(45.0,285.0)"
      ]
     },
     "execution_count": 51,
     "metadata": {},
     "output_type": "execute_result"
    }
   ],
   "source": [
    "val k = j.reduce((ab,cd) => {val (a,b) = ab; val (c,d) = cd; (a+c, b+d)})"
   ]
  }
 ],
 "metadata": {
  "kernelspec": {
   "display_name": "Python 3",
   "language": "python",
   "name": "python3"
  },
  "language_info": {
   "name": "scala",
   "version": "2.11.2"
  }
 },
 "nbformat": 4,
 "nbformat_minor": 0
}
