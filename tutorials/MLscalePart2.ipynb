{
 "cells": [
  {
   "cell_type": "markdown",
   "metadata": {},
   "source": [
    "# Machine Learning at Scale, Part II"
   ]
  },
  {
   "cell_type": "markdown",
   "metadata": {},
   "source": [
    "For this tutorial, we'll dig deeper into BIDMach's learning architecture. The examples so far have use convenience functions which assembled together a Data Source, Learner, Model, Updater and Mixin classes to make a trainable model. This time we'll separate out those components and see how they can be customized. \n",
    "\n",
    "The dataset is from UCI and comprises Pubmed abstracts. It is about 7.3GB in text form. We'll compute an LDA topic model for this dataset. \n",
    "\n",
    "First lets initialize BIDMach again."
   ]
  },
  {
   "cell_type": "code",
   "execution_count": 8,
   "metadata": {
    "collapsed": false
   },
   "outputs": [
    {
     "name": "stdout",
     "output_type": "stream",
     "text": [
      "1 CUDA device found, CUDA version 7.0\n"
     ]
    },
    {
     "data": {
      "text/plain": [
       "(0.9901006,11959820288,12079398912)"
      ]
     },
     "execution_count": 8,
     "metadata": {},
     "output_type": "execute_result"
    }
   ],
   "source": [
    "import BIDMat.{CMat,CSMat,DMat,Dict,IDict,Image,FMat,FND,GDMat,GMat,GIMat,GSDMat,GSMat,\n",
    "               HMat,IMat,Mat,SMat,SBMat,SDMat}\n",
    "import BIDMat.MatFunctions._\n",
    "import BIDMat.SciFunctions._\n",
    "import BIDMat.Solvers._\n",
    "import BIDMat.Plotting._\n",
    "import BIDMach.Learner\n",
    "import BIDMach.models.{FM,GLM,KMeans,KMeansw,ICA,LDA,LDAgibbs,Model,NMF,RandomForest,SFA,SVD}\n",
    "import BIDMach.datasources.{DataSource,MatSource,FileSource,SFileSource}\n",
    "import BIDMach.mixins.{CosineSim,Perplexity,Top,L1Regularizer,L2Regularizer}\n",
    "import BIDMach.updaters.{ADAGrad,Batch,BatchNorm,IncMult,IncNorm,Telescoping}\n",
    "import BIDMach.causal.{IPTW}\n",
    "\n",
    "Mat.checkMKL\n",
    "Mat.checkCUDA\n",
    "Mat.inline = true\n",
    "if (Mat.hasCUDA > 0) GPUmem"
   ]
  },
  {
   "cell_type": "markdown",
   "metadata": {},
   "source": [
    "Check the GPU memory again, and make sure you dont have any dangling processes."
   ]
  },
  {
   "cell_type": "markdown",
   "metadata": {},
   "source": [
    "## Large-scale Topic Models"
   ]
  },
  {
   "cell_type": "markdown",
   "metadata": {},
   "source": [
    "A **Topic model** is a representation of a Bag-Of-Words corpus as several factors or topics. Each topic should represent a theme that recurs in the corpus. Concretely, the output of the topic model will be an (ntopics x nfeatures) matrix we will call <code>tmodel</code>. Each row of that matrix represents a topic, and the elements of that row are word probabilities for the topic (i.e. the rows sum to 1). There is more about topic models <a href=\"http://en.wikipedia.org/wiki/Topic_model\">here on wikipedia</a>.\n",
    "\n",
    "The **element <code>tmodel(i,j)</code> holds the probability that word j belongs to topic i**. Later we will examine the topics directly and try to make sense of them.\n",
    "\n",
    "Lets construct a learner with a files data source. Most model classes will accept a String argument, and assume it is a pattern for accessing a collection of files. To create the learner, we pass this pattern (which will be invoked with <string> format i) to enumerate one filename. "
   ]
  },
  {
   "cell_type": "code",
   "execution_count": 4,
   "metadata": {
    "collapsed": false
   },
   "outputs": [
    {
     "name": "stdout",
     "output_type": "stream",
     "text": []
    },
    {
     "data": {
      "text/plain": [
       "BIDMach.models.LDA$FileOpts@484d3b4b"
      ]
     },
     "execution_count": 4,
     "metadata": {},
     "output_type": "execute_result"
    }
   ],
   "source": [
    "val mdir = \"../data/uci/pubmed_parts/\";\n",
    "val (nn, opts) = LDA.learner(mdir+\"part%02d.smat.lz4\")"
   ]
  },
  {
   "cell_type": "markdown",
   "metadata": {},
   "source": [
    "Note that this dataset is quite large, and isnt one of the ones loaded by <code>getdata.sh</code> in the <code>scripts</code> directory. You need to run the script <code>getpubmed.sh</code> separately (and plan a long walk or bike ride while you wait...). \n",
    "\n",
    "This datasource uses just this sequence of files, and each matrix has 141043 rows. A number of options are listed below that control the files datasource. Most of these dont need to be set (you'll notice they're just set to their default values), but its useful to know about them for customizing data sources. "
   ]
  },
  {
   "cell_type": "code",
   "execution_count": 5,
   "metadata": {
    "collapsed": false
   },
   "outputs": [
    {
     "name": "stdout",
     "output_type": "stream",
     "text": []
    },
    {
     "data": {
      "text/plain": [
       "300"
      ]
     },
     "execution_count": 5,
     "metadata": {},
     "output_type": "execute_result"
    }
   ],
   "source": [
    "opts.nstart = 0;                 // Starting file number\n",
    "opts.nend = 10;                  // Ending file number\n",
    "opts.order = 0;                  // (0) sample order, 0=linear, 1=random\n",
    "opts.lookahead = 2;              // (2) number of prefetch threads\n",
    "opts.featType = 1;               // (1) feature type, 0=binary, 1=linear\n",
    "// These are specific to SfilesDS:\n",
    "opts.fcounts = icol(141043);     // how many rows to pull from each input matrix \n",
    "opts.eltsPerSample = 300         // how many rows to allocate (non-zeros per sample)"
   ]
  },
  {
   "cell_type": "markdown",
   "metadata": {},
   "source": [
    "We're ready to go. LDA is a popular topic model, described <a href=\"http://en.wikipedia.org/wiki/Latent_Dirichlet_allocation\">here on wikipedia</a>.\n",
    "\n",
    "We use a fast version of LDA which uses an incremental multiplicative update described by Hoffman, Blei and Bach \n",
    "<a href=\"https://www.cs.princeton.edu/~blei/papers/HoffmanBleiBach2010b.pdf\">here</a>"
   ]
  },
  {
   "cell_type": "markdown",
   "metadata": {},
   "source": [
    "### Tuning Options"
   ]
  },
  {
   "cell_type": "markdown",
   "metadata": {},
   "source": [
    "Add tuning options for minibatch size (say 100k), number of passes (4) and dimension (<code>dim = 256</code>). "
   ]
  },
  {
   "cell_type": "code",
   "execution_count": 6,
   "metadata": {
    "collapsed": false
   },
   "outputs": [
    {
     "name": "stdout",
     "output_type": "stream",
     "text": []
    },
    {
     "data": {
      "text/plain": [
       "256"
      ]
     },
     "execution_count": 6,
     "metadata": {},
     "output_type": "execute_result"
    }
   ],
   "source": [
    "opts.batchSize=50000\n",
    "opts.npasses=2\n",
    "opts.dim=256"
   ]
  },
  {
   "cell_type": "markdown",
   "metadata": {},
   "source": [
    "You invoke the learner the same way as before. You can change the options above after each run to optimize performance. "
   ]
  },
  {
   "cell_type": "code",
   "execution_count": 7,
   "metadata": {
    "collapsed": false
   },
   "outputs": [
    {
     "name": "stdout",
     "output_type": "stream",
     "text": [
      "corpus perplexity=9554.363735\n",
      "pass= 0\n",
      " 1.00%, ll=-8.62921, gf=23.559, secs=1.3, GB=0.04, MB/s=31.12, GPUmem=0.915805\n",
      " 7.00%, ll=-7.21317, gf=32.201, secs=6.5, GB=0.27, MB/s=41.13, GPUmem=0.915805\n",
      "14.00%, ll=-7.07097, gf=31.597, secs=12.3, GB=0.50, MB/s=40.25, GPUmem=0.915805\n",
      "21.00%, ll=-6.99212, gf=32.130, secs=17.7, GB=0.72, MB/s=40.89, GPUmem=0.915805\n",
      "28.00%, ll=-6.99992, gf=32.353, secs=23.1, GB=0.95, MB/s=41.15, GPUmem=0.915805\n",
      "34.00%, ll=-6.97847, gf=32.439, secs=28.6, GB=1.18, MB/s=41.24, GPUmem=0.915805\n",
      "41.00%, ll=-6.91536, gf=32.750, secs=33.8, GB=1.41, MB/s=41.63, GPUmem=0.915805\n",
      "48.00%, ll=-6.95439, gf=32.799, secs=39.2, GB=1.64, MB/s=41.69, GPUmem=0.915805\n",
      "54.00%, ll=-6.95538, gf=32.905, secs=44.5, GB=1.86, MB/s=41.81, GPUmem=0.915805\n",
      "61.00%, ll=-6.89019, gf=32.986, secs=49.9, GB=2.09, MB/s=41.91, GPUmem=0.915805\n",
      "68.00%, ll=-6.93782, gf=33.076, secs=55.2, GB=2.32, MB/s=42.03, GPUmem=0.915805\n",
      "75.00%, ll=-6.93163, gf=33.148, secs=60.5, GB=2.55, MB/s=42.11, GPUmem=0.915805\n",
      "81.00%, ll=-6.88318, gf=33.216, secs=65.8, GB=2.78, MB/s=42.20, GPUmem=0.915805\n",
      "88.00%, ll=-6.92872, gf=33.279, secs=71.0, GB=3.00, MB/s=42.28, GPUmem=0.915805\n",
      "95.00%, ll=-6.92000, gf=33.139, secs=76.7, GB=3.23, MB/s=42.10, GPUmem=0.915805\n",
      "100.00%, ll=-6.93458, gf=33.202, secs=80.6, GB=3.40, MB/s=42.18, GPUmem=0.915805\n",
      "pass= 1\n",
      " 1.00%, ll=-6.88233, gf=32.919, secs=82.2, GB=3.44, MB/s=41.84, GPUmem=0.915805\n",
      " 7.00%, ll=-6.90600, gf=32.940, secs=87.6, GB=3.67, MB/s=41.87, GPUmem=0.915805\n",
      "14.00%, ll=-6.89949, gf=32.976, secs=92.9, GB=3.89, MB/s=41.91, GPUmem=0.915805\n",
      "21.00%, ll=-6.86924, gf=33.059, secs=98.1, GB=4.12, MB/s=42.01, GPUmem=0.915805\n",
      "28.00%, ll=-6.90228, gf=33.135, secs=103.3, GB=4.35, MB/s=42.11, GPUmem=0.915805\n",
      "34.00%, ll=-6.89748, gf=33.193, secs=108.5, GB=4.58, MB/s=42.18, GPUmem=0.915805\n",
      "41.00%, ll=-6.84756, gf=33.228, secs=113.8, GB=4.81, MB/s=42.22, GPUmem=0.915805\n",
      "48.00%, ll=-6.89597, gf=33.287, secs=119.0, GB=5.03, MB/s=42.30, GPUmem=0.915805\n",
      "54.00%, ll=-6.90370, gf=33.304, secs=124.3, GB=5.26, MB/s=42.32, GPUmem=0.915805\n",
      "61.00%, ll=-6.84613, gf=33.359, secs=129.5, GB=5.49, MB/s=42.39, GPUmem=0.915805\n",
      "68.00%, ll=-6.89732, gf=33.397, secs=134.8, GB=5.72, MB/s=42.43, GPUmem=0.915805\n",
      "75.00%, ll=-6.89512, gf=33.419, secs=140.0, GB=5.94, MB/s=42.46, GPUmem=0.915805\n",
      "81.00%, ll=-6.85059, gf=33.444, secs=145.3, GB=6.17, MB/s=42.49, GPUmem=0.915805\n",
      "88.00%, ll=-6.89899, gf=33.469, secs=150.6, GB=6.40, MB/s=42.52, GPUmem=0.915805\n",
      "95.00%, ll=-6.89267, gf=33.413, secs=156.2, GB=6.63, MB/s=42.45, GPUmem=0.915805\n",
      "100.00%, ll=-6.90933, gf=33.445, secs=159.9, GB=6.80, MB/s=42.49, GPUmem=0.915805\n",
      "Time=159.9480 secs, gflops=33.45\n"
     ]
    }
   ],
   "source": [
    "nn.train"
   ]
  },
  {
   "cell_type": "markdown",
   "metadata": {},
   "source": [
    "Each training run creates a <code>results</code> matrix which is essentially a graph of the log likelihood vs number of input samples. The first row is the likelihood values, the second is the corresponding number of input samples procesed. We can plot the results here:"
   ]
  },
  {
   "cell_type": "code",
   "execution_count": 9,
   "metadata": {
    "collapsed": false
   },
   "outputs": [
    {
     "name": "stdout",
     "output_type": "stream",
     "text": []
    },
    {
     "data": {
      "image/png": "[encoded data removed]",
      "text/plain": [
       "BufferedImage@4206f8ac: type = 2 DirectColorModel: rmask=ff0000 gmask=ff00 bmask=ff amask=ff000000 IntegerInterleavedRaster: width = 500 height = 300 #Bands = 4 xOff = 0 yOff = 0 dataOffset[0] 0"
      ]
     },
     "execution_count": 9,
     "metadata": {},
     "output_type": "execute_result"
    }
   ],
   "source": [
    "plot(nn.results(1,?), nn.results(0,?))"
   ]
  },
  {
   "cell_type": "markdown",
   "metadata": {},
   "source": [
    "## Evaluation"
   ]
  },
  {
   "cell_type": "markdown",
   "metadata": {},
   "source": [
    "To evaluate the model, we save the model matrix itself, and also load a dictionary of the terms in the corpus."
   ]
  },
  {
   "cell_type": "code",
   "execution_count": 10,
   "metadata": {
    "collapsed": false
   },
   "outputs": [
    {
     "name": "stdout",
     "output_type": "stream",
     "text": []
    },
    {
     "data": {
      "text/plain": [
       "BIDMat.Dict@426d0606"
      ]
     },
     "execution_count": 10,
     "metadata": {},
     "output_type": "execute_result"
    }
   ],
   "source": [
    "val tmodel = FMat(nn.modelmat)\n",
    "val dict = Dict(loadSBMat(mdir+\"../pubmed.term.sbmat.lz4\"))"
   ]
  },
  {
   "cell_type": "markdown",
   "metadata": {},
   "source": [
    "The dictionary allows us to look up terms by their index, e.g. <code>dict(1000)</code>, by their string represenation <code>dict(\"book\")</code>, and by matrices of these, e.g. <code>dict(ii)</code> where <code>ii</code> is an IMat. Try a few such queries to the dict here:"
   ]
  },
  {
   "cell_type": "code",
   "execution_count": null,
   "metadata": {
    "collapsed": false
   },
   "outputs": [],
   "source": []
  },
  {
   "cell_type": "markdown",
   "metadata": {},
   "source": [
    "Next we evaluate the entropy of each dimension of the model. Recall that the entropy of a discrete probability distribution is $E = -\\sum_{i=1}^n p_i \\ln(p_i)$. The rows of the matrix are the topic probabilities.\n",
    "\n",
    "Compute the entropies for each topic:"
   ]
  },
  {
   "cell_type": "code",
   "execution_count": 11,
   "metadata": {
    "collapsed": false
   },
   "outputs": [
    {
     "name": "stdout",
     "output_type": "stream",
     "text": []
    },
    {
     "data": {
      "text/plain": [
       "5.3690,4.6173,5.1931,4.3272,5.0450,4.5908,5.1990,4.7400,5.4388,5.8817,3.9942,4.9691,3.4760,4.6803,5.2240,4.4261,2.6143,3.1982,5.6850,3.4297,5.6296,5.3391,3.8725,2.2650,4.6011,3.9788,5.7375,4.4867,5.0735,6.1844,4.0956,2.8332,5.4907,4.9725,3.3547,5.3487,5.6557,1.4047,3.5170,4.5044,5.7995,2.4384,4.1112,4.4545,5.4398,6.0336,4.1584,5.8070,4.9180,5.2823,5.4019,5.9175,5.3857,3.9122,5.9236,4.3411,4.1151,5.5967,5.1880,4.4677,5.7242,5.1439,4.2215,5.7330,5.0427,3.9807,1.9134,5.8287,4.9574,4.4223,1.3168,5.2260,2.5951,5.0342,5.4247,5.6248,4.6704,4.3363,5.2154,5.2817,5.0274,4.9941,3.7814,5.8868,5.6136,5.2359,4.5909,5.4422,5.2665,5.2949,4.7852,6.6557,6.5379,5.3790,5.2939,4.6287,2.0682,4.5764,4.9867,5.0565,6.4646,3.6091,2.8973,4.5669,5.4499,4.5803,4.7112,5.6246,5.1831,5.7630,5.3857,4.1282,5.1649,4.4527,5.9053,5.6804,5.0836,2.7533,4.6551,5.2569,5.0817,4.9214,5.2170,5.1846,3.7757,5.6146,3.8624,4.0365,4.7211,5.0008,5.6816,4.7475,3.5002,3.8224,5.5547,5.3043,4.8786,5.8705,4.8430,4.7702,5.3252,3.7670,5.7337,4.7724,6.2890,5.1859,5.7853,4.2214,6.3348,5.0406,4.3298,4.4236,3.7088,5.0202,5.7951,5.3504,3.4793,4.5761,6.9167,4.2276,4.4058,4.3454,5.1672,5.0740,5.0467,5.5776,4.5395,4.2843,4.7000,5.3961,5.1568,5.8496,4.8494,5.8710,5.2259,4.6676,5.3866,6.0323,4.7003,5.4397,4.7043,5.0056,4.7536,4.0658,3.3037,4.2808,4.5912,4.4660,3.1263,2.9411,5.4640,4.7006,4.8411,5.2522,5.5972,4.9456,5.4653,4.3169,3.6607,5.0643,5.8012,5.7670,4.5765,5.3857,5.6104,5.5617,4.0762,4.8801,4.9782,5.5084,4.3933,4.6105,1.3193,3.5763,4.6258,5.0435,4.9110,5.8140,5.7303,3.6450,6.0164,3.8366,5.5495,3.2494,3.5615,2.4993,5.1434,6.3037,3.4777,5.7027,2.2606,3.6736,5.4696,4.5614,5.1449,5.1093,4.4792,5.3071,5.1057,4.9934,4.4987,3.9449,4.7822,2.2666,4.4056,2.4848,5.0126,4.3265,4.8132,5.7773,5.3334,3.3453,5.4814,5.2692,4.9123,4.0051"
      ]
     },
     "execution_count": 11,
     "metadata": {},
     "output_type": "execute_result"
    }
   ],
   "source": [
    "val ent = -(tmodel dotr ln(tmodel))\n",
    "ent.t // put them in a horizontal line"
   ]
  },
  {
   "cell_type": "markdown",
   "metadata": {},
   "source": [
    "Get the mean value (should be positive)"
   ]
  },
  {
   "cell_type": "code",
   "execution_count": 12,
   "metadata": {
    "collapsed": false
   },
   "outputs": [
    {
     "name": "stdout",
     "output_type": "stream",
     "text": []
    },
    {
     "data": {
      "text/plain": [
       "4.7504"
      ]
     },
     "execution_count": 12,
     "metadata": {},
     "output_type": "execute_result"
    }
   ],
   "source": [
    "mean(ent)  "
   ]
  },
  {
   "cell_type": "markdown",
   "metadata": {},
   "source": [
    "Find the smallest and largest entropy topic indices (use maxi2 and mini2). Call them <code>elargest</code> and <code>esmallest</code>."
   ]
  },
  {
   "cell_type": "code",
   "execution_count": 13,
   "metadata": {
    "collapsed": false
   },
   "outputs": [
    {
     "name": "stdout",
     "output_type": "stream",
     "text": []
    },
    {
     "data": {
      "text/plain": [
       "70"
      ]
     },
     "execution_count": 13,
     "metadata": {},
     "output_type": "execute_result"
    }
   ],
   "source": [
    "val (vlargest,elargest) = maxi2(ent)\n",
    "val (vsmallest,esmallest) = mini2(ent)"
   ]
  },
  {
   "cell_type": "markdown",
   "metadata": {},
   "source": [
    "Now we'll sort the probabilities within each topic to bring the highest probability terms to the beginning. We sort down (descending order) along dimension 2 (rows) to do this. <code>bestv</code> gets the sorted values and <code>besti</code> gets the sorted indices which are the feature indices."
   ]
  },
  {
   "cell_type": "code",
   "execution_count": 14,
   "metadata": {
    "collapsed": false
   },
   "outputs": [
    {
     "name": "stdout",
     "output_type": "stream",
     "text": []
    },
    {
     "data": {
      "text/plain": [
       "  1244  2143  3013  1414  2058  2541  4052  2173   649  4272  6756  3491...\n",
       "   127   398   397   401  1109   178   977   115  2521  1998   260  3198...\n",
       "   466  1117  2414  2266  4043  2892  3263  3104  5788    43  4002  5570...\n",
       "   675   419  1387  2119  2321  3749  2165  3212  3805  3937  5436  4943...\n",
       "   402   533   999  1072   957  2558  3145  3532     2  2680  3201  1527...\n",
       "  2214  2666  1673  4530  3199  3119  3694  5270  5069  6945  3868  7725...\n",
       "   494   550   766  1486  6144   267  2527  2929  4068    18  3600    93...\n",
       "   328   323   703   653  1443  4601  1339  5438  6123  4044   890  7498...\n",
       "    ..    ..    ..    ..    ..    ..    ..    ..    ..    ..    ..    ..\n"
      ]
     },
     "execution_count": 14,
     "metadata": {},
     "output_type": "execute_result"
    }
   ],
   "source": [
    "val (bestp, besti) = sortdown2(tmodel,2)"
   ]
  },
  {
   "cell_type": "markdown",
   "metadata": {},
   "source": [
    "Now examine the 100 strongest terms in each topic:"
   ]
  },
  {
   "cell_type": "code",
   "execution_count": 15,
   "metadata": {
    "collapsed": false
   },
   "outputs": [
    {
     "name": "stdout",
     "output_type": "stream",
     "text": []
    },
    {
     "data": {
      "text/plain": [
       "hospital,program,care,health,cost,services,health_care,need,community,nursing,service,public,decision,plan,policy,benefit,planning,economic,organization,new,impact,nurses,management,national,goal,facilities,resources,issues,control,law,institution,personnel,process,home,article,mental_health,nurse,professional,unit,provide,social,under,legal,financial,effort,development,pharmacy,quality,strategies,medicare,demand,provision,utilization,project,center,federal,payment,implementation,act,effective,provider,public_health,staff,market,setting,government,intervention,prevention,ethical,health_services,private,individual,major,policies,responsibility,medical,requirement,regulation,objectives,court,facility,insurance,current,delivery,provided,medical_care,meet,part,standard,person,implication,product,based,concern,research,future,agencies,providing,work,saving"
      ]
     },
     "execution_count": 15,
     "metadata": {},
     "output_type": "execute_result"
    }
   ],
   "source": [
    "dict(besti(elargest,0->100))"
   ]
  },
  {
   "cell_type": "code",
   "execution_count": 16,
   "metadata": {
    "collapsed": false
   },
   "outputs": [
    {
     "name": "stdout",
     "output_type": "stream",
     "text": []
    },
    {
     "data": {
      "text/plain": [
       "protein,basic,binding_protein,acidic,cap,mbp,major,s-100,amount,myelin,bound,scrapie,bind,membrane_protein,ubiquitin,proteolipid,retinol-binding,s100,cellular,biochemical,protein_level,protein-bound,known,specifically,appear,acid-binding,function,milligram,including,involved,constituent,prion,pmol/mg,macromolecules,saf,gfa,abundant,kilodalton,general,show,lowry,unknown,immunoblot,whole,immunologically,rich,intrinsic,common,possible,g_protein,variety,immunoblotting,scrapie-infected,hsp90,previously,identification,abundance,association,origin,fut-175,include,suggesting,immunochemical,p55,least,product,encephalitogenic,identical,unique,properties,absent,c4b-binding,tightly,anti-mbp,comparison,identify,called,bacterially,scrapie-associated,protein-free,exception,2-glycoprotein,protein-induced,protein-containing,counterpart,analyzed,biuret,microgram/mg,constitute,individual,protein-specific,property,dm-20,70-kda,interact,belong,protein-depleted,protein.abstract,similarities,neurospecific"
      ]
     },
     "execution_count": 16,
     "metadata": {},
     "output_type": "execute_result"
    }
   ],
   "source": [
    "dict(besti(esmallest,0->100))"
   ]
  },
  {
   "cell_type": "markdown",
   "metadata": {},
   "source": [
    "Do you notice any difference in the coherence of these two topics?"
   ]
  },
  {
   "cell_type": "markdown",
   "metadata": {},
   "source": [
    "> TODO: Fill in your answer here"
   ]
  },
  {
   "cell_type": "markdown",
   "metadata": {},
   "source": [
    "By sorting the entropies, find the 2nd and 3rd smallest entropy topics. Give the top 100 terms in each topic below:"
   ]
  },
  {
   "cell_type": "code",
   "execution_count": null,
   "metadata": {
    "collapsed": false
   },
   "outputs": [],
   "source": [
    "val (sent, ient) = sort2(ent)\n",
    "// words for 2nd lowest entropy topic\n",
    "dict(besti(ient(1),0->100))"
   ]
  },
  {
   "cell_type": "code",
   "execution_count": null,
   "metadata": {
    "collapsed": false
   },
   "outputs": [],
   "source": [
    "// words for 3rd lowest entropy topic\n",
    "dict(besti(ient(2),0->100))"
   ]
  },
  {
   "cell_type": "markdown",
   "metadata": {},
   "source": [
    "## Running more topics"
   ]
  },
  {
   "cell_type": "markdown",
   "metadata": {},
   "source": [
    "What would you expect to happen to the average topic entropy if you run fewer topics? "
   ]
  },
  {
   "cell_type": "markdown",
   "metadata": {},
   "source": [
    "> TODO: answer here"
   ]
  },
  {
   "cell_type": "markdown",
   "metadata": {},
   "source": [
    "Change the opts.dim argument above and try it. First note the entropy at dim = 256 below. Then run again with <code>dim=64</code> and put the new value below: "
   ]
  },
  {
   "cell_type": "markdown",
   "metadata": {},
   "source": [
    "<table>\n",
    "<tr>\n",
    "<th>dim</th>\n",
    "<th>mean entropy</th>\n",
    "</tr>\n",
    "<tr>\n",
    "<td>64</td>\n",
    "<td>...</td>\n",
    "</tr>\n",
    "<tr>\n",
    "<td>256</td>\n",
    "<td>...</td>\n",
    "</tr>\n",
    "</table>\n"
   ]
  }
 ],
 "metadata": {
  "kernelspec": {
   "display_name": "Python 3",
   "language": "python",
   "name": "python3"
  },
  "language_info": {
   "name": "scala",
   "version": "2.11.2"
  }
 },
 "nbformat": 4,
 "nbformat_minor": 0
}
