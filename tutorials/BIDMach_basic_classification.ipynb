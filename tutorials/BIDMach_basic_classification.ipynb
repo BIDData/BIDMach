{
 "metadata": {
  "kernelspec": {
   "display_name": "Python 2",
   "language": "python",
   "name": "python2"
  },
  "language_info": {
   "name": "scala",
   "version": "2.11.2"
  },
  "name": "",
  "signature": "sha256:b1a93fb34d07a6c27b93cf7797094a5080f7d17b2bc8ef3978fead6d285a5fa2"
 },
 "nbformat": 3,
 "nbformat_minor": 0,
 "worksheets": [
  {
   "cells": [
    {
     "cell_type": "heading",
     "level": 1,
     "metadata": {},
     "source": [
      "BIDMach: basic classification"
     ]
    },
    {
     "cell_type": "markdown",
     "metadata": {},
     "source": [
      "For this tutorial, we'll BIDMach's GLM (Generalized Linear Model) package. It includes linear regression, logistic regression, and support vector machines (SVMs). The imports below include both BIDMat's matrix classes, and BIDMach machine learning classes. "
     ]
    },
    {
     "cell_type": "code",
     "collapsed": false,
     "input": [
      "import BIDMat.{CMat,CSMat,DMat,Dict,IDict,FMat,GDMat,GMat,GIMat,GSDMat,GSMat,HMat,Image,IMat,Mat,SMat,SBMat,SDMat}\n",
      "import BIDMat.MatFunctions._\n",
      "import BIDMat.SciFunctions._\n",
      "import BIDMat.Solvers._\n",
      "import BIDMat.JPlotting._\n",
      "import BIDMach.Learner\n",
      "import BIDMach.models.{FM,GLM,KMeans,KMeansw,ICA,LDA,LDAgibbs,NMF,RandomForest,SFA}\n",
      "import BIDMach.datasources.{MatSource,FileSource,SFileSource}\n",
      "import BIDMach.mixins.{CosineSim,Perplexity,Top,L1Regularizer,L2Regularizer}\n",
      "import BIDMach.updaters.{ADAGrad,Batch,BatchNorm,IncMult,IncNorm,Telescoping}\n",
      "import BIDMach.causal.{IPTW}\n",
      "\n",
      "Mat.checkMKL\n",
      "Mat.checkCUDA\n",
      "Mat.setInline\n",
      "if (Mat.hasCUDA > 0) GPUmem"
     ],
     "language": "python",
     "metadata": {},
     "outputs": [
      {
       "output_type": "stream",
       "stream": "stdout",
       "text": [
        "1 CUDA device found, CUDA version 8.0\n"
       ]
      },
      {
       "output_type": "stream",
       "stream": "stdout",
       "text": []
      },
      {
       "output_type": "stream",
       "stream": "stdout",
       "text": []
      },
      {
       "metadata": {},
       "output_type": "pyout",
       "prompt_number": 1,
       "text": [
        "(0.33981,4348510208,12796887040)"
       ]
      }
     ],
     "prompt_number": 1
    },
    {
     "cell_type": "heading",
     "level": 2,
     "metadata": {},
     "source": [
      "Dataset: Reuters RCV1 V2"
     ]
    },
    {
     "cell_type": "markdown",
     "metadata": {},
     "source": [
      "The dataset is the widely used Reuters news article dataset RCV1 V2. This dataset and several others are loaded by running the script <code>getdata.sh</code> from the BIDMach/scripts directory. The data include both train and test subsets, and train and test labels (cats). "
     ]
    },
    {
     "cell_type": "code",
     "collapsed": false,
     "input": [
      "var dir = \"../data/rcv1/\"  // Assumes bidmach is run from BIDMach/tutorials. Adjust to point to the BIDMach/data/rcv1 directory\n",
      "tic\n",
      "val train = loadSMat(dir+\"docs.smat.lz4\")\n",
      "val cats = loadFMat(dir+\"cats.fmat.lz4\")\n",
      "val test = loadSMat(dir+\"testdocs.smat.lz4\")\n",
      "val tcats = loadFMat(dir+\"testcats.fmat.lz4\")\n",
      "toc"
     ],
     "language": "python",
     "metadata": {},
     "outputs": [
      {
       "output_type": "stream",
       "stream": "stdout",
       "text": []
      },
      {
       "output_type": "stream",
       "stream": "stdout",
       "text": []
      },
      {
       "metadata": {},
       "output_type": "pyout",
       "prompt_number": 2,
       "text": [
        "0.956"
       ]
      }
     ],
     "prompt_number": 2
    },
    {
     "cell_type": "markdown",
     "metadata": {},
     "source": [
      "BIDMach's basic classifiers can invoked like this on data that fits in memory:"
     ]
    },
    {
     "cell_type": "code",
     "collapsed": false,
     "input": [
      "val (mm, opts) = GLM.learner(train, cats, GLM.logistic)"
     ],
     "language": "python",
     "metadata": {},
     "outputs": [
      {
       "output_type": "stream",
       "stream": "stdout",
       "text": []
      },
      {
       "output_type": "stream",
       "stream": "stdout",
       "text": []
      },
      {
       "metadata": {},
       "output_type": "pyout",
       "prompt_number": 3,
       "text": [
        "BIDMach.models.GLM$LearnOptions@2eadaf38"
       ]
      }
     ],
     "prompt_number": 3
    },
    {
     "cell_type": "markdown",
     "metadata": {},
     "source": [
      "The last option specifies the type of model, linear, logistic or SVM. The syntax is a little unusual. There are two values returned. The first <code>mm</code> is a \"learner\" which includes model, optimizer, and mixin classes. The second <code>opts</code> is an options object specialized to that combination of learner components. This design facilitates rapid iteration over model parameters from the command line or notebook. \n",
      "\n",
      "The parameters of the model can be viewed and modified by doing <code>opts.what</code>"
     ]
    },
    {
     "cell_type": "code",
     "collapsed": false,
     "input": [
      "opts.what\n",
      "opts.lrate=0.3f"
     ],
     "language": "python",
     "metadata": {},
     "outputs": [
      {
       "output_type": "stream",
       "stream": "stdout",
       "text": [
        "Option Name       Type          Value\n",
        "===========       ====          =====\n",
        "addConstFeat      boolean       false\n",
        "aopts             Opts          null\n",
        "autoReset         boolean       true\n",
        "batchSize         int           10000\n",
        "checkPointFile    String        null\n",
        "checkPointInterval  float         0.0\n",
        "clipByValue       float         -1.0\n",
        "cumScore          int           0\n",
        "debug             int           0\n",
        "debugCPUmem       boolean       false\n",
        "debugMem          boolean       false\n",
        "dim               int           256\n",
        "doAllReduce       boolean       false\n",
        "doubleScore       boolean       false\n",
        "doVariance        boolean       false\n",
        "epsilon           float         1.0E-5\n",
        "evalStep          int           11\n",
        "featThreshold     Mat           null\n",
        "featType          int           1\n",
        "gsq_decay         float         -1.0\n",
        "hashBound1        int           1000000\n",
        "hashBound2        int           1000000\n",
        "hashFeatures      int           0\n",
        "initsumsq         float         1.0E-5\n",
        "iweight           FMat          null\n",
        "l2reg             FMat          null\n",
        "langevin          float         0.0\n",
        "lim               float         0.0\n",
        "links             IMat          1,1,1,1,1,1,1,1,1,1,...\n",
        "logDataSink       DataSink      null\n",
        "logfile           String        log.txt\n",
        "logFuncs          Function2[]   null\n",
        "lr_policy         Function3     null\n",
        "lrate             FMat          1\n",
        "mask              FMat          null\n",
        "matrixOfScores    boolean       false\n",
        "max_grad_norm     float         -1.0\n",
        "mixinInterval     int           1\n",
        "nesterov_vel_decay  FMat          null\n",
        "npasses           int           2\n",
        "nzPerColumn       int           0\n",
        "pauseAt           long          -1\n",
        "pexp              FMat          0\n",
        "pstep             float         0.01\n",
        "putBack           int           -1\n",
        "r1nmats           int           1\n",
        "reg1weight        FMat          1.0000e-07\n",
        "resFile           String        null\n",
        "rmask             FMat          null\n",
        "sample            float         1.0\n",
        "sizeMargin        float         3.0\n",
        "startBlock        int           8000\n",
        "targets           FMat          null\n",
        "targmap           FMat          null\n",
        "texp              FMat          0.50000\n",
        "trace             int           0\n",
        "updateAll         boolean       false\n",
        "useCache          boolean       true\n",
        "useDouble         boolean       false\n",
        "useGPU            boolean       true\n",
        "useGPUcache       boolean       true\n",
        "vel_decay         FMat          null\n",
        "vexp              FMat          0.50000\n",
        "waitsteps         int           3\n"
       ]
      },
      {
       "output_type": "stream",
       "stream": "stdout",
       "text": []
      },
      {
       "metadata": {},
       "output_type": "pyout",
       "prompt_number": 4,
       "text": [
        "0.30000"
       ]
      }
     ],
     "prompt_number": 4
    },
    {
     "cell_type": "markdown",
     "metadata": {},
     "source": [
      "Most of these will work well with their default values. On the other hand, a few have a strong effect on performance. Those include:\n",
      "<pre>\n",
      "lrate: the learning rate\n",
      "batchSize: the minibatch size\n",
      "npasses: the number of passes over the dataset\n",
      "</pre>\n",
      "We will talk about tuning those in a moment. For now lets train the model:"
     ]
    },
    {
     "cell_type": "code",
     "collapsed": false,
     "input": [
      "opts.npasses=2\n",
      "mm.train"
     ],
     "language": "python",
     "metadata": {},
     "outputs": [
      {
       "output_type": "stream",
       "stream": "stdout",
       "text": [
        "13:58:14 INFO: pass= 0\n"
       ]
      },
      {
       "output_type": "stream",
       "stream": "stdout",
       "text": [
        "corpus perplexity=5582.125438\n"
       ]
      },
      {
       "output_type": "stream",
       "stream": "stdout",
       "text": [
        "13:58:15 INFO:  2.00%, score=-0.69315, secs=0.6, samps/s=34843.2, gf= 1.4, MB/s=36.7, GPUmem=0.271185\n"
       ]
      },
      {
       "output_type": "stream",
       "stream": "stdout",
       "text": [
        "13:58:16 INFO: 16.00%, score=-0.06945, secs=1.6, samps/s=78931.4, gf= 4.8, MB/s=81.8, GPUmem=0.262274\n"
       ]
      },
      {
       "output_type": "stream",
       "stream": "stdout",
       "text": [
        "13:58:18 INFO: 30.00%, score=-0.05821, secs=4.0, samps/s=59805.6, gf= 3.7, MB/s=61.6, GPUmem=0.262274\n"
       ]
      },
      {
       "output_type": "stream",
       "stream": "stdout",
       "text": [
        "13:58:19 INFO: 44.00%, score=-0.04975, secs=5.0, samps/s=69389.4, gf= 4.4, MB/s=71.6, GPUmem=0.262274\n"
       ]
      },
      {
       "output_type": "stream",
       "stream": "stdout",
       "text": [
        "13:58:20 INFO: 58.00%, score=-0.04781, secs=6.1, samps/s=75720.2, gf= 4.9, MB/s=78.3, GPUmem=0.262274\n"
       ]
      },
      {
       "output_type": "stream",
       "stream": "stdout",
       "text": [
        "13:58:21 INFO: 72.00%, score=-0.03869, secs=7.1, samps/s=80326.9, gf= 5.2, MB/s=82.8, GPUmem=0.262274\n"
       ]
      },
      {
       "output_type": "stream",
       "stream": "stdout",
       "text": [
        "13:58:22 INFO: 87.00%, score=-0.04267, secs=8.1, samps/s=83795.4, gf= 5.4, MB/s=86.5, GPUmem=0.262274\n"
       ]
      },
      {
       "output_type": "stream",
       "stream": "stdout",
       "text": [
        "13:58:23 INFO: 100.00%, score=-0.03791, secs=9.1, samps/s=85768.5, gf= 5.6, MB/s=88.5, GPUmem=0.261947\n"
       ]
      },
      {
       "output_type": "stream",
       "stream": "stdout",
       "text": [
        "13:58:23 INFO: pass= 1\n"
       ]
      },
      {
       "output_type": "stream",
       "stream": "stdout",
       "text": [
        "13:58:24 INFO:  2.00%, score=-0.04447, secs=9.2, samps/s=86632.6, gf= 5.6, MB/s=89.4, GPUmem=0.261947\n"
       ]
      },
      {
       "output_type": "stream",
       "stream": "stdout",
       "text": [
        "13:58:25 INFO: 16.00%, score=-0.03898, secs=10.3, samps/s=88696.2, gf= 5.8, MB/s=91.6, GPUmem=0.261947\n"
       ]
      },
      {
       "output_type": "stream",
       "stream": "stdout",
       "text": [
        "13:58:26 INFO: 30.00%, score=-0.04247, secs=11.3, samps/s=90626.1, gf= 5.9, MB/s=93.5, GPUmem=0.261947\n"
       ]
      },
      {
       "output_type": "stream",
       "stream": "stdout",
       "text": [
        "13:58:27 INFO: 44.00%, score=-0.03903, secs=12.3, samps/s=91972.8, gf= 6.0, MB/s=94.9, GPUmem=0.261947\n"
       ]
      },
      {
       "output_type": "stream",
       "stream": "stdout",
       "text": [
        "13:58:28 INFO: 58.00%, score=-0.04090, secs=13.3, samps/s=93160.1, gf= 6.1, MB/s=96.2, GPUmem=0.261947\n"
       ]
      },
      {
       "output_type": "stream",
       "stream": "stdout",
       "text": [
        "13:58:29 INFO: 72.00%, score=-0.03367, secs=14.4, samps/s=94158.3, gf= 6.1, MB/s=97.1, GPUmem=0.261947\n"
       ]
      },
      {
       "output_type": "stream",
       "stream": "stdout",
       "text": [
        "13:58:30 INFO: 87.00%, score=-0.03964, secs=15.4, samps/s=94942.8, gf= 6.2, MB/s=98.0, GPUmem=0.261947\n"
       ]
      },
      {
       "output_type": "stream",
       "stream": "stdout",
       "text": [
        "13:58:31 INFO: 100.00%, score=-0.03496, secs=16.4, samps/s=95270.4, gf= 6.2, MB/s=98.3, GPUmem=0.261947\n"
       ]
      },
      {
       "output_type": "stream",
       "stream": "stdout",
       "text": [
        "13:58:31 INFO: Time=16.4020 secs, gflops=6.24\n"
       ]
      },
      {
       "output_type": "stream",
       "stream": "stdout",
       "text": []
      },
      {
       "output_type": "stream",
       "stream": "stdout",
       "text": []
      }
     ],
     "prompt_number": 5
    },
    {
     "cell_type": "markdown",
     "metadata": {},
     "source": [
      "The output includes important information about the training cycle:\n",
      "* Percentage of dataset processed\n",
      "* Cross-validated log likelihood (or negative loss)\n",
      "* Overall throughput in gigaflops\n",
      "* Elapsed time in seconds\n",
      "* Total Gigabytes processed\n",
      "* I/O throughput in MB/s\n",
      "* GPU memory remaining (if using a GPU)\n",
      "\n",
      "The likelihood is calculated on a set of minibatches that are held out from training on every cycle. So this is a cross-validated likelihood estimate. Cross-validated likelihood will increase initially, but will then flatten and may decrease. There is random variation in the likelihood estimates because we are using SGD. Determining the best point to stop is tricky to do automatically, and is instead left to the analyst. \n",
      "\n",
      "To evaluate the model, we build a classifier from it:"
     ]
    },
    {
     "cell_type": "code",
     "collapsed": false,
     "input": [
      "val (pp, popts) = GLM.predictor(mm.model, test)"
     ],
     "language": "python",
     "metadata": {},
     "outputs": [
      {
       "output_type": "stream",
       "stream": "stdout",
       "text": []
      },
      {
       "output_type": "stream",
       "stream": "stdout",
       "text": []
      },
      {
       "metadata": {},
       "output_type": "pyout",
       "prompt_number": 6,
       "text": [
        "BIDMach.models.GLM$PredOptions@26107d75"
       ]
      }
     ],
     "prompt_number": 6
    },
    {
     "cell_type": "markdown",
     "metadata": {},
     "source": [
      "And invoke the predict method on the predictor:"
     ]
    },
    {
     "cell_type": "code",
     "collapsed": false,
     "input": [
      "pp.predict"
     ],
     "language": "python",
     "metadata": {},
     "outputs": [
      {
       "output_type": "stream",
       "stream": "stdout",
       "text": [
        "corpus perplexity=65579.335591\n"
       ]
      },
      {
       "output_type": "stream",
       "stream": "stdout",
       "text": []
      },
      {
       "output_type": "stream",
       "stream": "stdout",
       "text": []
      },
      {
       "metadata": {},
       "output_type": "pyout",
       "prompt_number": 7,
       "text": [
        "      0      0      0      0      0      0      0      0      0      0      0      0      0      0      0      0      0      0...\n",
        "    772   1544   2316   3088   3860   4632   5404   6176   6948   7720   8492   9264  10036  10808  11580  12352  13124  13896...\n"
       ]
      }
     ],
     "prompt_number": 7
    },
    {
     "cell_type": "markdown",
     "metadata": {},
     "source": [
      "Although ll values are printed above, they are not meaningful (there is no target to compare the prediction with). \n",
      "\n",
      "We can now compare the accuracy of predictions (preds matrix) with ground truth (the tcats matrix). "
     ]
    },
    {
     "cell_type": "code",
     "collapsed": false,
     "input": [
      "val preds = FMat(pp.preds(0))"
     ],
     "language": "python",
     "metadata": {},
     "outputs": [
      {
       "output_type": "stream",
       "stream": "stdout",
       "text": []
      },
      {
       "output_type": "stream",
       "stream": "stdout",
       "text": []
      },
      {
       "metadata": {},
       "output_type": "pyout",
       "prompt_number": 8,
       "text": [
        "    0.060023  2.7838e-15  6.9378e-10  6.9378e-10  0.00050964  6.4978e-12  4.2766e-11  1.6339e-09  1.8379e-10  3.1472e-15...\n",
        "    0.011077  3.5033e-05  6.1392e-06  6.1392e-06   0.0075878  8.1278e-08  8.9749e-05  0.00013313     0.18289  5.1844e-08...\n",
        "     0.78244  1.9813e-12  1.6917e-09  1.6917e-09  5.4028e-05  4.1418e-09     0.99984  6.5690e-09  1.2940e-13  1.1020e-14...\n",
        "   0.0087818  2.2635e-15  8.4710e-12  8.4710e-12  5.6268e-05  7.5141e-06   0.0019898  4.1780e-11  2.6780e-13  8.1914e-17...\n",
        "     0.99889  1.0063e-06  3.3094e-09  3.3094e-09  0.00013383           1           1  1.0567e-06  1.0218e-10  1.0151e-09...\n",
        "  3.2285e-07     0.99782  1.3187e-06  1.3187e-06     0.12281  3.0213e-07  2.4964e-14  0.00026958  1.5752e-06  7.1606e-09...\n",
        "  1.2494e-05           1      1.0000      1.0000     0.92699  1.4381e-05  3.8852e-12     0.99998   0.0099170           1...\n",
        "  3.4045e-07  4.9004e-06     0.70921     0.70921    0.097966  3.3126e-11  1.9029e-11  6.7349e-05  4.9676e-10  1.5560e-09...\n",
        "  7.9976e-06  1.0758e-06     0.99990     0.99990    0.022455  1.4887e-08  6.7385e-11  0.00068711  1.1088e-05  6.2429e-06...\n",
        "  1.6510e-07  6.3319e-09  4.8212e-07  4.8212e-07  0.00017639  6.6177e-12  5.8395e-14  7.9954e-09  3.4988e-09  3.6243e-11...\n",
        "  4.0657e-05  4.4324e-08  6.3898e-05  6.3898e-05     0.49378  1.0229e-08  2.4416e-10  4.3662e-05     0.69203           1...\n",
        "  1.0405e-07  2.7448e-09  4.3223e-07  4.3223e-07  0.00015888  2.6018e-12  1.0950e-14  6.2509e-09  2.0913e-09  1.1101e-10...\n",
        "  2.9342e-07    0.046211   0.0016664   0.0016664     0.51782  5.4593e-10  1.3775e-11     0.22315  5.2811e-05  1.1987e-08...\n",
        "  1.2537e-10  1.2026e-09  2.5651e-08  2.5651e-08     0.30017  1.8510e-14  6.9259e-18     0.81067  2.0917e-09  5.8058e-16...\n",
        "  2.4060e-05  1.0638e-12  1.7285e-12  1.7285e-12  1.6196e-05           1  0.00029094  2.0218e-10  1.5227e-15  3.1386e-13...\n",
        "   0.0024032  5.0748e-16  5.7595e-12  5.7595e-12  2.2912e-05  2.7514e-05     0.75739  1.1000e-10  1.0704e-13  4.8346e-17...\n",
        "     0.46744  1.3087e-14  1.7882e-11  1.7882e-11  0.00023714  5.4343e-06     0.96789  2.3885e-09  7.1931e-13  7.7634e-17...\n",
        "  8.0664e-09  3.1870e-21  2.5489e-13  2.5489e-13   0.0016285  1.7204e-16  2.1085e-16  2.7610e-13    0.018737  2.0899e-20...\n",
        "  1.2272e-10  2.6271e-14  3.1768e-08  3.1768e-08  0.00051130  3.3274e-13  5.6017e-17  3.2162e-06  8.9350e-13           1...\n",
        "  1.7549e-08  2.1572e-12  1.6320e-08  1.6320e-08   0.0026102  7.2982e-13  2.1721e-16  5.8086e-06  1.1023e-09           1...\n",
        "  7.3841e-07  2.9901e-05  2.8820e-08  2.8820e-08    0.022089  1.1296e-05  5.9012e-12    0.010884  8.5379e-07  0.00084225...\n",
        "  0.00015525  0.00044442  0.00054155  0.00054155    0.099731  3.9486e-06  6.4216e-11    0.037394   0.0034020  5.8586e-07...\n",
        "  2.7267e-09  4.4199e-08  3.3600e-07  3.3600e-07  0.00043575  2.1553e-12  1.9159e-16  2.7637e-08  2.9011e-10  7.7765e-11...\n",
        "   0.0029569  2.2683e-10  2.8393e-08  2.8393e-08  0.00029170  3.3575e-09  5.6000e-06  5.3964e-08  8.2856e-10  2.0896e-12...\n",
        "    0.099414  1.0189e-20  1.6734e-13  1.6734e-13  6.2203e-05  3.2033e-13  1.0911e-09  5.5208e-12  6.7742e-17  9.2619e-21...\n",
        "  2.8018e-08  7.9841e-06  0.00055486  0.00055486    0.061361  5.8913e-12  5.1751e-14   0.0033367  4.8188e-11  1.9977e-09...\n",
        "  2.0618e-07  1.3557e-05  0.00035009  0.00035009    0.043399  3.0206e-12  6.7892e-14   0.0011661  2.1719e-09  3.2921e-09...\n",
        "  3.8723e-06  1.3944e-10  5.5844e-10  5.5844e-10   0.0047195  3.2179e-11  3.2551e-12  1.3579e-07  1.7240e-06  8.6115e-07...\n",
        "  2.8534e-08  1.1504e-17  2.8239e-14  2.8239e-14  2.3218e-06     0.21049  9.2875e-10  2.1037e-13  8.5136e-17  3.1912e-20...\n",
        "  2.6393e-06  2.3975e-10  1.9602e-11  1.9602e-11   0.0011803  3.1892e-11  6.2001e-11  5.6061e-08  1.5191e-12  7.9568e-16...\n",
        "  0.00016673  4.8865e-08  4.0915e-10  4.0915e-10   0.0030235  8.6813e-10  1.8915e-08  2.1688e-07  7.2578e-11  5.9875e-15...\n",
        "  2.5921e-09  1.3383e-14  4.4697e-12  4.4697e-12  5.2265e-05  1.3787e-12  1.6363e-15  4.3479e-10  3.0103e-13  5.2308e-14...\n",
        "  4.5570e-11  2.2863e-16  1.0027e-14  1.0027e-14  1.6936e-05  3.9287e-16  2.3211e-19  5.4407e-12  4.2017e-18  5.7542e-18...\n",
        "  4.3682e-07  3.5397e-13  3.7684e-12  3.7684e-12    0.012929  7.8001e-13  1.0875e-15  4.7903e-10  7.7018e-12  2.7108e-11...\n",
        "  1.9235e-07  4.1606e-16  1.2123e-12  1.2123e-12  0.00066299  4.5975e-15  7.1231e-15  1.7450e-11  4.9894e-12  3.7047e-11...\n",
        "  2.1828e-05  5.6206e-08     0.88512     0.88512   0.0077919  5.3623e-09  1.0708e-11  0.00089960  1.7855e-06  4.4295e-05...\n",
        "  1.9472e-06     0.82403  0.00023322  0.00023322    0.057808  0.00010043  3.9438e-12     0.90633  8.5499e-06  4.1892e-06...\n",
        "  4.0329e-07  7.4144e-19  5.0108e-14  5.0108e-14  1.8540e-06  1.0275e-05  2.2869e-07  3.2612e-13  9.4342e-18  2.9835e-19...\n",
        "  7.7669e-13  2.6627e-10  1.6751e-12  1.6750e-12   0.0029140  1.9294e-17  3.2352e-21  1.4419e-05  8.9334e-11  7.5815e-10...\n",
        "  5.8048e-11  1.7290e-22  8.9068e-17  8.9068e-17  1.3963e-05  3.1681e-16  8.7510e-19  1.6480e-15  7.1844e-20  2.7150e-22...\n",
        "  7.7175e-07  4.4294e-20  1.1436e-13  1.1437e-13  1.3905e-05  1.8564e-13  7.5185e-14  6.0117e-13  4.3844e-13  5.1069e-19...\n",
        "  6.9417e-07  6.7085e-20  1.5917e-13  1.5917e-13  1.2425e-05  1.4117e-12  1.7118e-13  3.9715e-13  3.3137e-13  1.0059e-18...\n",
        "  6.5772e-15  3.1653e-25  1.6454e-18  1.6454e-18  5.9037e-05  1.6322e-20  2.3165e-23  9.4155e-17  2.8446e-22  5.2922e-24...\n",
        "  2.9863e-10  0.00020270  8.4630e-08  8.4630e-08    0.015030  6.2938e-12  1.3956e-17    0.069914  2.3543e-11  6.2926e-12...\n",
        "  1.4129e-07  1.7575e-08  3.1476e-06  3.1476e-06    0.045591  2.7618e-13  1.3309e-13  0.00019746  1.1814e-09  7.8590e-09...\n",
        "  2.2169e-11  3.2496e-13  1.0657e-14  1.0657e-14  2.8994e-05  2.8557e-11  5.5240e-18  8.7802e-13  1.4715e-15  5.2217e-17...\n",
        "  6.0374e-09  3.9573e-07  5.6856e-12  5.6856e-12  0.00019605  2.1393e-08  2.0663e-16  2.9471e-10  2.7127e-14  3.8244e-13...\n",
        "  8.8458e-08  1.9497e-14  9.2951e-10  9.2951e-10   0.0013554  7.8380e-14  4.7292e-15  2.5430e-09  1.1387e-07  1.6649e-10...\n",
        "  1.4320e-06  5.6660e-10  3.7849e-09  3.7849e-09   0.0036777  5.7368e-13  1.8043e-13  2.6119e-08  2.9333e-08  3.6757e-08...\n",
        "  2.7566e-08  2.1458e-14  1.9384e-12  1.9384e-12  0.00013217  1.2996e-14  1.2564e-16  2.4437e-09  2.7272e-12  8.8010e-11...\n",
        "  1.2972e-10  8.5118e-19  2.0508e-14  2.0508e-14  2.5748e-05  5.4883e-19  5.7886e-20  4.2243e-13  7.5857e-20  7.6682e-20...\n",
        "  9.0552e-08  2.1131e-13  2.8800e-12  2.8800e-12  0.00012443  2.8319e-15  2.3068e-15  9.8583e-11  5.6424e-14  5.5103e-12...\n",
        "  2.3172e-12  3.2619e-18  2.2052e-11  2.2052e-11     0.76732  4.1149e-18  9.3120e-21  1.9317e-10  2.4810e-12  1.7905e-14...\n",
        "  3.3551e-09  6.5850e-12  0.00011708  0.00011708  0.00021974  6.4952e-13  8.7145e-16  1.3805e-07  2.0231e-12  4.7864e-16...\n",
        "  1.0990e-10  1.1410e-16  5.9081e-11  5.9081e-11  4.9435e-05  1.1830e-16  6.0718e-18  5.4720e-09  2.4857e-15  2.2376e-16...\n",
        "  1.3236e-10  1.5322e-13  1.5300e-07  1.5300e-07  0.00037011  2.2286e-16  2.8446e-18  2.6043e-09  5.2227e-13  4.2978e-14...\n",
        "  6.1022e-10  2.1482e-10  2.9135e-07  2.9135e-07   0.0018849  7.7376e-16  1.5781e-17  7.9825e-09  1.5767e-10  2.2370e-12...\n",
        "  2.7816e-11  2.6080e-13  7.8312e-10  7.8312e-10  0.00017012  5.7788e-17  2.5936e-19  1.2788e-07  6.0591e-16  1.5675e-18...\n",
        "  6.6933e-10  6.7943e-16  2.6978e-12  2.6978e-12  1.1054e-05  3.9742e-16  1.1508e-18  3.7827e-12  1.3794e-15  5.6550e-16...\n",
        "  5.4125e-13  1.4723e-24  2.3217e-17  2.3217e-17  9.9101e-07  1.3035e-18  6.3466e-21  2.4557e-16  4.4214e-21  4.3931e-24...\n",
        "  1.2652e-07  1.0807e-15  2.6597e-15  2.6597e-15  2.6373e-06           1  4.9577e-13  3.2717e-13  1.7914e-18  6.8835e-16...\n",
        "  3.7450e-11  6.1700e-16  9.9921e-12  9.9921e-12  4.0674e-05  1.2580e-14  1.4232e-18  1.5807e-05  3.4697e-14  1.0322e-11...\n",
        "  4.1789e-12  5.3312e-18  3.0290e-13  3.0289e-13  0.00016729  2.6118e-18  1.5906e-19  6.5494e-10  9.0608e-20  1.4851e-16...\n",
        "  2.3024e-13  6.2617e-20  1.0550e-14  1.0550e-14  3.2634e-05  2.6430e-18  5.2760e-21  1.6812e-14  1.0191e-18  1.0518e-17...\n",
        "  1.3051e-10  5.7125e-20  3.9558e-14  3.9558e-14  1.4146e-05  6.4087e-16  1.0413e-16  9.1132e-13  1.6150e-15  1.8027e-18...\n",
        "  1.8327e-13  8.6578e-21  2.4466e-15  2.4467e-15  2.9877e-06  2.9835e-18  2.0212e-21  2.5790e-13  1.6656e-19  1.7470e-16...\n",
        "  1.7484e-09  2.5234e-12  7.3865e-08  7.3865e-08  0.00081146  9.0462e-16  7.6804e-17  4.9164e-06  3.2670e-11  5.0600e-14...\n",
        "  4.2660e-14  4.7354e-21  2.5655e-15  2.5655e-15  3.6060e-06  3.0999e-19  2.2391e-22  3.1545e-12  1.4443e-20  4.3510e-18...\n",
        "  2.6889e-13  6.4205e-19  2.0648e-13  2.0648e-13  3.1082e-05  3.4680e-17  6.9597e-21  5.5987e-09  8.9309e-19  2.4312e-14...\n",
        "  2.4498e-12  3.9198e-21  1.6729e-17  1.6729e-17  3.7874e-05  8.4915e-20  1.5806e-21  4.3627e-13  1.4815e-17  7.0736e-17...\n",
        "  2.6800e-10  7.0478e-22  1.0272e-14  1.0272e-14  1.1347e-06  6.7239e-17  4.5310e-18  2.8649e-15  6.4133e-18  6.7726e-21...\n",
        "  2.7731e-12  1.1603e-17  1.5771e-15  1.5771e-15  1.1052e-05  5.7143e-16  8.8638e-21  2.9433e-13  5.9478e-16  1.8070e-13...\n",
        "  3.0339e-15  3.9269e-21  4.3317e-17  4.3317e-17  3.8139e-07  1.4002e-19  1.4004e-23  1.2606e-14  1.6940e-21  4.9611e-21...\n",
        "  1.8908e-11  6.9792e-11  9.5398e-12  9.5398e-12  0.00048082  1.4955e-15  4.5045e-19  9.7442e-11  2.4270e-12  3.0356e-15...\n",
        "  7.0738e-12  1.4113e-14  3.7358e-14  3.7358e-14  3.5965e-05  1.8615e-14  5.0502e-20  2.7853e-12  1.7843e-14  1.1618e-10...\n",
        "  4.5474e-12  1.9083e-19  4.7576e-15  4.7576e-15  8.4508e-05  1.6127e-15  9.5415e-21  1.6894e-13  2.7671e-13     0.63672...\n",
        "  9.9884e-14  1.4525e-18  1.5155e-14  1.5155e-14  7.2278e-05  1.9074e-18  1.2090e-21  4.3511e-14  5.4099e-21  2.0711e-20...\n",
        "  1.5975e-07  5.1572e-15  5.7647e-13  5.7647e-13  5.4840e-05  2.2609e-15  4.7354e-14  9.5328e-12  2.5496e-15  1.3039e-19...\n",
        "  2.4845e-10  1.1013e-22  2.4745e-15  2.4745e-15  1.7327e-05  4.0204e-18  1.1763e-18  3.5154e-15  0.00017129  5.9547e-23...\n",
        "  1.4081e-11  6.0270e-18  1.3037e-13  1.3037e-13  3.0327e-05  4.5705e-17  1.0521e-19  3.1339e-11  1.0600e-15  4.6206e-14...\n",
        "  4.8917e-14  2.8538e-21  5.0661e-17  5.0661e-17  4.0187e-07  7.3636e-17  5.2733e-23  1.1754e-15  3.0000e-20  5.6491e-20...\n",
        "  5.5405e-13  7.8735e-14  1.0161e-12  1.0161e-12  8.5361e-06  8.4490e-17  1.5301e-20  5.0602e-08  9.0485e-17  5.0596e-14...\n",
        "  8.2223e-10  2.2930e-20  2.7735e-14  2.7735e-14  1.1871e-05  2.3298e-16  1.8504e-17  1.5273e-12  4.7043e-17  2.4604e-19...\n",
        "  9.0905e-13  6.4906e-20  8.3082e-16  8.3083e-16    0.045484  1.1636e-17  6.0240e-21  2.3514e-12  1.4440e-08  4.1992e-14...\n",
        "  8.5579e-14  1.3000e-23  4.7927e-17  4.7927e-17  5.7214e-05  1.5823e-19  6.6423e-23  1.2265e-15  1.0546e-16  1.8990e-18...\n",
        "  2.3407e-12  2.2195e-21  1.2575e-14  1.2575e-14  1.3720e-05  1.3041e-18  4.9536e-21  1.8679e-14  3.3654e-16  9.6007e-15...\n",
        "  8.9857e-14  7.0159e-24  5.6395e-17  5.6395e-17  1.2043e-05  9.3007e-20  9.5257e-23  7.9391e-16  8.8930e-19  4.6015e-22...\n",
        "  3.0320e-11  6.4998e-16  5.7039e-15  5.7040e-15    0.031616  1.2053e-17  1.2648e-19  4.7326e-12  1.5996e-12  3.5506e-11...\n",
        "  8.5355e-12  1.6874e-23  3.2189e-17  3.2189e-17  7.8256e-07  1.6306e-17  8.0042e-19  8.9405e-17  9.0344e-22  1.7109e-22...\n",
        "  4.6062e-13  3.1792e-24  1.5292e-17  1.5292e-17  2.5570e-07  5.9241e-17  2.4827e-20  4.6066e-17  8.4646e-21  4.8417e-22...\n",
        "  1.5443e-13  2.2810e-20  3.7398e-14  3.7398e-14   0.0010492  1.4699e-18  2.5237e-22  1.6750e-09  1.3626e-16  1.9355e-16...\n",
        "  6.3080e-14  1.5479e-22  2.1012e-17  2.1012e-17  4.9971e-05  2.9708e-20  2.1234e-23  3.0156e-16  7.4254e-18  2.8936e-18...\n",
        "  4.0411e-14  2.1328e-23  1.6146e-17  1.6146e-17  5.1057e-07  1.3878e-16  6.5192e-23  8.1266e-17  1.1446e-21  1.7873e-21...\n",
        "  1.0721e-09  1.2870e-19  1.9518e-14  1.9518e-14  9.3588e-07  4.0290e-16  4.3848e-17  4.0733e-15  5.4474e-17  5.3677e-21...\n",
        "  2.3461e-10  3.4939e-20  3.1792e-15  3.1792e-15  6.6561e-07  5.4960e-17  3.3822e-18  9.1684e-16  9.2576e-19  2.8340e-21...\n",
        "  3.1344e-14  1.3931e-24  3.0311e-17  3.0311e-17  6.1542e-07  1.1073e-19  1.8164e-22  9.3232e-17  2.0588e-20  1.4544e-23...\n",
        "  1.1546e-13  1.6679e-23  2.1061e-17  2.1061e-17  2.9534e-07  2.0288e-19  4.8926e-22  8.0884e-17  1.2859e-20  2.9901e-24...\n",
        "  1.6653e-15  1.3560e-25  7.1589e-19  7.1589e-19  1.0294e-07  8.0307e-21  4.5210e-24  5.2643e-18  6.3077e-22  5.4560e-25...\n",
        "  3.0256e-16  1.4160e-26  1.3933e-19  1.3933e-19  9.4231e-08  1.3973e-21  1.6815e-25  1.9706e-18  3.3935e-24  6.5826e-25...\n",
        "  1.4428e-15  6.9439e-24  5.1897e-18  5.1897e-18  4.7797e-06  6.9155e-21  1.9986e-24  1.2819e-17  8.1283e-12  7.2431e-24...\n",
        "  9.2663e-16  4.5206e-24  1.0598e-18  1.0598e-18  4.0414e-07  1.2028e-20  1.4318e-24  2.2799e-17  1.5556e-23  5.5641e-23...\n",
        "  5.4819e-16  7.5880e-26  2.1409e-19  2.1409e-19  8.2976e-08  2.2268e-21  5.4804e-25  2.1902e-18  3.2758e-24  3.8219e-25...\n",
        "  2.3126e-16  8.2215e-27  9.5381e-20  9.5382e-20  7.2150e-08  9.3761e-22  1.1377e-25  1.2654e-18  1.3503e-24  2.4848e-25...\n"
       ]
      }
     ],
     "prompt_number": 8
    },
    {
     "cell_type": "code",
     "collapsed": false,
     "input": [
      "val lls = mean(ln(1e-7f + tcats \u2218 preds + (1-tcats) \u2218 (1-preds)),2)  // actual logistic likelihood\n",
      "mean(lls)"
     ],
     "language": "python",
     "metadata": {},
     "outputs": [
      {
       "output_type": "stream",
       "stream": "stdout",
       "text": []
      },
      {
       "output_type": "stream",
       "stream": "stdout",
       "text": []
      },
      {
       "metadata": {},
       "output_type": "pyout",
       "prompt_number": 9,
       "text": [
        "-0.038920"
       ]
      }
     ],
     "prompt_number": 9
    },
    {
     "cell_type": "markdown",
     "metadata": {},
     "source": [
      "A more thorough measure is ROC area:"
     ]
    },
    {
     "cell_type": "code",
     "collapsed": false,
     "input": [
      "val rocs = roc2(preds, tcats, 1-tcats, 100)   // Compute ROC curves for all categories\n",
      "plot(rocs(?,6))"
     ],
     "language": "python",
     "metadata": {},
     "outputs": [
      {
       "output_type": "stream",
       "stream": "stdout",
       "text": []
      },
      {
       "output_type": "stream",
       "stream": "stdout",
       "text": []
      },
      {
       "metadata": {},
       "output_type": "pyout",
       "png": "[encoded data removed]",
       "prompt_number": 10,
       "text": [
        "BufferedImage@40aa6d32: type = 2 DirectColorModel: rmask=ff0000 gmask=ff00 bmask=ff amask=ff000000 IntegerInterleavedRaster: width = 500 height = 400 #Bands = 4 xOff = 0 yOff = 0 dataOffset[0] 0"
       ]
      }
     ],
     "prompt_number": 10
    },
    {
     "cell_type": "code",
     "collapsed": false,
     "input": [
      "plot(rocs(?,0->5))"
     ],
     "language": "python",
     "metadata": {},
     "outputs": [
      {
       "output_type": "stream",
       "stream": "stdout",
       "text": []
      },
      {
       "output_type": "stream",
       "stream": "stdout",
       "text": []
      },
      {
       "metadata": {},
       "output_type": "pyout",
       "png": "[encoded data removed]",
       "prompt_number": 11,
       "text": [
        "BufferedImage@54a843ee: type = 2 DirectColorModel: rmask=ff0000 gmask=ff00 bmask=ff amask=ff000000 IntegerInterleavedRaster: width = 500 height = 400 #Bands = 4 xOff = 0 yOff = 0 dataOffset[0] 0"
       ]
      }
     ],
     "prompt_number": 11
    },
    {
     "cell_type": "code",
     "collapsed": false,
     "input": [
      "val aucs = mean(rocs)"
     ],
     "language": "python",
     "metadata": {},
     "outputs": [
      {
       "output_type": "stream",
       "stream": "stdout",
       "text": []
      },
      {
       "output_type": "stream",
       "stream": "stdout",
       "text": []
      },
      {
       "metadata": {},
       "output_type": "pyout",
       "prompt_number": 12,
       "text": [
        "0.92789,0.96011,0.97770,0.96939,0.98096,0.94746,0.97565,0.97593,0.97688,0.95063,0.97749,0.94589,0.87359,0.92423,0.98472,0.96894,0.97633,0.95308,0.91952,0.95982,0.90910,0.91758,0.95410,0.95271,0.97946,0.96126,0.96411,0.95155,0.97605,0.94955,0.94839,0.96992,0.94440,0.96232,0.91613,0.95849,0.90826,0.96750,0.81672,0.94491,0.94231,0.95277,0.66832,0.92669,0.95209,0.92544,0.91049,0.94904,0.96948,0.96380,0.97243,0.97553,0.91911,0.95878,0.93391,0.96417,0.96335,0.61072,0.91971,0.96481,0.98596,0.92459,0.96853,0.76985,0.94906,0.87181,0.96024,0.98262,0.90042,0.98900,0.92946,0.97077,0.88119,0.89499,0.90439,0.94487,0.92718,0.91099,0.96185,0.95534,0.96538,0.89987,0.91291,0.93201,0.93995,0.87498,0.74602,0.93892,0.95801,0.98660,0.96120,0.95126,0.96325,0.97240,0.95280,0.78053,0.68977,0.66007,0.45050,0.98350,0.49505,NaN,NaN"
       ]
      }
     ],
     "prompt_number": 12
    },
    {
     "cell_type": "code",
     "collapsed": false,
     "input": [
      "aucs(6)"
     ],
     "language": "python",
     "metadata": {},
     "outputs": [
      {
       "output_type": "stream",
       "stream": "stdout",
       "text": []
      },
      {
       "output_type": "stream",
       "stream": "stdout",
       "text": []
      },
      {
       "metadata": {},
       "output_type": "pyout",
       "prompt_number": 13,
       "text": [
        "0.9756486527019052"
       ]
      }
     ],
     "prompt_number": 13
    },
    {
     "cell_type": "markdown",
     "metadata": {},
     "source": [
      "We could go ahead and start tuning our model, or we automate the process as in the next worksheet."
     ]
    }
   ],
   "metadata": {}
  }
 ]
}