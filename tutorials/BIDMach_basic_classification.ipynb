{
 "cells": [
  {
   "cell_type": "markdown",
   "metadata": {},
   "source": [
    "# BIDMach: basic classification"
   ]
  },
  {
   "cell_type": "markdown",
   "metadata": {},
   "source": [
    "For this tutorial, we'll BIDMach's GLM (Generalized Linear Model) package. It includes linear regression, logistic regression, and support vector machines (SVMs). The imports below include both BIDMat's matrix classes, and BIDMach machine learning classes. "
   ]
  },
  {
   "cell_type": "code",
   "execution_count": 1,
   "metadata": {
    "collapsed": false
   },
   "outputs": [
    {
     "name": "stdout",
     "output_type": "stream",
     "text": [
      "1 CUDA device found, CUDA version 7.0\n"
     ]
    },
    {
     "data": {
      "text/plain": [
       "(0.96885055,11703132160,12079398912)"
      ]
     },
     "execution_count": 1,
     "metadata": {},
     "output_type": "execute_result"
    }
   ],
   "source": [
    "import BIDMat.{CMat,CSMat,DMat,Dict,IDict,FMat,FND,GDMat,GMat,GIMat,GSDMat,GSMat,HMat,Image,IMat,Mat,SMat,SBMat,SDMat}\n",
    "import BIDMat.MatFunctions._\n",
    "import BIDMat.SciFunctions._\n",
    "import BIDMat.Solvers._\n",
    "import BIDMat.JPlotting._\n",
    "import BIDMach.Learner\n",
    "import BIDMach.models.{FM,GLM,KMeans,KMeansw,ICA,LDA,LDAgibbs,NMF,RandomForest,SFA}\n",
    "import BIDMach.datasources.{MatSource,FileSource,SFileSource}\n",
    "import BIDMach.mixins.{CosineSim,Perplexity,Top,L1Regularizer,L2Regularizer}\n",
    "import BIDMach.updaters.{ADAGrad,Batch,BatchNorm,IncMult,IncNorm,Telescoping}\n",
    "import BIDMach.causal.{IPTW}\n",
    "\n",
    "Mat.checkMKL\n",
    "Mat.checkCUDA\n",
    "Mat.setInline\n",
    "if (Mat.hasCUDA > 0) GPUmem"
   ]
  },
  {
   "cell_type": "markdown",
   "metadata": {},
   "source": [
    "## Dataset: Reuters RCV1 V2"
   ]
  },
  {
   "cell_type": "markdown",
   "metadata": {},
   "source": [
    "The dataset is the widely used Reuters news article dataset RCV1 V2. This dataset and several others are loaded by running the script <code>getdata.sh</code> from the BIDMach/scripts directory. The data include both train and test subsets, and train and test labels (cats). "
   ]
  },
  {
   "cell_type": "code",
   "execution_count": 2,
   "metadata": {
    "collapsed": false
   },
   "outputs": [
    {
     "name": "stdout",
     "output_type": "stream",
     "text": []
    },
    {
     "data": {
      "text/plain": [
       "2.314"
      ]
     },
     "execution_count": 2,
     "metadata": {},
     "output_type": "execute_result"
    }
   ],
   "source": [
    "var dir = \"../data/rcv1/\"  // Assumes bidmach is run from BIDMach/tutorials. Adjust to point to the BIDMach/data/rcv1 directory\n",
    "tic\n",
    "val train = loadSMat(dir+\"docs.smat.lz4\")\n",
    "val cats = loadFMat(dir+\"cats.fmat.lz4\")\n",
    "val test = loadSMat(dir+\"testdocs.smat.lz4\")\n",
    "val tcats = loadFMat(dir+\"testcats.fmat.lz4\")\n",
    "toc"
   ]
  },
  {
   "cell_type": "markdown",
   "metadata": {},
   "source": [
    "BIDMach's basic classifiers can invoked like this on data that fits in memory:"
   ]
  },
  {
   "cell_type": "code",
   "execution_count": 3,
   "metadata": {
    "collapsed": false
   },
   "outputs": [
    {
     "name": "stdout",
     "output_type": "stream",
     "text": []
    },
    {
     "data": {
      "text/plain": [
       "BIDMach.models.GLM$LearnOptions@3ec51f5"
      ]
     },
     "execution_count": 3,
     "metadata": {},
     "output_type": "execute_result"
    }
   ],
   "source": [
    "val (mm, opts) = GLM.learner(train, cats, GLM.logistic)"
   ]
  },
  {
   "cell_type": "markdown",
   "metadata": {},
   "source": [
    "The last option specifies the type of model, linear, logistic or SVM. The syntax is a little unusual. There are two values returned. The first <code>mm</code> is a \"learner\" which includes model, optimizer, and mixin classes. The second <code>opts</code> is an options object specialized to that combination of learner components. This design facilitates rapid iteration over model parameters from the command line or notebook. \n",
    "\n",
    "The parameters of the model can be viewed and modified by doing <code>opts.what</code>"
   ]
  },
  {
   "cell_type": "code",
   "execution_count": 4,
   "metadata": {
    "collapsed": false
   },
   "outputs": [
    {
     "name": "stdout",
     "output_type": "stream",
     "text": [
      "Option Name       Type          Value\n",
      "===========       ====          =====\n",
      "addConstFeat      boolean       false\n",
      "aopts             Opts          null\n",
      "autoReset         boolean       true\n",
      "batchSize         int           10000\n",
      "checkPointFile    String        null\n",
      "checkPointInterval  float         0.0\n",
      "cumScore          int           0\n",
      "debug             int           0\n",
      "debugMem          boolean       false\n",
      "dim               int           256\n",
      "doubleScore       boolean       false\n",
      "epsilon           float         1.0E-5\n",
      "evalStep          int           11\n",
      "featThreshold     Mat           null\n",
      "featType          int           1\n",
      "hashBound1        int           1000000\n",
      "hashBound2        int           1000000\n",
      "hashFeatures      int           0\n",
      "initsumsq         float         1.0E-5\n",
      "iweight           FMat          null\n",
      "langevin          float         0.0\n",
      "lim               float         0.0\n",
      "links             IMat          1,1,1,1,1,1,1,1,1,1,...\n",
      "lrate             FMat          1\n",
      "mask              FMat          null\n",
      "momentum          FMat          null\n",
      "nesterov          FMat          null\n",
      "npasses           int           2\n",
      "nzPerColumn       int           0\n",
      "pexp              FMat          0.50000\n",
      "policies          Function2[]   null\n",
      "pstep             float         0.01\n",
      "putBack           int           -1\n",
      "r1nmats           int           1\n",
      "reg1weight        FMat          1.0000e-07\n",
      "resFile           String        null\n",
      "rmask             FMat          null\n",
      "sample            float         1.0\n",
      "sizeMargin        float         3.0\n",
      "startBlock        int           8000\n",
      "targets           FMat          null\n",
      "targmap           FMat          null\n",
      "texp              FMat          0.50000\n",
      "updateAll         boolean       false\n",
      "useCache          boolean       true\n",
      "useDouble         boolean       false\n",
      "useGPU            boolean       true\n",
      "vexp              FMat          0.50000\n",
      "waitsteps         int           3\n"
     ]
    },
    {
     "data": {
      "text/plain": [
       "0.30000"
      ]
     },
     "execution_count": 4,
     "metadata": {},
     "output_type": "execute_result"
    }
   ],
   "source": [
    "opts.what\n",
    "opts.lrate=0.3f"
   ]
  },
  {
   "cell_type": "markdown",
   "metadata": {},
   "source": [
    "Most of these will work well with their default values. On the other hand, a few have a strong effect on performance. Those include:\n",
    "<pre>\n",
    "lrate: the learning rate\n",
    "batchSize: the minibatch size\n",
    "npasses: the number of passes over the dataset\n",
    "</pre>\n",
    "We will talk about tuning those in a moment. For now lets train the model:"
   ]
  },
  {
   "cell_type": "code",
   "execution_count": 5,
   "metadata": {
    "collapsed": false
   },
   "outputs": [
    {
     "name": "stdout",
     "output_type": "stream",
     "text": [
      "corpus perplexity=5582.125391\n",
      "pass= 0\n",
      " 2.00%, ll=-0.69315, gf=1.439, secs=0.5, GB=0.02, MB/s=45.57, GPUmem=0.906281\n",
      "16.00%, ll=-0.06984, gf=6.724, secs=0.8, GB=0.13, MB/s=169.60, GPUmem=0.906281\n",
      "30.00%, ll=-0.05885, gf=8.968, secs=1.1, GB=0.25, MB/s=222.78, GPUmem=0.906281\n",
      "44.00%, ll=-0.05025, gf=10.087, secs=1.5, GB=0.36, MB/s=248.91, GPUmem=0.906281\n",
      "58.00%, ll=-0.04849, gf=10.703, secs=1.8, GB=0.48, MB/s=263.14, GPUmem=0.906281\n",
      "72.00%, ll=-0.03930, gf=11.182, secs=2.1, GB=0.59, MB/s=274.45, GPUmem=0.906281\n",
      "87.00%, ll=-0.04346, gf=11.537, secs=2.5, GB=0.70, MB/s=282.83, GPUmem=0.906281\n",
      "100.00%, ll=-0.03860, gf=11.681, secs=2.8, GB=0.81, MB/s=284.46, GPUmem=0.905934\n",
      "pass= 1\n",
      " 2.00%, ll=-0.04507, gf=11.722, secs=2.9, GB=0.83, MB/s=287.13, GPUmem=0.905934\n",
      "16.00%, ll=-0.03975, gf=11.876, secs=3.2, GB=0.94, MB/s=290.65, GPUmem=0.905934\n",
      "30.00%, ll=-0.04341, gf=11.886, secs=3.6, GB=1.05, MB/s=290.78, GPUmem=0.905934\n",
      "44.00%, ll=-0.03979, gf=11.392, secs=4.2, GB=1.17, MB/s=278.54, GPUmem=0.905934\n",
      "58.00%, ll=-0.04178, gf=11.367, secs=4.6, GB=1.28, MB/s=277.77, GPUmem=0.905934\n",
      "72.00%, ll=-0.03438, gf=11.455, secs=5.0, GB=1.39, MB/s=279.87, GPUmem=0.905934\n",
      "87.00%, ll=-0.04052, gf=11.499, secs=5.4, GB=1.51, MB/s=280.90, GPUmem=0.905934\n",
      "100.00%, ll=-0.03577, gf=11.575, secs=5.7, GB=1.61, MB/s=281.87, GPUmem=0.905934\n",
      "Time=5.7200 secs, gflops=11.58\n"
     ]
    }
   ],
   "source": [
    "opts.npasses=2\n",
    "mm.train"
   ]
  },
  {
   "cell_type": "markdown",
   "metadata": {},
   "source": [
    "The output includes important information about the training cycle:\n",
    "* Percentage of dataset processed\n",
    "* Cross-validated log likelihood (or negative loss)\n",
    "* Overall throughput in gigaflops\n",
    "* Elapsed time in seconds\n",
    "* Total Gigabytes processed\n",
    "* I/O throughput in MB/s\n",
    "* GPU memory remaining (if using a GPU)\n",
    "\n",
    "The likelihood is calculated on a set of minibatches that are held out from training on every cycle. So this is a cross-validated likelihood estimate. Cross-validated likelihood will increase initially, but will then flatten and may decrease. There is random variation in the likelihood estimates because we are using SGD. Determining the best point to stop is tricky to do automatically, and is instead left to the analyst. \n",
    "\n",
    "To evaluate the model, we build a classifier from it:"
   ]
  },
  {
   "cell_type": "code",
   "execution_count": 6,
   "metadata": {
    "collapsed": false
   },
   "outputs": [
    {
     "name": "stdout",
     "output_type": "stream",
     "text": []
    },
    {
     "data": {
      "text/plain": [
       "BIDMach.models.GLM$PredOptions@3aa5218c"
      ]
     },
     "execution_count": 6,
     "metadata": {},
     "output_type": "execute_result"
    }
   ],
   "source": [
    "val (pp, popts) = GLM.predictor(mm.model, test)"
   ]
  },
  {
   "cell_type": "markdown",
   "metadata": {},
   "source": [
    "And invoke the predict method on the predictor:"
   ]
  },
  {
   "cell_type": "code",
   "execution_count": 7,
   "metadata": {
    "collapsed": false
   },
   "outputs": [
    {
     "name": "stdout",
     "output_type": "stream",
     "text": [
      "corpus perplexity=65579.335560\n",
      "Predicting\n",
      " 3.00%, ll=0.00000, gf=0.053, secs=0.3, GB=0.00, MB/s= 1.82, GPUmem=0.95\n",
      " 6.00%, ll=0.00000, gf=0.103, secs=0.3, GB=0.00, MB/s= 3.56, GPUmem=0.95\n",
      "10.00%, ll=0.00000, gf=0.147, secs=0.3, GB=0.00, MB/s= 5.02, GPUmem=0.95\n",
      "13.00%, ll=0.00000, gf=0.198, secs=0.3, GB=0.00, MB/s= 6.80, GPUmem=0.95\n",
      "16.00%, ll=0.00000, gf=0.245, secs=0.3, GB=0.00, MB/s= 8.41, GPUmem=0.95\n",
      "20.00%, ll=0.00000, gf=0.290, secs=0.3, GB=0.00, MB/s= 9.91, GPUmem=0.95\n",
      "23.00%, ll=0.00000, gf=0.330, secs=0.3, GB=0.00, MB/s=11.26, GPUmem=0.95\n",
      "26.00%, ll=0.00000, gf=0.372, secs=0.3, GB=0.00, MB/s=12.71, GPUmem=0.95\n",
      "30.00%, ll=0.00000, gf=0.418, secs=0.3, GB=0.00, MB/s=14.29, GPUmem=0.95\n",
      "33.00%, ll=0.00000, gf=0.464, secs=0.3, GB=0.00, MB/s=15.87, GPUmem=0.95\n",
      "36.00%, ll=0.00000, gf=0.511, secs=0.3, GB=0.01, MB/s=17.49, GPUmem=0.95\n",
      "40.00%, ll=0.00000, gf=0.554, secs=0.3, GB=0.01, MB/s=18.93, GPUmem=0.95\n",
      "43.00%, ll=0.00000, gf=0.595, secs=0.3, GB=0.01, MB/s=20.35, GPUmem=0.95\n",
      "46.00%, ll=0.00000, gf=0.656, secs=0.3, GB=0.01, MB/s=22.49, GPUmem=0.95\n",
      "50.00%, ll=0.00000, gf=0.696, secs=0.3, GB=0.01, MB/s=23.89, GPUmem=0.95\n",
      "53.00%, ll=0.00000, gf=0.738, secs=0.3, GB=0.01, MB/s=25.29, GPUmem=0.95\n",
      "56.00%, ll=0.00000, gf=0.782, secs=0.3, GB=0.01, MB/s=26.81, GPUmem=0.95\n",
      "60.00%, ll=0.00000, gf=0.824, secs=0.3, GB=0.01, MB/s=28.27, GPUmem=0.95\n",
      "63.00%, ll=0.00000, gf=0.864, secs=0.3, GB=0.01, MB/s=29.61, GPUmem=0.95\n",
      "66.00%, ll=0.00000, gf=0.905, secs=0.3, GB=0.01, MB/s=31.03, GPUmem=0.95\n",
      "70.00%, ll=0.00000, gf=0.946, secs=0.3, GB=0.01, MB/s=32.43, GPUmem=0.95\n",
      "73.00%, ll=0.00000, gf=0.986, secs=0.3, GB=0.01, MB/s=33.81, GPUmem=0.95\n",
      "76.00%, ll=0.00000, gf=1.021, secs=0.3, GB=0.01, MB/s=34.98, GPUmem=0.95\n",
      "80.00%, ll=0.00000, gf=1.066, secs=0.3, GB=0.01, MB/s=36.56, GPUmem=0.95\n",
      "83.00%, ll=0.00000, gf=1.106, secs=0.3, GB=0.01, MB/s=37.92, GPUmem=0.95\n",
      "86.00%, ll=0.00000, gf=1.146, secs=0.3, GB=0.01, MB/s=39.30, GPUmem=0.95\n",
      "90.00%, ll=0.00000, gf=1.180, secs=0.3, GB=0.01, MB/s=40.43, GPUmem=0.95\n",
      "93.00%, ll=0.00000, gf=1.224, secs=0.3, GB=0.01, MB/s=41.99, GPUmem=0.95\n",
      "96.00%, ll=0.00000, gf=1.262, secs=0.3, GB=0.01, MB/s=43.28, GPUmem=0.95\n",
      "100.00%, ll=0.00000, gf=1.300, secs=0.3, GB=0.01, MB/s=44.61, GPUmem=0.95\n",
      "Time=0.3150 secs, gflops=1.30\n"
     ]
    }
   ],
   "source": [
    "pp.predict"
   ]
  },
  {
   "cell_type": "markdown",
   "metadata": {},
   "source": [
    "Although ll values are printed above, they are not meaningful (there is no target to compare the prediction with). \n",
    "\n",
    "We can now compare the accuracy of predictions (preds matrix) with ground truth (the tcats matrix). "
   ]
  },
  {
   "cell_type": "code",
   "execution_count": 8,
   "metadata": {
    "collapsed": false
   },
   "outputs": [
    {
     "name": "stdout",
     "output_type": "stream",
     "text": []
    },
    {
     "data": {
      "text/plain": [
       "    0.051716  2.8286e-15  9.3898e-10  9.3898e-10  0.00024929  8.0685e-12...\n",
       "    0.011135  3.4162e-05  4.7918e-06  4.7918e-06   0.0059853  9.2513e-08...\n",
       "     0.78789  2.8876e-12  1.7810e-09  1.7810e-09  1.3463e-05  5.0863e-09...\n",
       "    0.011328  2.3973e-15  1.1961e-11  1.1961e-11  3.4776e-05  8.7643e-06...\n",
       "     0.99887  1.0619e-06  2.1314e-09  2.1314e-09  2.3170e-05           1...\n",
       "  2.0127e-07     0.99854  7.5009e-07  7.5009e-07     0.14460  3.9604e-07...\n",
       "  1.1595e-05           1      1.0000      1.0000     0.90988  1.4346e-05...\n",
       "  3.8421e-07  7.1216e-06     0.73840     0.73840    0.062895  4.6554e-11...\n",
       "          ..          ..          ..          ..          ..          ..\n"
      ]
     },
     "execution_count": 8,
     "metadata": {},
     "output_type": "execute_result"
    }
   ],
   "source": [
    "val preds = FMat(pp.preds(0))"
   ]
  },
  {
   "cell_type": "code",
   "execution_count": 9,
   "metadata": {
    "collapsed": false
   },
   "outputs": [
    {
     "name": "stdout",
     "output_type": "stream",
     "text": []
    },
    {
     "data": {
      "text/plain": [
       "-0.039590"
      ]
     },
     "execution_count": 9,
     "metadata": {},
     "output_type": "execute_result"
    }
   ],
   "source": [
    "val lls = mean(ln(1e-7f + tcats ∘ preds + (1-tcats) ∘ (1-preds)),2)  // actual logistic likelihood\n",
    "mean(lls)"
   ]
  },
  {
   "cell_type": "markdown",
   "metadata": {},
   "source": [
    "A more thorough measure is ROC area:"
   ]
  },
  {
   "cell_type": "code",
   "execution_count": 10,
   "metadata": {
    "collapsed": false
   },
   "outputs": [
    {
     "name": "stdout",
     "output_type": "stream",
     "text": []
    },
    {
     "data": {
      "image/png": "[encoded data removed]",
      "text/plain": [
       "BufferedImage@1a32aa9c: type = 2 DirectColorModel: rmask=ff0000 gmask=ff00 bmask=ff amask=ff000000 IntegerInterleavedRaster: width = 500 height = 400 #Bands = 4 xOff = 0 yOff = 0 dataOffset[0] 0"
      ]
     },
     "execution_count": 10,
     "metadata": {},
     "output_type": "execute_result"
    }
   ],
   "source": [
    "val rocs = roc2(preds, tcats, 1-tcats, 100)   // Compute ROC curves for all categories\n",
    "plot(rocs(?,6))"
   ]
  },
  {
   "cell_type": "code",
   "execution_count": 11,
   "metadata": {
    "collapsed": false
   },
   "outputs": [
    {
     "name": "stdout",
     "output_type": "stream",
     "text": []
    },
    {
     "data": {
      "image/png": "[encoded data removed]",
      "text/plain": [
       "BufferedImage@2c3ca7aa: type = 2 DirectColorModel: rmask=ff0000 gmask=ff00 bmask=ff amask=ff000000 IntegerInterleavedRaster: width = 500 height = 400 #Bands = 4 xOff = 0 yOff = 0 dataOffset[0] 0"
      ]
     },
     "execution_count": 11,
     "metadata": {},
     "output_type": "execute_result"
    }
   ],
   "source": [
    "plot(rocs(?,0->5))"
   ]
  },
  {
   "cell_type": "code",
   "execution_count": 12,
   "metadata": {
    "collapsed": false
   },
   "outputs": [
    {
     "name": "stdout",
     "output_type": "stream",
     "text": []
    },
    {
     "data": {
      "text/plain": [
       "0.92796,0.95949,0.97780,0.96988,0.98077,0.94405,0.97540,0.97547,0.97647,0.94959,0.97718,0.94474,0.86756,0.91574,0.98457,0.96938,0.97628,0.95293,0.91328,0.95620,0.90527,0.91562,0.95315,0.94977,0.97943,0.95953,0.96210,0.95130,0.97605,0.94854,0.94699,0.96866,0.94554,0.96259,0.91478,0.95784,0.90442,0.96816,0.80705,0.94270,0.94160,0.95267,0.66955,0.92352,0.95091,0.92467,0.90882,0.95015,0.96943,0.96349,0.97251,0.97540,0.91864,0.95583,0.93168,0.96431,0.96347,0.61410,0.91780,0.96541,0.98574,0.91007,0.96804,0.76783,0.94777,0.87311,0.95931,0.98108,0.90297,0.98872,0.92896,0.96976,0.88119,0.88600,0.90381,0.93929,0.92118,0.90963,0.96243,0.95381,0.96487,0.88981,0.91170,0.92376,0.93833,0.87769,0.74387,0.93540,0.95893,0.98602,0.95531,0.93069,0.96342,0.97120,0.95280,0.78630,0.69109,0.66667,0.44554,0.98515,0.50000,NaN,NaN"
      ]
     },
     "execution_count": 12,
     "metadata": {},
     "output_type": "execute_result"
    }
   ],
   "source": [
    "val aucs = mean(rocs)"
   ]
  },
  {
   "cell_type": "code",
   "execution_count": 13,
   "metadata": {
    "collapsed": false
   },
   "outputs": [
    {
     "name": "stdout",
     "output_type": "stream",
     "text": []
    },
    {
     "data": {
      "text/plain": [
       "0.9753971348784144"
      ]
     },
     "execution_count": 13,
     "metadata": {},
     "output_type": "execute_result"
    }
   ],
   "source": [
    "aucs(6)"
   ]
  },
  {
   "cell_type": "markdown",
   "metadata": {},
   "source": [
    "We could go ahead and start tuning our model, or we automate the process as in the next worksheet."
   ]
  }
 ],
 "metadata": {
  "kernelspec": {
   "display_name": "Python 3",
   "language": "python",
   "name": "python3"
  },
  "language_info": {
   "name": "scala",
   "version": "2.11.2"
  }
 },
 "nbformat": 4,
 "nbformat_minor": 0
}
