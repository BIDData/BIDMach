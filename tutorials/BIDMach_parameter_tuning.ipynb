{
 "cells": [
  {
   "cell_type": "markdown",
   "metadata": {},
   "source": [
    "# BIDMach: parameter tuning"
   ]
  },
  {
   "cell_type": "markdown",
   "metadata": {},
   "source": [
    "In this notebook we'll explore automated parameter exploration by grid search. "
   ]
  },
  {
   "cell_type": "code",
   "execution_count": 1,
   "metadata": {
    "collapsed": false
   },
   "outputs": [
    {
     "name": "stdout",
     "output_type": "stream",
     "text": [
      "1 CUDA device found, CUDA version 7.0\n"
     ]
    },
    {
     "data": {
      "text/plain": [
       "(0.96885055,11703132160,12079398912)"
      ]
     },
     "execution_count": 1,
     "metadata": {},
     "output_type": "execute_result"
    }
   ],
   "source": [
    "import BIDMat.{CMat,CSMat,DMat,Dict,IDict,FMat,FND,GDMat,GMat,GIMat,GSDMat,GSMat,HMat,Image,IMat,Mat,SMat,SBMat,SDMat}\n",
    "import BIDMat.MatFunctions._\n",
    "import BIDMat.SciFunctions._\n",
    "import BIDMat.Solvers._\n",
    "import BIDMat.JPlotting._\n",
    "import BIDMach.Learner\n",
    "import BIDMach.models.{FM,GLM,KMeans,KMeansw,ICA,LDA,LDAgibbs,NMF,RandomForest,SFA}\n",
    "import BIDMach.datasources.{MatSource,FileSource,SFileSource}\n",
    "import BIDMach.mixins.{CosineSim,Perplexity,Top,L1Regularizer,L2Regularizer}\n",
    "import BIDMach.updaters.{ADAGrad,Batch,BatchNorm,IncMult,IncNorm,Telescoping}\n",
    "import BIDMach.causal.{IPTW}\n",
    "\n",
    "Mat.checkMKL\n",
    "Mat.checkCUDA\n",
    "Mat.setInline\n",
    "if (Mat.hasCUDA > 0) GPUmem"
   ]
  },
  {
   "cell_type": "markdown",
   "metadata": {},
   "source": [
    "## Dataset: Reuters RCV1 V2"
   ]
  },
  {
   "cell_type": "markdown",
   "metadata": {},
   "source": [
    "The dataset is the widely used Reuters news article dataset RCV1 V2. This dataset and several others are loaded by running the script <code>getdata.sh</code> from the BIDMach/scripts directory. The data include both train and test subsets, and train and test labels (cats). "
   ]
  },
  {
   "cell_type": "code",
   "execution_count": 2,
   "metadata": {
    "collapsed": false
   },
   "outputs": [
    {
     "name": "stdout",
     "output_type": "stream",
     "text": []
    },
    {
     "data": {
      "text/plain": [
       "2.701"
      ]
     },
     "execution_count": 2,
     "metadata": {},
     "output_type": "execute_result"
    }
   ],
   "source": [
    "var dir = \"../data/rcv1/\"             // adjust to point to the BIDMach/data/rcv1 directory\n",
    "tic\n",
    "val train = loadSMat(dir+\"docs.smat.lz4\")\n",
    "val cats = loadFMat(dir+\"cats.fmat.lz4\")\n",
    "val test = loadSMat(dir+\"testdocs.smat.lz4\")\n",
    "val tcats = loadFMat(dir+\"testcats.fmat.lz4\")\n",
    "toc"
   ]
  },
  {
   "cell_type": "markdown",
   "metadata": {},
   "source": [
    "First lets enumerate some parameter combinations for learning rate and time exponent of the optimizer (texp)"
   ]
  },
  {
   "cell_type": "code",
   "execution_count": 3,
   "metadata": {
    "collapsed": false
   },
   "outputs": [
    {
     "name": "stdout",
     "output_type": "stream",
     "text": []
    },
    {
     "data": {
      "text/plain": [
       "  0.30000\n",
       "  0.40000\n",
       "  0.50000\n",
       "  0.60000\n",
       "  0.70000\n"
      ]
     },
     "execution_count": 3,
     "metadata": {},
     "output_type": "execute_result"
    }
   ],
   "source": [
    "val lrates = col(0.03f, 0.1f, 0.3f, 1f)        // 4 values\n",
    "val texps = col(0.3f, 0.4f, 0.5f, 0.6f, 0.7f)  // 5 values"
   ]
  },
  {
   "cell_type": "markdown",
   "metadata": {},
   "source": [
    "The next step is to enumerate all pairs of parameters. We can do this using the kron operator for now, this will eventually be a custom function:"
   ]
  },
  {
   "cell_type": "code",
   "execution_count": 4,
   "metadata": {
    "collapsed": false
   },
   "outputs": [
    {
     "name": "stdout",
     "output_type": "stream",
     "text": []
    },
    {
     "data": {
      "text/plain": [
       "  0.030000   0.30000\n",
       "   0.10000   0.30000\n",
       "   0.30000   0.30000\n",
       "         1   0.30000\n",
       "  0.030000   0.40000\n",
       "   0.10000   0.40000\n",
       "   0.30000   0.40000\n",
       "         1   0.40000\n",
       "        ..        ..\n"
      ]
     },
     "execution_count": 4,
     "metadata": {},
     "output_type": "execute_result"
    }
   ],
   "source": [
    "val lrateparams = ones(texps.nrows, 1) ⊗ lrates\n",
    "val texpparams = texps ⊗ ones(lrates.nrows,1)\n",
    "lrateparams \\ texpparams"
   ]
  },
  {
   "cell_type": "markdown",
   "metadata": {},
   "source": [
    "Here's the learner again:"
   ]
  },
  {
   "cell_type": "code",
   "execution_count": 5,
   "metadata": {
    "collapsed": false
   },
   "outputs": [
    {
     "name": "stdout",
     "output_type": "stream",
     "text": []
    },
    {
     "data": {
      "text/plain": [
       "BIDMach.models.GLM$LearnOptions@6b5370"
      ]
     },
     "execution_count": 5,
     "metadata": {},
     "output_type": "execute_result"
    }
   ],
   "source": [
    "val (mm, opts) = GLM.learner(train, cats, GLM.logistic)"
   ]
  },
  {
   "cell_type": "markdown",
   "metadata": {},
   "source": [
    "To keep things simple, we'll focus on just one category and train many models for it. The \"targmap\" option specifies a mapping from the actual base categories to the model categories. We'll map from category six to all our models:"
   ]
  },
  {
   "cell_type": "code",
   "execution_count": 6,
   "metadata": {
    "collapsed": false
   },
   "outputs": [
    {
     "name": "stdout",
     "output_type": "stream",
     "text": []
    },
    {
     "data": {
      "text/plain": [
       "   0   0   0   0   0   0   1   0   0   0   0   0   0   0   0   0   0   0...\n",
       "   0   0   0   0   0   0   1   0   0   0   0   0   0   0   0   0   0   0...\n",
       "   0   0   0   0   0   0   1   0   0   0   0   0   0   0   0   0   0   0...\n",
       "   0   0   0   0   0   0   1   0   0   0   0   0   0   0   0   0   0   0...\n",
       "   0   0   0   0   0   0   1   0   0   0   0   0   0   0   0   0   0   0...\n",
       "   0   0   0   0   0   0   1   0   0   0   0   0   0   0   0   0   0   0...\n",
       "   0   0   0   0   0   0   1   0   0   0   0   0   0   0   0   0   0   0...\n",
       "   0   0   0   0   0   0   1   0   0   0   0   0   0   0   0   0   0   0...\n",
       "  ..  ..  ..  ..  ..  ..  ..  ..  ..  ..  ..  ..  ..  ..  ..  ..  ..  ..\n"
      ]
     },
     "execution_count": 6,
     "metadata": {},
     "output_type": "execute_result"
    }
   ],
   "source": [
    "val nparams = lrateparams.length\n",
    "val targmap = zeros(nparams, 103)\n",
    "targmap(?,6) = 1"
   ]
  },
  {
   "cell_type": "code",
   "execution_count": 7,
   "metadata": {
    "collapsed": false
   },
   "outputs": [
    {
     "name": "stdout",
     "output_type": "stream",
     "text": []
    },
    {
     "data": {
      "text/plain": [
       "  0.30000\n",
       "  0.30000\n",
       "  0.30000\n",
       "  0.30000\n",
       "  0.40000\n",
       "  0.40000\n",
       "  0.40000\n",
       "  0.40000\n",
       "       ..\n"
      ]
     },
     "execution_count": 7,
     "metadata": {},
     "output_type": "execute_result"
    }
   ],
   "source": [
    "opts.targmap = targmap\n",
    "opts.lrate = lrateparams\n",
    "opts.texp = texpparams"
   ]
  },
  {
   "cell_type": "code",
   "execution_count": 8,
   "metadata": {
    "collapsed": false
   },
   "outputs": [
    {
     "name": "stdout",
     "output_type": "stream",
     "text": [
      "corpus perplexity=5582.125391\n",
      "pass= 0\n",
      " 2.00%, ll=-0.69315, gf=0.690, secs=0.4, GB=0.02, MB/s=52.25, GPUmem=0.952270\n",
      "16.00%, ll=-0.40496, gf=3.711, secs=0.5, GB=0.13, MB/s=249.38, GPUmem=0.952270\n",
      "30.00%, ll=-0.37984, gf=5.572, secs=0.7, GB=0.25, MB/s=370.40, GPUmem=0.952270\n",
      "44.00%, ll=-0.31457, gf=6.909, secs=0.8, GB=0.36, MB/s=458.01, GPUmem=0.952270\n",
      "58.00%, ll=-0.34047, gf=5.539, secs=1.3, GB=0.48, MB/s=366.89, GPUmem=0.952270\n",
      "72.00%, ll=-0.23351, gf=6.221, secs=1.4, GB=0.59, MB/s=411.20, GPUmem=0.952270\n",
      "87.00%, ll=-0.28147, gf=6.509, secs=1.6, GB=0.70, MB/s=430.23, GPUmem=0.952270\n",
      "100.00%, ll=-0.23005, gf=6.995, secs=1.8, GB=0.81, MB/s=460.66, GPUmem=0.952009\n",
      "pass= 1\n",
      " 2.00%, ll=-0.28089, gf=7.081, secs=1.8, GB=0.83, MB/s=467.88, GPUmem=0.952009\n",
      "16.00%, ll=-0.22614, gf=7.525, secs=1.9, GB=0.94, MB/s=497.00, GPUmem=0.952009\n",
      "30.00%, ll=-0.28111, gf=7.815, secs=2.0, GB=1.05, MB/s=515.78, GPUmem=0.952009\n",
      "44.00%, ll=-0.27822, gf=7.948, secs=2.2, GB=1.17, MB/s=524.52, GPUmem=0.952009\n",
      "58.00%, ll=-0.23577, gf=8.183, secs=2.4, GB=1.28, MB/s=540.09, GPUmem=0.952009\n",
      "72.00%, ll=-0.19565, gf=8.412, secs=2.5, GB=1.39, MB/s=554.84, GPUmem=0.952009\n",
      "87.00%, ll=-0.27455, gf=8.419, secs=2.7, GB=1.51, MB/s=555.38, GPUmem=0.952009\n",
      "100.00%, ll=-0.21936, gf=8.456, secs=2.9, GB=1.61, MB/s=556.93, GPUmem=0.952009\n",
      "Time=2.9000 secs, gflops=8.44\n"
     ]
    }
   ],
   "source": [
    "mm.train"
   ]
  },
  {
   "cell_type": "code",
   "execution_count": 9,
   "metadata": {
    "collapsed": false
   },
   "outputs": [
    {
     "name": "stdout",
     "output_type": "stream",
     "text": []
    },
    {
     "data": {
      "text/plain": [
       "BIDMach.models.GLM$PredOptions@70e54515"
      ]
     },
     "execution_count": 9,
     "metadata": {},
     "output_type": "execute_result"
    }
   ],
   "source": [
    "val (pp, popts) = GLM.predictor(mm.model, test)"
   ]
  },
  {
   "cell_type": "markdown",
   "metadata": {},
   "source": [
    "And invoke the predict method on the predictor:"
   ]
  },
  {
   "cell_type": "code",
   "execution_count": 10,
   "metadata": {
    "collapsed": false
   },
   "outputs": [
    {
     "name": "stdout",
     "output_type": "stream",
     "text": [
      "corpus perplexity=65579.335560\n",
      "Predicting\n",
      " 3.00%, ll=0.00000, gf=0.006, secs=0.6, GB=0.00, MB/s= 0.76, GPUmem=0.96\n",
      " 6.00%, ll=0.00000, gf=0.013, secs=0.6, GB=0.00, MB/s= 1.50, GPUmem=0.96\n",
      "10.00%, ll=0.00000, gf=0.018, secs=0.6, GB=0.00, MB/s= 2.13, GPUmem=0.96\n",
      "13.00%, ll=0.00000, gf=0.024, secs=0.6, GB=0.00, MB/s= 2.90, GPUmem=0.96\n",
      "16.00%, ll=0.00000, gf=0.030, secs=0.6, GB=0.00, MB/s= 3.61, GPUmem=0.96\n",
      "20.00%, ll=0.00000, gf=0.036, secs=0.6, GB=0.00, MB/s= 4.26, GPUmem=0.96\n",
      "23.00%, ll=0.00000, gf=0.042, secs=0.6, GB=0.00, MB/s= 4.91, GPUmem=0.96\n",
      "26.00%, ll=0.00000, gf=0.048, secs=0.6, GB=0.00, MB/s= 5.57, GPUmem=0.96\n",
      "30.00%, ll=0.00000, gf=0.053, secs=0.6, GB=0.00, MB/s= 6.27, GPUmem=0.96\n",
      "33.00%, ll=0.00000, gf=0.060, secs=0.6, GB=0.00, MB/s= 7.01, GPUmem=0.96\n",
      "36.00%, ll=0.00000, gf=0.066, secs=0.6, GB=0.01, MB/s= 7.73, GPUmem=0.96\n",
      "40.00%, ll=0.00000, gf=0.071, secs=0.6, GB=0.01, MB/s= 8.39, GPUmem=0.96\n",
      "43.00%, ll=0.00000, gf=0.077, secs=0.7, GB=0.01, MB/s= 9.07, GPUmem=0.96\n",
      "46.00%, ll=0.00000, gf=0.084, secs=0.7, GB=0.01, MB/s=10.04, GPUmem=0.96\n",
      "50.00%, ll=0.00000, gf=0.090, secs=0.7, GB=0.01, MB/s=10.72, GPUmem=0.96\n",
      "53.00%, ll=0.00000, gf=0.096, secs=0.7, GB=0.01, MB/s=11.37, GPUmem=0.96\n",
      "56.00%, ll=0.00000, gf=0.102, secs=0.7, GB=0.01, MB/s=12.12, GPUmem=0.96\n",
      "60.00%, ll=0.00000, gf=0.108, secs=0.7, GB=0.01, MB/s=12.80, GPUmem=0.96\n",
      "63.00%, ll=0.00000, gf=0.113, secs=0.7, GB=0.01, MB/s=13.43, GPUmem=0.96\n",
      "66.00%, ll=0.00000, gf=0.119, secs=0.7, GB=0.01, MB/s=14.15, GPUmem=0.96\n",
      "70.00%, ll=0.00000, gf=0.125, secs=0.7, GB=0.01, MB/s=14.81, GPUmem=0.96\n",
      "73.00%, ll=0.00000, gf=0.131, secs=0.7, GB=0.01, MB/s=15.52, GPUmem=0.96\n",
      "76.00%, ll=0.00000, gf=0.136, secs=0.7, GB=0.01, MB/s=16.09, GPUmem=0.96\n",
      "80.00%, ll=0.00000, gf=0.142, secs=0.7, GB=0.01, MB/s=16.90, GPUmem=0.96\n",
      "83.00%, ll=0.00000, gf=0.148, secs=0.7, GB=0.01, MB/s=17.56, GPUmem=0.96\n",
      "86.00%, ll=0.00000, gf=0.153, secs=0.7, GB=0.01, MB/s=18.23, GPUmem=0.96\n",
      "90.00%, ll=0.00000, gf=0.159, secs=0.7, GB=0.01, MB/s=18.85, GPUmem=0.96\n",
      "93.00%, ll=0.00000, gf=0.165, secs=0.7, GB=0.01, MB/s=19.61, GPUmem=0.96\n",
      "96.00%, ll=0.00000, gf=0.163, secs=0.7, GB=0.01, MB/s=19.44, GPUmem=0.96\n",
      "100.00%, ll=0.00000, gf=0.169, secs=0.7, GB=0.01, MB/s=20.10, GPUmem=0.96\n",
      "Time=0.6990 secs, gflops=0.17\n"
     ]
    },
    {
     "data": {
      "text/plain": [
       "  0.00020220     0.99998     0.99999     0.99999     0.76872  0.00029059...\n",
       "  3.0089e-05      1.0000      1.0000      1.0000     0.89846  5.0510e-05...\n",
       "  5.3099e-07           1           1           1     0.98357  2.0065e-05...\n",
       "  1.4544e-23           1           1           1           1  6.0780e-20...\n",
       "  0.00042768     0.99997     0.99999     0.99999     0.74460  0.00053930...\n",
       "  6.2601e-05      1.0000      1.0000      1.0000     0.84036  0.00010468...\n",
       "  7.3176e-06           1      1.0000      1.0000     0.95748  9.3609e-06...\n",
       "  5.1327e-18           1           1           1     0.99982  5.5612e-15...\n",
       "          ..          ..          ..          ..          ..          ..\n"
      ]
     },
     "execution_count": 10,
     "metadata": {},
     "output_type": "execute_result"
    }
   ],
   "source": [
    "pp.predict\n",
    "val preds = FMat(pp.preds(0))"
   ]
  },
  {
   "cell_type": "code",
   "execution_count": 11,
   "metadata": {
    "collapsed": false
   },
   "outputs": [
    {
     "name": "stdout",
     "output_type": "stream",
     "text": []
    },
    {
     "data": {
      "text/plain": [
       "1"
      ]
     },
     "execution_count": 11,
     "metadata": {},
     "output_type": "execute_result"
    }
   ],
   "source": [
    "pp.model.asInstanceOf[GLM].mats.length"
   ]
  },
  {
   "cell_type": "markdown",
   "metadata": {},
   "source": [
    "Although ll values are printed above, they are not meaningful (there is no target to compare the prediction with). \n",
    "\n",
    "We can now compare the accuracy of predictions (preds matrix) with ground truth (the tcats matrix). "
   ]
  },
  {
   "cell_type": "code",
   "execution_count": 12,
   "metadata": {
    "collapsed": false
   },
   "outputs": [
    {
     "name": "stdout",
     "output_type": "stream",
     "text": []
    },
    {
     "data": {
      "text/plain": [
       "-0.23963"
      ]
     },
     "execution_count": 12,
     "metadata": {},
     "output_type": "execute_result"
    }
   ],
   "source": [
    "val vcats = targmap * tcats                                          // create some virtual cats\n",
    "val lls = mean(ln(1e-7f + vcats ∘ preds + (1-vcats) ∘ (1-preds)),2)  // actual logistic likelihood\n",
    "mean(lls)"
   ]
  },
  {
   "cell_type": "markdown",
   "metadata": {},
   "source": [
    "A more thorough measure is ROC area:"
   ]
  },
  {
   "cell_type": "code",
   "execution_count": 13,
   "metadata": {
    "collapsed": false
   },
   "outputs": [
    {
     "name": "stdout",
     "output_type": "stream",
     "text": []
    },
    {
     "data": {
      "text/plain": [
       "        0        0        0        0        0        0        0        0...\n",
       "  0.84452  0.82876  0.67041  0.72585  0.83775  0.83942  0.76525  0.73299...\n",
       "  0.88921  0.88569  0.79612  0.83812  0.88726  0.88837  0.84971  0.82755...\n",
       "  0.91906  0.91396  0.86260  0.88587  0.91758  0.91897  0.89496  0.88467...\n",
       "  0.93538  0.93176  0.90247  0.91137  0.93334  0.93501  0.92101  0.91396...\n",
       "  0.94604  0.94178  0.92518  0.92620  0.94474  0.94502  0.93492  0.93176...\n",
       "  0.95299  0.95031  0.94085  0.93575  0.95216  0.95272  0.94539  0.94131...\n",
       "  0.95782  0.95624  0.95095  0.94345  0.95744  0.95791  0.95290  0.94975...\n",
       "       ..       ..       ..       ..       ..       ..       ..       ..\n"
      ]
     },
     "execution_count": 13,
     "metadata": {},
     "output_type": "execute_result"
    }
   ],
   "source": [
    "val rocs = roc2(preds, vcats, 1-vcats, 100)   // Compute ROC curves for all categories"
   ]
  },
  {
   "cell_type": "code",
   "execution_count": 14,
   "metadata": {
    "collapsed": false
   },
   "outputs": [
    {
     "name": "stdout",
     "output_type": "stream",
     "text": []
    },
    {
     "data": {
      "image/png": "[encoded data removed]",
      "text/plain": [
       "BufferedImage@cb2d029: type = 2 DirectColorModel: rmask=ff0000 gmask=ff00 bmask=ff amask=ff000000 IntegerInterleavedRaster: width = 500 height = 400 #Bands = 4 xOff = 0 yOff = 0 dataOffset[0] 0"
      ]
     },
     "execution_count": 14,
     "metadata": {},
     "output_type": "execute_result"
    }
   ],
   "source": [
    "plot(rocs)"
   ]
  },
  {
   "cell_type": "code",
   "execution_count": 15,
   "metadata": {
    "collapsed": false
   },
   "outputs": [
    {
     "name": "stdout",
     "output_type": "stream",
     "text": []
    },
    {
     "data": {
      "text/plain": [
       "0.97689,0.97628,0.97271,0.97097,0.97659,0.97679,0.97456,0.97251,0.97606,0.97698,0.97540,0.97161,0.97517,0.97693,0.97605,0.97278,0.97390,0.97665,0.97632,0.97352"
      ]
     },
     "execution_count": 15,
     "metadata": {},
     "output_type": "execute_result"
    }
   ],
   "source": [
    "val aucs = mean(rocs)"
   ]
  },
  {
   "cell_type": "markdown",
   "metadata": {},
   "source": [
    "The maxi2 function will find the max value and its index."
   ]
  },
  {
   "cell_type": "code",
   "execution_count": 16,
   "metadata": {
    "collapsed": false
   },
   "outputs": [
    {
     "name": "stdout",
     "output_type": "stream",
     "text": []
    },
    {
     "data": {
      "text/plain": [
       "9"
      ]
     },
     "execution_count": 16,
     "metadata": {},
     "output_type": "execute_result"
    }
   ],
   "source": [
    "val (bestv, besti) = maxi2(aucs)"
   ]
  },
  {
   "cell_type": "markdown",
   "metadata": {},
   "source": [
    "And using the best index we can find the optimal parameters:"
   ]
  },
  {
   "cell_type": "code",
   "execution_count": 17,
   "metadata": {
    "collapsed": false
   },
   "outputs": [
    {
     "name": "stdout",
     "output_type": "stream",
     "text": []
    },
    {
     "data": {
      "text/plain": [
       "0.50000,0.10000"
      ]
     },
     "execution_count": 17,
     "metadata": {},
     "output_type": "execute_result"
    }
   ],
   "source": [
    "texpparams(besti) \\ lrateparams(besti)"
   ]
  },
  {
   "cell_type": "markdown",
   "metadata": {},
   "source": [
    "> Write the optimal values in the cell below:"
   ]
  },
  {
   "cell_type": "markdown",
   "metadata": {},
   "source": []
  },
  {
   "cell_type": "markdown",
   "metadata": {},
   "source": [
    "<b>Note:</b> although our parameters lay in a square grid, we could have enumerated any sequence of pairs, and we could have searched over more parameters. The learner infrastructure supports more intelligent model optimization (e.g. Bayesian methods). "
   ]
  }
 ],
 "metadata": {
  "kernelspec": {
   "display_name": "Python 3",
   "language": "python",
   "name": "python3"
  },
  "language_info": {
   "name": "scala",
   "version": "2.11.2"
  }
 },
 "nbformat": 4,
 "nbformat_minor": 0
}
