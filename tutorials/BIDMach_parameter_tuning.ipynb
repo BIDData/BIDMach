{
 "cells": [
  {
   "cell_type": "markdown",
   "metadata": {},
   "source": [
    "# BIDMach: parameter tuning"
   ]
  },
  {
   "cell_type": "markdown",
   "metadata": {},
   "source": [
    "In this notebook we'll explore automated parameter exploration by grid search. "
   ]
  },
  {
   "cell_type": "code",
   "execution_count": 1,
   "metadata": {
    "collapsed": false
   },
   "outputs": [
    {
     "name": "stdout",
     "output_type": "stream",
     "text": [
      "1 CUDA device found, CUDA version 8.0\n"
     ]
    },
    {
     "data": {
      "text/plain": [
       "(0.9898467,12669616128,12799574016)"
      ]
     },
     "execution_count": 1,
     "metadata": {},
     "output_type": "execute_result"
    }
   ],
   "source": [
    "import BIDMat.{CMat,CSMat,DMat,Dict,IDict,FMat,FND,GDMat,GMat,GIMat,GSDMat,GSMat,HMat,Image,IMat,Mat,SMat,SBMat,SDMat}\n",
    "import BIDMat.MatFunctions._\n",
    "import BIDMat.SciFunctions._\n",
    "import BIDMat.Solvers._\n",
    "import BIDMat.JPlotting._\n",
    "import BIDMach.Learner\n",
    "import BIDMach.models.{FM,GLM,KMeans,KMeansw,ICA,LDA,LDAgibbs,NMF,RandomForest,SFA}\n",
    "import BIDMach.datasources.{MatSource,FileSource,SFileSource}\n",
    "import BIDMach.mixins.{CosineSim,Perplexity,Top,L1Regularizer,L2Regularizer}\n",
    "import BIDMach.updaters.{ADAGrad,Batch,BatchNorm,IncMult,IncNorm,Telescoping}\n",
    "import BIDMach.causal.{IPTW}\n",
    "\n",
    "Mat.checkMKL\n",
    "Mat.checkCUDA\n",
    "Mat.setInline\n",
    "if (Mat.hasCUDA > 0) GPUmem"
   ]
  },
  {
   "cell_type": "markdown",
   "metadata": {},
   "source": [
    "## Dataset: Reuters RCV1 V2"
   ]
  },
  {
   "cell_type": "markdown",
   "metadata": {},
   "source": [
    "The dataset is the widely used Reuters news article dataset RCV1 V2. This dataset and several others are loaded by running the script <code>getdata.sh</code> from the BIDMach/scripts directory. The data include both train and test subsets, and train and test labels (cats). "
   ]
  },
  {
   "cell_type": "code",
   "execution_count": 2,
   "metadata": {
    "collapsed": false
   },
   "outputs": [
    {
     "name": "stdout",
     "output_type": "stream",
     "text": []
    },
    {
     "data": {
      "text/plain": [
       "4.284"
      ]
     },
     "execution_count": 2,
     "metadata": {},
     "output_type": "execute_result"
    }
   ],
   "source": [
    "var dir = \"../data/rcv1/\"             // adjust to point to the BIDMach/data/rcv1 directory\n",
    "tic\n",
    "val train = loadSMat(dir+\"docs.smat.lz4\")\n",
    "val cats = loadFMat(dir+\"cats.fmat.lz4\")\n",
    "val test = loadSMat(dir+\"testdocs.smat.lz4\")\n",
    "val tcats = loadFMat(dir+\"testcats.fmat.lz4\")\n",
    "toc"
   ]
  },
  {
   "cell_type": "markdown",
   "metadata": {},
   "source": [
    "First lets enumerate some parameter combinations for learning rate and time exponent of the optimizer (texp)"
   ]
  },
  {
   "cell_type": "code",
   "execution_count": 3,
   "metadata": {
    "collapsed": false
   },
   "outputs": [
    {
     "name": "stdout",
     "output_type": "stream",
     "text": []
    },
    {
     "data": {
      "text/plain": [
       "  0.30000\n",
       "  0.40000\n",
       "  0.50000\n",
       "  0.60000\n",
       "  0.70000\n"
      ]
     },
     "execution_count": 3,
     "metadata": {},
     "output_type": "execute_result"
    }
   ],
   "source": [
    "val lrates = col(0.03f, 0.1f, 0.3f, 1f)        // 4 values\n",
    "val texps = col(0.3f, 0.4f, 0.5f, 0.6f, 0.7f)  // 5 values"
   ]
  },
  {
   "cell_type": "markdown",
   "metadata": {},
   "source": [
    "The next step is to enumerate all pairs of parameters. We can do this using the kron operator for now, this will eventually be a custom function:"
   ]
  },
  {
   "cell_type": "code",
   "execution_count": 4,
   "metadata": {
    "collapsed": false
   },
   "outputs": [
    {
     "name": "stdout",
     "output_type": "stream",
     "text": []
    },
    {
     "data": {
      "text/plain": [
       "  0.030000   0.30000\n",
       "   0.10000   0.30000\n",
       "   0.30000   0.30000\n",
       "         1   0.30000\n",
       "  0.030000   0.40000\n",
       "   0.10000   0.40000\n",
       "   0.30000   0.40000\n",
       "         1   0.40000\n",
       "        ..        ..\n"
      ]
     },
     "execution_count": 4,
     "metadata": {},
     "output_type": "execute_result"
    }
   ],
   "source": [
    "val lrateparams = ones(texps.nrows, 1) ⊗ lrates\n",
    "val texpparams = texps ⊗ ones(lrates.nrows,1)\n",
    "lrateparams \\ texpparams"
   ]
  },
  {
   "cell_type": "markdown",
   "metadata": {},
   "source": [
    "Here's the learner again:"
   ]
  },
  {
   "cell_type": "code",
   "execution_count": 5,
   "metadata": {
    "collapsed": false
   },
   "outputs": [
    {
     "name": "stdout",
     "output_type": "stream",
     "text": []
    },
    {
     "data": {
      "text/plain": [
       "BIDMach.models.GLM$LearnOptions@3408ab31"
      ]
     },
     "execution_count": 5,
     "metadata": {},
     "output_type": "execute_result"
    }
   ],
   "source": [
    "val (mm, opts) = GLM.learner(train, cats, GLM.logistic)"
   ]
  },
  {
   "cell_type": "markdown",
   "metadata": {},
   "source": [
    "To keep things simple, we'll focus on just one category and train many models for it. The \"targmap\" option specifies a mapping from the actual base categories to the model categories. We'll map from category six to all our models:"
   ]
  },
  {
   "cell_type": "code",
   "execution_count": 6,
   "metadata": {
    "collapsed": false
   },
   "outputs": [
    {
     "name": "stdout",
     "output_type": "stream",
     "text": []
    },
    {
     "data": {
      "text/plain": [
       "   0   0   0   0   0   0   1   0   0   0   0   0   0   0   0   0   0   0...\n",
       "   0   0   0   0   0   0   1   0   0   0   0   0   0   0   0   0   0   0...\n",
       "   0   0   0   0   0   0   1   0   0   0   0   0   0   0   0   0   0   0...\n",
       "   0   0   0   0   0   0   1   0   0   0   0   0   0   0   0   0   0   0...\n",
       "   0   0   0   0   0   0   1   0   0   0   0   0   0   0   0   0   0   0...\n",
       "   0   0   0   0   0   0   1   0   0   0   0   0   0   0   0   0   0   0...\n",
       "   0   0   0   0   0   0   1   0   0   0   0   0   0   0   0   0   0   0...\n",
       "   0   0   0   0   0   0   1   0   0   0   0   0   0   0   0   0   0   0...\n",
       "  ..  ..  ..  ..  ..  ..  ..  ..  ..  ..  ..  ..  ..  ..  ..  ..  ..  ..\n"
      ]
     },
     "execution_count": 6,
     "metadata": {},
     "output_type": "execute_result"
    }
   ],
   "source": [
    "val nparams = lrateparams.length\n",
    "val targmap = zeros(nparams, 103)\n",
    "targmap(?,6) = 1"
   ]
  },
  {
   "cell_type": "code",
   "execution_count": 7,
   "metadata": {
    "collapsed": false
   },
   "outputs": [
    {
     "name": "stdout",
     "output_type": "stream",
     "text": []
    },
    {
     "data": {
      "text/plain": [
       "  0.30000\n",
       "  0.30000\n",
       "  0.30000\n",
       "  0.30000\n",
       "  0.40000\n",
       "  0.40000\n",
       "  0.40000\n",
       "  0.40000\n",
       "       ..\n"
      ]
     },
     "execution_count": 7,
     "metadata": {},
     "output_type": "execute_result"
    }
   ],
   "source": [
    "opts.targmap = targmap\n",
    "opts.lrate = lrateparams\n",
    "opts.texp = texpparams"
   ]
  },
  {
   "cell_type": "code",
   "execution_count": 8,
   "metadata": {
    "collapsed": false
   },
   "outputs": [
    {
     "name": "stdout",
     "output_type": "stream",
     "text": [
      "corpus perplexity=5582.125391\n",
      "pass= 0\n",
      " 2.00%, ll=-0.69315, gf=0.184, secs=1.5, GB=0.02, MB/s=13.94, GPUmem=0.971496\n",
      "16.00%, ll=-0.40496, gf=1.232, secs=1.6, GB=0.13, MB/s=82.82, GPUmem=0.971496\n",
      "30.00%, ll=-0.37984, gf=2.131, secs=1.7, GB=0.25, MB/s=141.66, GPUmem=0.971496\n",
      "44.00%, ll=-0.31457, gf=2.894, secs=1.9, GB=0.36, MB/s=191.87, GPUmem=0.971496\n",
      "58.00%, ll=-0.34047, gf=2.904, secs=2.5, GB=0.48, MB/s=192.35, GPUmem=0.971496\n",
      "72.00%, ll=-0.23351, gf=3.437, secs=2.6, GB=0.59, MB/s=227.23, GPUmem=0.971496\n",
      "87.00%, ll=-0.28136, gf=3.948, secs=2.7, GB=0.70, MB/s=260.96, GPUmem=0.971496\n",
      "100.00%, ll=-0.23004, gf=4.386, secs=2.8, GB=0.81, MB/s=288.84, GPUmem=0.971250\n",
      "pass= 1\n",
      " 2.00%, ll=-0.28089, gf=4.439, secs=2.8, GB=0.83, MB/s=293.34, GPUmem=0.971250\n",
      "16.00%, ll=-0.22612, gf=4.867, secs=2.9, GB=0.94, MB/s=321.43, GPUmem=0.971250\n",
      "30.00%, ll=-0.28134, gf=5.249, secs=3.0, GB=1.05, MB/s=346.45, GPUmem=0.971250\n",
      "44.00%, ll=-0.27640, gf=5.616, secs=3.1, GB=1.17, MB/s=370.62, GPUmem=0.971250\n",
      "58.00%, ll=-0.23583, gf=5.971, secs=3.3, GB=1.28, MB/s=394.11, GPUmem=0.971250\n",
      "72.00%, ll=-0.19559, gf=6.207, secs=3.4, GB=1.39, MB/s=409.45, GPUmem=0.971250\n",
      "87.00%, ll=-0.27391, gf=6.503, secs=3.5, GB=1.51, MB/s=428.98, GPUmem=0.971250\n",
      "100.00%, ll=-0.21918, gf=6.754, secs=3.6, GB=1.61, MB/s=444.78, GPUmem=0.971250\n",
      "Time=3.6260 secs, gflops=6.75\n"
     ]
    }
   ],
   "source": [
    "mm.train"
   ]
  },
  {
   "cell_type": "code",
   "execution_count": 9,
   "metadata": {
    "collapsed": false
   },
   "outputs": [
    {
     "name": "stdout",
     "output_type": "stream",
     "text": []
    },
    {
     "data": {
      "text/plain": [
       "BIDMach.models.GLM$PredOptions@3bbdc0b8"
      ]
     },
     "execution_count": 9,
     "metadata": {},
     "output_type": "execute_result"
    }
   ],
   "source": [
    "val (pp, popts) = GLM.predictor(mm.model, test)"
   ]
  },
  {
   "cell_type": "markdown",
   "metadata": {},
   "source": [
    "And invoke the predict method on the predictor:"
   ]
  },
  {
   "cell_type": "code",
   "execution_count": 10,
   "metadata": {
    "collapsed": false
   },
   "outputs": [
    {
     "name": "stdout",
     "output_type": "stream",
     "text": [
      "corpus perplexity=65579.335560\n",
      "Predicting\n",
      " 3.00%, ll=0.00000, gf=0.013, secs=0.3, GB=0.00, MB/s= 1.63, GPUmem=0.98\n",
      " 6.00%, ll=0.00000, gf=0.025, secs=0.3, GB=0.00, MB/s= 3.06, GPUmem=0.98\n",
      "10.00%, ll=0.00000, gf=0.037, secs=0.3, GB=0.00, MB/s= 4.32, GPUmem=0.98\n",
      "13.00%, ll=0.00000, gf=0.050, secs=0.3, GB=0.00, MB/s= 5.90, GPUmem=0.98\n",
      "16.00%, ll=0.00000, gf=0.062, secs=0.3, GB=0.00, MB/s= 7.30, GPUmem=0.98\n",
      "20.00%, ll=0.00000, gf=0.073, secs=0.3, GB=0.00, MB/s= 8.60, GPUmem=0.98\n",
      "23.00%, ll=0.00000, gf=0.084, secs=0.3, GB=0.00, MB/s= 9.86, GPUmem=0.98\n",
      "26.00%, ll=0.00000, gf=0.095, secs=0.3, GB=0.00, MB/s=11.17, GPUmem=0.98\n",
      "30.00%, ll=0.00000, gf=0.107, secs=0.3, GB=0.00, MB/s=12.52, GPUmem=0.98\n",
      "33.00%, ll=0.00000, gf=0.118, secs=0.3, GB=0.00, MB/s=13.88, GPUmem=0.98\n",
      "36.00%, ll=0.00000, gf=0.129, secs=0.3, GB=0.01, MB/s=15.21, GPUmem=0.98\n",
      "40.00%, ll=0.00000, gf=0.140, secs=0.3, GB=0.01, MB/s=16.47, GPUmem=0.98\n",
      "43.00%, ll=0.00000, gf=0.151, secs=0.3, GB=0.01, MB/s=17.72, GPUmem=0.98\n",
      "46.00%, ll=0.00000, gf=0.161, secs=0.3, GB=0.01, MB/s=19.19, GPUmem=0.98\n",
      "50.00%, ll=0.00000, gf=0.172, secs=0.3, GB=0.01, MB/s=20.46, GPUmem=0.98\n",
      "53.00%, ll=0.00000, gf=0.182, secs=0.3, GB=0.01, MB/s=21.61, GPUmem=0.98\n",
      "56.00%, ll=0.00000, gf=0.193, secs=0.3, GB=0.01, MB/s=23.01, GPUmem=0.98\n",
      "60.00%, ll=0.00000, gf=0.204, secs=0.3, GB=0.01, MB/s=24.27, GPUmem=0.98\n",
      "63.00%, ll=0.00000, gf=0.214, secs=0.3, GB=0.01, MB/s=25.36, GPUmem=0.98\n",
      "66.00%, ll=0.00000, gf=0.224, secs=0.3, GB=0.01, MB/s=26.67, GPUmem=0.98\n",
      "70.00%, ll=0.00000, gf=0.234, secs=0.4, GB=0.01, MB/s=27.81, GPUmem=0.98\n",
      "73.00%, ll=0.00000, gf=0.245, secs=0.4, GB=0.01, MB/s=29.10, GPUmem=0.98\n",
      "76.00%, ll=0.00000, gf=0.254, secs=0.4, GB=0.01, MB/s=30.13, GPUmem=0.98\n",
      "80.00%, ll=0.00000, gf=0.265, secs=0.4, GB=0.01, MB/s=31.52, GPUmem=0.98\n",
      "83.00%, ll=0.00000, gf=0.275, secs=0.4, GB=0.01, MB/s=32.70, GPUmem=0.98\n",
      "86.00%, ll=0.00000, gf=0.285, secs=0.4, GB=0.01, MB/s=33.81, GPUmem=0.98\n",
      "90.00%, ll=0.00000, gf=0.294, secs=0.4, GB=0.01, MB/s=34.91, GPUmem=0.98\n",
      "93.00%, ll=0.00000, gf=0.305, secs=0.4, GB=0.01, MB/s=36.27, GPUmem=0.98\n",
      "96.00%, ll=0.00000, gf=0.315, secs=0.4, GB=0.01, MB/s=37.42, GPUmem=0.98\n",
      "100.00%, ll=0.00000, gf=0.323, secs=0.4, GB=0.01, MB/s=38.50, GPUmem=0.98\n",
      "Time=0.3660 secs, gflops=0.32\n"
     ]
    },
    {
     "data": {
      "text/plain": [
       "  0.00020220     0.99998     0.99999     0.99999     0.76872  0.00029059...\n",
       "  3.0089e-05      1.0000      1.0000      1.0000     0.89846  5.0510e-05...\n",
       "  5.3052e-07           1           1           1     0.98357  2.0036e-05...\n",
       "  1.4812e-23           1           1           1           1  5.7669e-20...\n",
       "  0.00042768     0.99997     0.99999     0.99999     0.74460  0.00053930...\n",
       "  6.2601e-05      1.0000      1.0000      1.0000     0.84036  0.00010468...\n",
       "  7.3177e-06           1      1.0000      1.0000     0.95748  9.3609e-06...\n",
       "  5.8293e-18           1           1           1     0.99985  5.1645e-15...\n",
       "          ..          ..          ..          ..          ..          ..\n"
      ]
     },
     "execution_count": 10,
     "metadata": {},
     "output_type": "execute_result"
    }
   ],
   "source": [
    "pp.predict\n",
    "val preds = FMat(pp.preds(0))"
   ]
  },
  {
   "cell_type": "code",
   "execution_count": 11,
   "metadata": {
    "collapsed": false
   },
   "outputs": [
    {
     "name": "stdout",
     "output_type": "stream",
     "text": []
    },
    {
     "data": {
      "text/plain": [
       "1"
      ]
     },
     "execution_count": 11,
     "metadata": {},
     "output_type": "execute_result"
    }
   ],
   "source": [
    "pp.model.asInstanceOf[GLM].mats.length"
   ]
  },
  {
   "cell_type": "markdown",
   "metadata": {},
   "source": [
    "Although ll values are printed above, they are not meaningful (there is no target to compare the prediction with). \n",
    "\n",
    "We can now compare the accuracy of predictions (preds matrix) with ground truth (the tcats matrix). "
   ]
  },
  {
   "cell_type": "code",
   "execution_count": 12,
   "metadata": {
    "collapsed": false
   },
   "outputs": [
    {
     "name": "stdout",
     "output_type": "stream",
     "text": []
    },
    {
     "data": {
      "text/plain": [
       "-0.23961"
      ]
     },
     "execution_count": 12,
     "metadata": {},
     "output_type": "execute_result"
    }
   ],
   "source": [
    "val vcats = targmap * tcats                                          // create some virtual cats\n",
    "val lls = mean(ln(1e-7f + vcats ∘ preds + (1-vcats) ∘ (1-preds)),2)  // actual logistic likelihood\n",
    "mean(lls)"
   ]
  },
  {
   "cell_type": "markdown",
   "metadata": {},
   "source": [
    "A more thorough measure is ROC area:"
   ]
  },
  {
   "cell_type": "code",
   "execution_count": 13,
   "metadata": {
    "collapsed": false
   },
   "outputs": [
    {
     "name": "stdout",
     "output_type": "stream",
     "text": []
    },
    {
     "data": {
      "text/plain": [
       "        0        0        0        0        0        0        0        0...\n",
       "  0.84452  0.82876  0.67050  0.72594  0.83775  0.83942  0.76525  0.72817...\n",
       "  0.88921  0.88569  0.79612  0.83757  0.88726  0.88837  0.84971  0.82579...\n",
       "  0.91906  0.91396  0.86260  0.88587  0.91758  0.91897  0.89496  0.88708...\n",
       "  0.93538  0.93176  0.90247  0.91155  0.93334  0.93501  0.92101  0.91433...\n",
       "  0.94604  0.94178  0.92518  0.92620  0.94474  0.94502  0.93492  0.93232...\n",
       "  0.95299  0.95031  0.94085  0.93575  0.95216  0.95272  0.94539  0.94215...\n",
       "  0.95782  0.95624  0.95095  0.94345  0.95744  0.95791  0.95290  0.95012...\n",
       "       ..       ..       ..       ..       ..       ..       ..       ..\n"
      ]
     },
     "execution_count": 13,
     "metadata": {},
     "output_type": "execute_result"
    }
   ],
   "source": [
    "val rocs = roc2(preds, vcats, 1-vcats, 100)   // Compute ROC curves for all categories"
   ]
  },
  {
   "cell_type": "code",
   "execution_count": 14,
   "metadata": {
    "collapsed": false
   },
   "outputs": [
    {
     "name": "stdout",
     "output_type": "stream",
     "text": []
    },
    {
     "data": {
      "image/png": "[encoded data removed]",
      "text/plain": [
       "BufferedImage@48e8b199: type = 2 DirectColorModel: rmask=ff0000 gmask=ff00 bmask=ff amask=ff000000 IntegerInterleavedRaster: width = 500 height = 400 #Bands = 4 xOff = 0 yOff = 0 dataOffset[0] 0"
      ]
     },
     "execution_count": 14,
     "metadata": {},
     "output_type": "execute_result"
    }
   ],
   "source": [
    "plot(rocs)"
   ]
  },
  {
   "cell_type": "code",
   "execution_count": 15,
   "metadata": {
    "collapsed": false
   },
   "outputs": [
    {
     "name": "stdout",
     "output_type": "stream",
     "text": []
    },
    {
     "data": {
      "text/plain": [
       "0.97689,0.97628,0.97272,0.97096,0.97659,0.97679,0.97456,0.97253,0.97606,0.97698,0.97540,0.97161,0.97517,0.97693,0.97605,0.97278,0.97390,0.97665,0.97632,0.97352"
      ]
     },
     "execution_count": 15,
     "metadata": {},
     "output_type": "execute_result"
    }
   ],
   "source": [
    "val aucs = mean(rocs)"
   ]
  },
  {
   "cell_type": "markdown",
   "metadata": {},
   "source": [
    "The maxi2 function will find the max value and its index."
   ]
  },
  {
   "cell_type": "code",
   "execution_count": 16,
   "metadata": {
    "collapsed": false
   },
   "outputs": [
    {
     "name": "stdout",
     "output_type": "stream",
     "text": []
    },
    {
     "data": {
      "text/plain": [
       "9"
      ]
     },
     "execution_count": 16,
     "metadata": {},
     "output_type": "execute_result"
    }
   ],
   "source": [
    "val (bestv, besti) = maxi2(aucs)"
   ]
  },
  {
   "cell_type": "markdown",
   "metadata": {},
   "source": [
    "And using the best index we can find the optimal parameters:"
   ]
  },
  {
   "cell_type": "code",
   "execution_count": 17,
   "metadata": {
    "collapsed": false
   },
   "outputs": [
    {
     "name": "stdout",
     "output_type": "stream",
     "text": []
    },
    {
     "data": {
      "text/plain": [
       "0.50000,0.10000"
      ]
     },
     "execution_count": 17,
     "metadata": {},
     "output_type": "execute_result"
    }
   ],
   "source": [
    "texpparams(besti) \\ lrateparams(besti)"
   ]
  },
  {
   "cell_type": "markdown",
   "metadata": {},
   "source": [
    "> Write the optimal values in the cell below:"
   ]
  },
  {
   "cell_type": "markdown",
   "metadata": {},
   "source": []
  },
  {
   "cell_type": "markdown",
   "metadata": {},
   "source": [
    "<b>Note:</b> although our parameters lay in a square grid, we could have enumerated any sequence of pairs, and we could have searched over more parameters. The learner infrastructure supports more intelligent model optimization (e.g. Bayesian methods). "
   ]
  },
  {
   "cell_type": "code",
   "execution_count": null,
   "metadata": {
    "collapsed": true
   },
   "outputs": [],
   "source": []
  }
 ],
 "metadata": {
  "kernelspec": {
   "display_name": "Python 2",
   "language": "python",
   "name": "python2"
  },
  "language_info": {
   "name": "scala",
   "version": "2.11.2"
  }
 },
 "nbformat": 4,
 "nbformat_minor": 0
}
